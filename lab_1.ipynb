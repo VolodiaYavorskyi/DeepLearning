{
  "nbformat": 4,
  "nbformat_minor": 0,
  "metadata": {
    "colab": {
      "name": "deep_learning_1.ipynb",
      "provenance": [],
      "collapsed_sections": []
    },
    "kernelspec": {
      "name": "python3",
      "display_name": "Python 3"
    },
    "language_info": {
      "name": "python"
    }
  },
  "cells": [
    {
      "cell_type": "code",
      "metadata": {
        "colab": {
          "base_uri": "https://localhost:8080/",
          "height": 69
        },
        "id": "b9AkSBi5qwNH",
        "outputId": "6fa0f7c2-8811-43c3-ff9c-0db9b21b9f30"
      },
      "source": [
        "%%time\n",
        "\n",
        "'Data Manipulation'"
      ],
      "execution_count": 1,
      "outputs": [
        {
          "output_type": "stream",
          "name": "stdout",
          "text": [
            "CPU times: user 3 µs, sys: 1e+03 ns, total: 4 µs\n",
            "Wall time: 7.63 µs\n"
          ]
        },
        {
          "output_type": "execute_result",
          "data": {
            "application/vnd.google.colaboratory.intrinsic+json": {
              "type": "string"
            },
            "text/plain": [
              "'Data Manipulation'"
            ]
          },
          "metadata": {},
          "execution_count": 1
        }
      ]
    },
    {
      "cell_type": "code",
      "metadata": {
        "colab": {
          "base_uri": "https://localhost:8080/"
        },
        "id": "Dqs8jfG5AKph",
        "outputId": "0018b9bd-13a8-4560-eccf-c5746517c224"
      },
      "source": [
        "%%time\n",
        "\n",
        "import torch"
      ],
      "execution_count": 2,
      "outputs": [
        {
          "output_type": "stream",
          "name": "stdout",
          "text": [
            "CPU times: user 460 ms, sys: 60.8 ms, total: 521 ms\n",
            "Wall time: 587 ms\n"
          ]
        }
      ]
    },
    {
      "cell_type": "code",
      "metadata": {
        "colab": {
          "base_uri": "https://localhost:8080/"
        },
        "id": "KMt67kXErjBU",
        "outputId": "14157a31-eb14-468e-fed4-40a0a37e8656"
      },
      "source": [
        "%%time\n",
        "\n",
        "x = torch.arange(12)\n",
        "x"
      ],
      "execution_count": 3,
      "outputs": [
        {
          "output_type": "stream",
          "name": "stdout",
          "text": [
            "CPU times: user 1.68 ms, sys: 0 ns, total: 1.68 ms\n",
            "Wall time: 4.34 ms\n"
          ]
        }
      ]
    },
    {
      "cell_type": "code",
      "metadata": {
        "colab": {
          "base_uri": "https://localhost:8080/"
        },
        "id": "dw65f677rqMR",
        "outputId": "57f3c82a-fa6c-455f-d931-7bc4f950f424"
      },
      "source": [
        "%%time\n",
        "\n",
        "x.shape"
      ],
      "execution_count": 4,
      "outputs": [
        {
          "output_type": "stream",
          "name": "stdout",
          "text": [
            "CPU times: user 28 µs, sys: 0 ns, total: 28 µs\n",
            "Wall time: 31.5 µs\n"
          ]
        },
        {
          "output_type": "execute_result",
          "data": {
            "text/plain": [
              "torch.Size([12])"
            ]
          },
          "metadata": {},
          "execution_count": 4
        }
      ]
    },
    {
      "cell_type": "code",
      "metadata": {
        "colab": {
          "base_uri": "https://localhost:8080/"
        },
        "id": "lV9cbbjsrqhq",
        "outputId": "d030ab7e-acf5-4087-c6ed-c52398aceb38"
      },
      "source": [
        "%%time\n",
        "\n",
        "x.numel()"
      ],
      "execution_count": 5,
      "outputs": [
        {
          "output_type": "stream",
          "name": "stdout",
          "text": [
            "CPU times: user 21 µs, sys: 4 µs, total: 25 µs\n",
            "Wall time: 29.6 µs\n"
          ]
        },
        {
          "output_type": "execute_result",
          "data": {
            "text/plain": [
              "12"
            ]
          },
          "metadata": {},
          "execution_count": 5
        }
      ]
    },
    {
      "cell_type": "code",
      "metadata": {
        "colab": {
          "base_uri": "https://localhost:8080/"
        },
        "id": "MvZ3nkfhrqzD",
        "outputId": "ada8e197-0b8d-4ae0-e44b-98917306a7a1"
      },
      "source": [
        "%%time\n",
        "\n",
        "X = x.reshape(3, 4)\n",
        "X"
      ],
      "execution_count": 6,
      "outputs": [
        {
          "output_type": "stream",
          "name": "stdout",
          "text": [
            "CPU times: user 1.51 ms, sys: 0 ns, total: 1.51 ms\n",
            "Wall time: 1.66 ms\n"
          ]
        }
      ]
    },
    {
      "cell_type": "code",
      "metadata": {
        "colab": {
          "base_uri": "https://localhost:8080/"
        },
        "id": "wF4vgPBorrH5",
        "outputId": "13b17021-019a-4bad-9995-0b8b6b427016"
      },
      "source": [
        "%%time\n",
        "\n",
        "torch.zeros((2, 3, 4))"
      ],
      "execution_count": 7,
      "outputs": [
        {
          "output_type": "stream",
          "name": "stdout",
          "text": [
            "CPU times: user 391 µs, sys: 884 µs, total: 1.28 ms\n",
            "Wall time: 1.81 ms\n"
          ]
        },
        {
          "output_type": "execute_result",
          "data": {
            "text/plain": [
              "tensor([[[0., 0., 0., 0.],\n",
              "         [0., 0., 0., 0.],\n",
              "         [0., 0., 0., 0.]],\n",
              "\n",
              "        [[0., 0., 0., 0.],\n",
              "         [0., 0., 0., 0.],\n",
              "         [0., 0., 0., 0.]]])"
            ]
          },
          "metadata": {},
          "execution_count": 7
        }
      ]
    },
    {
      "cell_type": "code",
      "metadata": {
        "colab": {
          "base_uri": "https://localhost:8080/"
        },
        "id": "b7SR7tglrrxB",
        "outputId": "e5986d29-267e-4a40-8e28-890895aab08c"
      },
      "source": [
        "%%time\n",
        "\n",
        "torch.ones((2, 3, 4))"
      ],
      "execution_count": 8,
      "outputs": [
        {
          "output_type": "stream",
          "name": "stdout",
          "text": [
            "CPU times: user 155 µs, sys: 30 µs, total: 185 µs\n",
            "Wall time: 345 µs\n"
          ]
        },
        {
          "output_type": "execute_result",
          "data": {
            "text/plain": [
              "tensor([[[1., 1., 1., 1.],\n",
              "         [1., 1., 1., 1.],\n",
              "         [1., 1., 1., 1.]],\n",
              "\n",
              "        [[1., 1., 1., 1.],\n",
              "         [1., 1., 1., 1.],\n",
              "         [1., 1., 1., 1.]]])"
            ]
          },
          "metadata": {},
          "execution_count": 8
        }
      ]
    },
    {
      "cell_type": "code",
      "metadata": {
        "colab": {
          "base_uri": "https://localhost:8080/"
        },
        "id": "8SqMvLNurtgA",
        "outputId": "417b963d-73bb-40bf-b144-d143a55a3e64"
      },
      "source": [
        "%%time\n",
        "\n",
        "torch.randn(3, 4)"
      ],
      "execution_count": 9,
      "outputs": [
        {
          "output_type": "stream",
          "name": "stdout",
          "text": [
            "CPU times: user 0 ns, sys: 244 µs, total: 244 µs\n",
            "Wall time: 415 µs\n"
          ]
        },
        {
          "output_type": "execute_result",
          "data": {
            "text/plain": [
              "tensor([[ 0.2342, -0.6581, -0.2461,  1.0967],\n",
              "        [-0.2103, -0.7012,  0.0670,  0.6374],\n",
              "        [-0.2899,  0.1156,  1.4713, -1.1664]])"
            ]
          },
          "metadata": {},
          "execution_count": 9
        }
      ]
    },
    {
      "cell_type": "code",
      "metadata": {
        "colab": {
          "base_uri": "https://localhost:8080/"
        },
        "id": "pZ9bXMbBrtov",
        "outputId": "07715119-e063-4c69-a9fb-f29fc695c967"
      },
      "source": [
        "%%time\n",
        "\n",
        "torch.tensor([[2, 1, 4, 3], [1, 2, 3, 4], [4, 3, 2, 1]])"
      ],
      "execution_count": 10,
      "outputs": [
        {
          "output_type": "stream",
          "name": "stdout",
          "text": [
            "CPU times: user 0 ns, sys: 145 µs, total: 145 µs\n",
            "Wall time: 151 µs\n"
          ]
        },
        {
          "output_type": "execute_result",
          "data": {
            "text/plain": [
              "tensor([[2, 1, 4, 3],\n",
              "        [1, 2, 3, 4],\n",
              "        [4, 3, 2, 1]])"
            ]
          },
          "metadata": {},
          "execution_count": 10
        }
      ]
    },
    {
      "cell_type": "code",
      "metadata": {
        "colab": {
          "base_uri": "https://localhost:8080/"
        },
        "id": "LE7S-_aOrtru",
        "outputId": "7fb25c91-a3c9-44e4-cd35-56693a3852f2"
      },
      "source": [
        "%%time\n",
        "\n",
        "x = torch.tensor([1.0, 2, 4, 8])\n",
        "y = torch.tensor([2, 2, 2, 2])\n",
        "x + y, x - y, x * y, x / y, x**y  # The ** operator is exponentiation"
      ],
      "execution_count": 11,
      "outputs": [
        {
          "output_type": "stream",
          "name": "stdout",
          "text": [
            "CPU times: user 288 µs, sys: 55 µs, total: 343 µs\n",
            "Wall time: 353 µs\n"
          ]
        }
      ]
    },
    {
      "cell_type": "code",
      "metadata": {
        "colab": {
          "base_uri": "https://localhost:8080/"
        },
        "id": "M3pQw7mFrtuc",
        "outputId": "87b4ae40-a55d-4aff-fd9a-e2eb52fbbb33"
      },
      "source": [
        "%%time\n",
        "\n",
        "torch.exp(x)"
      ],
      "execution_count": 12,
      "outputs": [
        {
          "output_type": "stream",
          "name": "stdout",
          "text": [
            "CPU times: user 178 µs, sys: 34 µs, total: 212 µs\n",
            "Wall time: 220 µs\n"
          ]
        },
        {
          "output_type": "execute_result",
          "data": {
            "text/plain": [
              "tensor([2.7183e+00, 7.3891e+00, 5.4598e+01, 2.9810e+03])"
            ]
          },
          "metadata": {},
          "execution_count": 12
        }
      ]
    },
    {
      "cell_type": "code",
      "metadata": {
        "colab": {
          "base_uri": "https://localhost:8080/"
        },
        "id": "PAVYm_zWrtw8",
        "outputId": "0e19e17f-75c0-4a64-8a4b-f07944449297"
      },
      "source": [
        "%%time\n",
        "\n",
        "X = torch.arange(12, dtype=torch.float32).reshape((3, 4))\n",
        "Y = torch.tensor([[2.0, 1, 4, 3], [1, 2, 3, 4], [4, 3, 2, 1]])\n",
        "torch.cat((X, Y), dim=0), torch.cat((X, Y), dim=1)"
      ],
      "execution_count": 13,
      "outputs": [
        {
          "output_type": "stream",
          "name": "stdout",
          "text": [
            "CPU times: user 374 µs, sys: 0 ns, total: 374 µs\n",
            "Wall time: 562 µs\n"
          ]
        }
      ]
    },
    {
      "cell_type": "code",
      "metadata": {
        "colab": {
          "base_uri": "https://localhost:8080/"
        },
        "id": "WkTfytOzrtzX",
        "outputId": "d451a10c-4f53-4b23-e408-c8c256c21401"
      },
      "source": [
        "%%time\n",
        "\n",
        "X > Y"
      ],
      "execution_count": 14,
      "outputs": [
        {
          "output_type": "stream",
          "name": "stdout",
          "text": [
            "CPU times: user 147 µs, sys: 0 ns, total: 147 µs\n",
            "Wall time: 97.3 µs\n"
          ]
        },
        {
          "output_type": "execute_result",
          "data": {
            "text/plain": [
              "tensor([[False, False, False, False],\n",
              "        [ True,  True,  True,  True],\n",
              "        [ True,  True,  True,  True]])"
            ]
          },
          "metadata": {},
          "execution_count": 14
        }
      ]
    },
    {
      "cell_type": "code",
      "metadata": {
        "colab": {
          "base_uri": "https://localhost:8080/"
        },
        "id": "Ya8oDsxQrt13",
        "outputId": "c3353c77-8d97-499f-ed79-2156d287549b"
      },
      "source": [
        "%%time\n",
        "\n",
        "X.sum()"
      ],
      "execution_count": 15,
      "outputs": [
        {
          "output_type": "stream",
          "name": "stdout",
          "text": [
            "CPU times: user 571 µs, sys: 0 ns, total: 571 µs\n",
            "Wall time: 545 µs\n"
          ]
        },
        {
          "output_type": "execute_result",
          "data": {
            "text/plain": [
              "tensor(66.)"
            ]
          },
          "metadata": {},
          "execution_count": 15
        }
      ]
    },
    {
      "cell_type": "code",
      "metadata": {
        "colab": {
          "base_uri": "https://localhost:8080/"
        },
        "id": "fTqGRtmhrt4V",
        "outputId": "b1aecdd8-21c7-412f-9ce8-3cce7b8a800b"
      },
      "source": [
        "%%time\n",
        "\n",
        "a = torch.arange(3).reshape((3, 1))\n",
        "b = torch.arange(2).reshape((1, 2))\n",
        "a, b"
      ],
      "execution_count": 16,
      "outputs": [
        {
          "output_type": "stream",
          "name": "stdout",
          "text": [
            "CPU times: user 328 µs, sys: 0 ns, total: 328 µs\n",
            "Wall time: 338 µs\n"
          ]
        }
      ]
    },
    {
      "cell_type": "code",
      "metadata": {
        "colab": {
          "base_uri": "https://localhost:8080/"
        },
        "id": "4FW-HQ3Lrt7h",
        "outputId": "e79349dc-2e92-4ef5-b422-984092c11939"
      },
      "source": [
        "%%time\n",
        "\n",
        "a + b"
      ],
      "execution_count": 17,
      "outputs": [
        {
          "output_type": "stream",
          "name": "stdout",
          "text": [
            "CPU times: user 78 µs, sys: 14 µs, total: 92 µs\n",
            "Wall time: 98.5 µs\n"
          ]
        },
        {
          "output_type": "execute_result",
          "data": {
            "text/plain": [
              "tensor([[0, 1],\n",
              "        [1, 2],\n",
              "        [2, 3]])"
            ]
          },
          "metadata": {},
          "execution_count": 17
        }
      ]
    },
    {
      "cell_type": "code",
      "metadata": {
        "colab": {
          "base_uri": "https://localhost:8080/"
        },
        "id": "7XAYLr_6rt-M",
        "outputId": "33ebda45-115a-4e96-bf17-65cbff089337"
      },
      "source": [
        "%%time\n",
        "\n",
        "a + b"
      ],
      "execution_count": 18,
      "outputs": [
        {
          "output_type": "stream",
          "name": "stdout",
          "text": [
            "CPU times: user 67 µs, sys: 13 µs, total: 80 µs\n",
            "Wall time: 84.2 µs\n"
          ]
        },
        {
          "output_type": "execute_result",
          "data": {
            "text/plain": [
              "tensor([[0, 1],\n",
              "        [1, 2],\n",
              "        [2, 3]])"
            ]
          },
          "metadata": {},
          "execution_count": 18
        }
      ]
    },
    {
      "cell_type": "code",
      "metadata": {
        "colab": {
          "base_uri": "https://localhost:8080/"
        },
        "id": "_Lhv3bvZruA7",
        "outputId": "ae9f4c2d-d149-48f7-dc10-0812f21b3fe5"
      },
      "source": [
        "%%time\n",
        "\n",
        "X[1, 2] = 9\n",
        "X"
      ],
      "execution_count": 19,
      "outputs": [
        {
          "output_type": "stream",
          "name": "stdout",
          "text": [
            "CPU times: user 114 µs, sys: 0 ns, total: 114 µs\n",
            "Wall time: 133 µs\n"
          ]
        }
      ]
    },
    {
      "cell_type": "code",
      "metadata": {
        "colab": {
          "base_uri": "https://localhost:8080/"
        },
        "id": "HCNuUiGtruDd",
        "outputId": "dd036696-7cff-45ed-bdb0-4dfdd4cdec62"
      },
      "source": [
        "%%time\n",
        "\n",
        "X[0:2, :] = 12\n",
        "X"
      ],
      "execution_count": 20,
      "outputs": [
        {
          "output_type": "stream",
          "name": "stdout",
          "text": [
            "CPU times: user 201 µs, sys: 0 ns, total: 201 µs\n",
            "Wall time: 414 µs\n"
          ]
        }
      ]
    },
    {
      "cell_type": "code",
      "metadata": {
        "colab": {
          "base_uri": "https://localhost:8080/"
        },
        "id": "z6Me8YXXruGP",
        "outputId": "e76f666a-12d9-4cb4-aa7c-7e2a0db183ee"
      },
      "source": [
        "%%time\n",
        "\n",
        "before = id(Y)\n",
        "Y = Y + X\n",
        "id(Y) == before"
      ],
      "execution_count": 21,
      "outputs": [
        {
          "output_type": "stream",
          "name": "stdout",
          "text": [
            "CPU times: user 68 µs, sys: 13 µs, total: 81 µs\n",
            "Wall time: 85.6 µs\n"
          ]
        }
      ]
    },
    {
      "cell_type": "code",
      "metadata": {
        "colab": {
          "base_uri": "https://localhost:8080/"
        },
        "id": "5uWGCETgruI3",
        "outputId": "e844b00a-f036-4086-a05a-23d820ce4a71"
      },
      "source": [
        "%%time\n",
        "\n",
        "Z = torch.zeros_like(Y)\n",
        "print('id(Z):', id(Z))\n",
        "Z[:] = X + Y\n",
        "print('id(Z):', id(Z))"
      ],
      "execution_count": 22,
      "outputs": [
        {
          "output_type": "stream",
          "name": "stdout",
          "text": [
            "id(Z): 140299190396640\n",
            "id(Z): 140299190396640\n",
            "CPU times: user 1.45 ms, sys: 898 µs, total: 2.35 ms\n",
            "Wall time: 3.52 ms\n"
          ]
        }
      ]
    },
    {
      "cell_type": "code",
      "metadata": {
        "colab": {
          "base_uri": "https://localhost:8080/"
        },
        "id": "Ma65EuiSruLy",
        "outputId": "27e606b3-ab5e-4c33-8de4-fb059d62b90d"
      },
      "source": [
        "%%time\n",
        "\n",
        "before = id(X)\n",
        "X += Y\n",
        "id(X) == before"
      ],
      "execution_count": 23,
      "outputs": [
        {
          "output_type": "stream",
          "name": "stdout",
          "text": [
            "CPU times: user 155 µs, sys: 0 ns, total: 155 µs\n",
            "Wall time: 163 µs\n"
          ]
        }
      ]
    },
    {
      "cell_type": "code",
      "metadata": {
        "colab": {
          "base_uri": "https://localhost:8080/"
        },
        "id": "HUBh38dZruOJ",
        "outputId": "b9431aea-23da-47a1-b10f-6ce3956210e2"
      },
      "source": [
        "%%time\n",
        "\n",
        "A = X.numpy()\n",
        "B = torch.from_numpy(A)\n",
        "type(A), type(B)"
      ],
      "execution_count": 24,
      "outputs": [
        {
          "output_type": "stream",
          "name": "stdout",
          "text": [
            "CPU times: user 136 µs, sys: 0 ns, total: 136 µs\n",
            "Wall time: 143 µs\n"
          ]
        }
      ]
    },
    {
      "cell_type": "code",
      "metadata": {
        "colab": {
          "base_uri": "https://localhost:8080/"
        },
        "id": "jOyvB3HMruUc",
        "outputId": "c162dc9b-d52c-4c7f-fb7d-ed52ebb5863d"
      },
      "source": [
        "%%time\n",
        "\n",
        "a = torch.tensor([3.5])\n",
        "a, a.item(), float(a), int(a)"
      ],
      "execution_count": 25,
      "outputs": [
        {
          "output_type": "stream",
          "name": "stdout",
          "text": [
            "CPU times: user 91 µs, sys: 17 µs, total: 108 µs\n",
            "Wall time: 113 µs\n"
          ]
        }
      ]
    },
    {
      "cell_type": "code",
      "metadata": {
        "colab": {
          "base_uri": "https://localhost:8080/",
          "height": 69
        },
        "id": "X9lUB7r2ruXb",
        "outputId": "1d596273-ac88-4614-fc4a-552acbb5db52"
      },
      "source": [
        "%%time\n",
        "\n",
        "'Data Preprocessing'"
      ],
      "execution_count": 26,
      "outputs": [
        {
          "output_type": "stream",
          "name": "stdout",
          "text": [
            "CPU times: user 4 µs, sys: 0 ns, total: 4 µs\n",
            "Wall time: 8.58 µs\n"
          ]
        },
        {
          "output_type": "execute_result",
          "data": {
            "application/vnd.google.colaboratory.intrinsic+json": {
              "type": "string"
            },
            "text/plain": [
              "'Data Preprocessing'"
            ]
          },
          "metadata": {},
          "execution_count": 26
        }
      ]
    },
    {
      "cell_type": "code",
      "metadata": {
        "colab": {
          "base_uri": "https://localhost:8080/"
        },
        "id": "mSoBmz6UruaT",
        "outputId": "516f822a-f8af-47f3-cf62-68ee43885b20"
      },
      "source": [
        "%%time\n",
        "\n",
        "import os\n",
        "\n",
        "os.makedirs(os.path.join('..', 'data'), exist_ok=True)\n",
        "data_file = os.path.join('..', 'data', 'house_tiny.csv')\n",
        "with open(data_file, 'w') as f:\n",
        "    f.write('NumRooms,Alley,Price\\n')  # Column names\n",
        "    f.write('NA,Pave,127500\\n')  # Each row represents a data example\n",
        "    f.write('2,NA,106000\\n')\n",
        "    f.write('4,NA,178100\\n')\n",
        "    f.write('NA,NA,140000\\n')"
      ],
      "execution_count": 27,
      "outputs": [
        {
          "output_type": "stream",
          "name": "stdout",
          "text": [
            "CPU times: user 2.98 ms, sys: 0 ns, total: 2.98 ms\n",
            "Wall time: 3.12 ms\n"
          ]
        }
      ]
    },
    {
      "cell_type": "code",
      "metadata": {
        "colab": {
          "base_uri": "https://localhost:8080/"
        },
        "id": "XmP5AAjMruc6",
        "outputId": "4f75a640-e96a-4cd8-d2d7-cafcac83a695"
      },
      "source": [
        "%%time\n",
        "\n",
        "# If pandas is not installed, just uncomment the following line:\n",
        "# !pip install pandas\n",
        "import pandas as pd\n",
        "\n",
        "data = pd.read_csv(data_file)\n",
        "print(data)"
      ],
      "execution_count": 28,
      "outputs": [
        {
          "output_type": "stream",
          "name": "stdout",
          "text": [
            "   NumRooms Alley   Price\n",
            "0       NaN  Pave  127500\n",
            "1       2.0   NaN  106000\n",
            "2       4.0   NaN  178100\n",
            "3       NaN   NaN  140000\n",
            "CPU times: user 18.7 ms, sys: 970 µs, total: 19.7 ms\n",
            "Wall time: 21.9 ms\n"
          ]
        }
      ]
    },
    {
      "cell_type": "code",
      "metadata": {
        "colab": {
          "base_uri": "https://localhost:8080/"
        },
        "id": "2CO863J1rugD",
        "outputId": "9b8b862b-acef-4b18-9924-3cbb2e3c8c1c"
      },
      "source": [
        "%%time\n",
        "\n",
        "inputs, outputs = data.iloc[:, 0:2], data.iloc[:, 2]\n",
        "inputs = inputs.fillna(inputs.mean())\n",
        "print(inputs)"
      ],
      "execution_count": 29,
      "outputs": [
        {
          "output_type": "stream",
          "name": "stdout",
          "text": [
            "   NumRooms Alley\n",
            "0       3.0  Pave\n",
            "1       2.0   NaN\n",
            "2       4.0   NaN\n",
            "3       3.0   NaN\n",
            "CPU times: user 13.7 ms, sys: 1.12 ms, total: 14.8 ms\n",
            "Wall time: 17.6 ms\n"
          ]
        }
      ]
    },
    {
      "cell_type": "code",
      "metadata": {
        "colab": {
          "base_uri": "https://localhost:8080/"
        },
        "id": "kufLacwjruin",
        "outputId": "1b95b1fc-7e71-4f5b-9974-b9da928b2a67"
      },
      "source": [
        "%%time\n",
        "\n",
        "inputs = pd.get_dummies(inputs, dummy_na=True)\n",
        "print(inputs)"
      ],
      "execution_count": 30,
      "outputs": [
        {
          "output_type": "stream",
          "name": "stdout",
          "text": [
            "   NumRooms  Alley_Pave  Alley_nan\n",
            "0       3.0           1          0\n",
            "1       2.0           0          1\n",
            "2       4.0           0          1\n",
            "3       3.0           0          1\n",
            "CPU times: user 12.1 ms, sys: 0 ns, total: 12.1 ms\n",
            "Wall time: 12.6 ms\n"
          ]
        }
      ]
    },
    {
      "cell_type": "code",
      "metadata": {
        "colab": {
          "base_uri": "https://localhost:8080/"
        },
        "id": "TelSt0dwrulQ",
        "outputId": "ed3fbacf-80ce-455f-c315-6bdb653677af"
      },
      "source": [
        "%%time\n",
        "\n",
        "import torch\n",
        "\n",
        "X, y = torch.tensor(inputs.values), torch.tensor(outputs.values)\n",
        "X, y"
      ],
      "execution_count": 31,
      "outputs": [
        {
          "output_type": "stream",
          "name": "stdout",
          "text": [
            "CPU times: user 1.26 ms, sys: 222 µs, total: 1.48 ms\n",
            "Wall time: 1.24 ms\n"
          ]
        }
      ]
    },
    {
      "cell_type": "code",
      "metadata": {
        "colab": {
          "base_uri": "https://localhost:8080/"
        },
        "id": "OqtRDUGEruoJ",
        "outputId": "a2fb3936-f0df-407c-84e8-7c329e653354"
      },
      "source": [
        "%%time\n",
        "\n",
        "outputs.loc[outputs!= outputs.max()]"
      ],
      "execution_count": 32,
      "outputs": [
        {
          "output_type": "stream",
          "name": "stdout",
          "text": [
            "CPU times: user 6.44 ms, sys: 900 µs, total: 7.34 ms\n",
            "Wall time: 8.67 ms\n"
          ]
        },
        {
          "output_type": "execute_result",
          "data": {
            "text/plain": [
              "0    127500\n",
              "1    106000\n",
              "3    140000\n",
              "Name: Price, dtype: int64"
            ]
          },
          "metadata": {},
          "execution_count": 32
        }
      ]
    },
    {
      "cell_type": "code",
      "metadata": {
        "colab": {
          "base_uri": "https://localhost:8080/",
          "height": 69
        },
        "id": "TJRH9OQbruq-",
        "outputId": "b9a2ff1e-348f-418b-a23c-06c040fc9bcd"
      },
      "source": [
        "%%time\n",
        "\n",
        "'Linear Algebra'"
      ],
      "execution_count": 33,
      "outputs": [
        {
          "output_type": "stream",
          "name": "stdout",
          "text": [
            "CPU times: user 2 µs, sys: 0 ns, total: 2 µs\n",
            "Wall time: 5.96 µs\n"
          ]
        },
        {
          "output_type": "execute_result",
          "data": {
            "application/vnd.google.colaboratory.intrinsic+json": {
              "type": "string"
            },
            "text/plain": [
              "'Linear Algebra'"
            ]
          },
          "metadata": {},
          "execution_count": 33
        }
      ]
    },
    {
      "cell_type": "code",
      "metadata": {
        "colab": {
          "base_uri": "https://localhost:8080/"
        },
        "id": "v4NhBo04rutl",
        "outputId": "f3871c1b-ca30-434c-f25e-e510aede1732"
      },
      "source": [
        "%%time\n",
        "\n",
        "import torch\n",
        "\n",
        "x = torch.tensor(3.0)\n",
        "y = torch.tensor(2.0)\n",
        "\n",
        "x + y, x * y, x / y, x**y"
      ],
      "execution_count": 34,
      "outputs": [
        {
          "output_type": "stream",
          "name": "stdout",
          "text": [
            "CPU times: user 2.31 ms, sys: 54 µs, total: 2.36 ms\n",
            "Wall time: 2.42 ms\n"
          ]
        }
      ]
    },
    {
      "cell_type": "code",
      "metadata": {
        "colab": {
          "base_uri": "https://localhost:8080/"
        },
        "id": "zfoU8Y6sruxF",
        "outputId": "dac50236-b952-4598-902e-a7d0d247bac2"
      },
      "source": [
        "%%time\n",
        "\n",
        "x = torch.arange(4)\n",
        "x"
      ],
      "execution_count": 35,
      "outputs": [
        {
          "output_type": "stream",
          "name": "stdout",
          "text": [
            "CPU times: user 82 µs, sys: 15 µs, total: 97 µs\n",
            "Wall time: 103 µs\n"
          ]
        }
      ]
    },
    {
      "cell_type": "code",
      "metadata": {
        "colab": {
          "base_uri": "https://localhost:8080/"
        },
        "id": "MC4OPiCvruzE",
        "outputId": "9fa8be9f-abdc-46be-9654-ec55bbc4151d"
      },
      "source": [
        "%%time\n",
        "\n",
        "x[3]"
      ],
      "execution_count": 36,
      "outputs": [
        {
          "output_type": "stream",
          "name": "stdout",
          "text": [
            "CPU times: user 51 µs, sys: 0 ns, total: 51 µs\n",
            "Wall time: 54.8 µs\n"
          ]
        },
        {
          "output_type": "execute_result",
          "data": {
            "text/plain": [
              "tensor(3)"
            ]
          },
          "metadata": {},
          "execution_count": 36
        }
      ]
    },
    {
      "cell_type": "code",
      "metadata": {
        "colab": {
          "base_uri": "https://localhost:8080/"
        },
        "id": "7XPU078Vru2R",
        "outputId": "0ba58379-f32f-46d9-9c16-57e3c82b4c0f"
      },
      "source": [
        "%%time\n",
        "\n",
        "len(x)"
      ],
      "execution_count": 37,
      "outputs": [
        {
          "output_type": "stream",
          "name": "stdout",
          "text": [
            "CPU times: user 32 µs, sys: 5 µs, total: 37 µs\n",
            "Wall time: 41.2 µs\n"
          ]
        },
        {
          "output_type": "execute_result",
          "data": {
            "text/plain": [
              "4"
            ]
          },
          "metadata": {},
          "execution_count": 37
        }
      ]
    },
    {
      "cell_type": "code",
      "metadata": {
        "colab": {
          "base_uri": "https://localhost:8080/"
        },
        "id": "sZ1c8CUUru5D",
        "outputId": "2c9e07af-ba5e-465b-ab43-7a3085203097"
      },
      "source": [
        "%%time\n",
        "\n",
        "x.shape"
      ],
      "execution_count": 38,
      "outputs": [
        {
          "output_type": "stream",
          "name": "stdout",
          "text": [
            "CPU times: user 16 µs, sys: 3 µs, total: 19 µs\n",
            "Wall time: 21.9 µs\n"
          ]
        },
        {
          "output_type": "execute_result",
          "data": {
            "text/plain": [
              "torch.Size([4])"
            ]
          },
          "metadata": {},
          "execution_count": 38
        }
      ]
    },
    {
      "cell_type": "code",
      "metadata": {
        "colab": {
          "base_uri": "https://localhost:8080/"
        },
        "id": "iMWV_bs3B27x",
        "outputId": "e6e91988-bea4-45f4-9bc7-436a6dfd9d71"
      },
      "source": [
        "%%time\n",
        "\n",
        "A = torch.arange(20).reshape(5, 4)\n",
        "A"
      ],
      "execution_count": 39,
      "outputs": [
        {
          "output_type": "stream",
          "name": "stdout",
          "text": [
            "CPU times: user 270 µs, sys: 875 µs, total: 1.15 ms\n",
            "Wall time: 1.06 ms\n"
          ]
        }
      ]
    },
    {
      "cell_type": "code",
      "metadata": {
        "colab": {
          "base_uri": "https://localhost:8080/"
        },
        "id": "U4lER4r3B3No",
        "outputId": "3b5d2db5-012f-4b53-926a-5dbbc21e1436"
      },
      "source": [
        "%%time\n",
        "\n",
        "A.T"
      ],
      "execution_count": 40,
      "outputs": [
        {
          "output_type": "stream",
          "name": "stdout",
          "text": [
            "CPU times: user 52 µs, sys: 9 µs, total: 61 µs\n",
            "Wall time: 66.3 µs\n"
          ]
        },
        {
          "output_type": "execute_result",
          "data": {
            "text/plain": [
              "tensor([[ 0,  4,  8, 12, 16],\n",
              "        [ 1,  5,  9, 13, 17],\n",
              "        [ 2,  6, 10, 14, 18],\n",
              "        [ 3,  7, 11, 15, 19]])"
            ]
          },
          "metadata": {},
          "execution_count": 40
        }
      ]
    },
    {
      "cell_type": "code",
      "metadata": {
        "colab": {
          "base_uri": "https://localhost:8080/"
        },
        "id": "uw1fR2Q-B3em",
        "outputId": "1dd6363f-f6a4-4172-b6df-eb7a9035bf8a"
      },
      "source": [
        "%%time\n",
        "\n",
        "B = torch.tensor([[1, 2, 3], [2, 0, 4], [3, 4, 5]])\n",
        "B"
      ],
      "execution_count": 41,
      "outputs": [
        {
          "output_type": "stream",
          "name": "stdout",
          "text": [
            "CPU times: user 415 µs, sys: 73 µs, total: 488 µs\n",
            "Wall time: 410 µs\n"
          ]
        }
      ]
    },
    {
      "cell_type": "code",
      "metadata": {
        "colab": {
          "base_uri": "https://localhost:8080/"
        },
        "id": "Th1UNHJ_B3ry",
        "outputId": "97f5903d-4139-485c-e8f0-2245fdfe9036"
      },
      "source": [
        "%%time\n",
        "\n",
        "B == B.T"
      ],
      "execution_count": 42,
      "outputs": [
        {
          "output_type": "stream",
          "name": "stdout",
          "text": [
            "CPU times: user 137 µs, sys: 0 ns, total: 137 µs\n",
            "Wall time: 143 µs\n"
          ]
        },
        {
          "output_type": "execute_result",
          "data": {
            "text/plain": [
              "tensor([[True, True, True],\n",
              "        [True, True, True],\n",
              "        [True, True, True]])"
            ]
          },
          "metadata": {},
          "execution_count": 42
        }
      ]
    },
    {
      "cell_type": "code",
      "metadata": {
        "colab": {
          "base_uri": "https://localhost:8080/"
        },
        "id": "g-xBJ-UeB35S",
        "outputId": "ab041f98-2cd8-4830-b874-8a0a3b0c982e"
      },
      "source": [
        "%%time\n",
        "\n",
        "X = torch.arange(24).reshape(2, 3, 4)\n",
        "X"
      ],
      "execution_count": 43,
      "outputs": [
        {
          "output_type": "stream",
          "name": "stdout",
          "text": [
            "CPU times: user 110 µs, sys: 19 µs, total: 129 µs\n",
            "Wall time: 136 µs\n"
          ]
        }
      ]
    },
    {
      "cell_type": "code",
      "metadata": {
        "colab": {
          "base_uri": "https://localhost:8080/"
        },
        "id": "8qzZak-XB4J8",
        "outputId": "d73991b3-10a5-48ff-bac1-05cf194f894d"
      },
      "source": [
        "%%time\n",
        "\n",
        "A = torch.arange(20, dtype=torch.float32).reshape(5, 4)\n",
        "B = A.clone()  # Assign a copy of `A` to `B` by allocating new memory\n",
        "A, A + B"
      ],
      "execution_count": 44,
      "outputs": [
        {
          "output_type": "stream",
          "name": "stdout",
          "text": [
            "CPU times: user 2.1 ms, sys: 17 µs, total: 2.12 ms\n",
            "Wall time: 2.63 ms\n"
          ]
        }
      ]
    },
    {
      "cell_type": "code",
      "metadata": {
        "colab": {
          "base_uri": "https://localhost:8080/"
        },
        "id": "dJ9piqlqB4XG",
        "outputId": "f5f2f682-256b-44dc-af49-18c8febd69e7"
      },
      "source": [
        "%%time\n",
        "\n",
        "A * B"
      ],
      "execution_count": 45,
      "outputs": [
        {
          "output_type": "stream",
          "name": "stdout",
          "text": [
            "CPU times: user 69 µs, sys: 0 ns, total: 69 µs\n",
            "Wall time: 73.9 µs\n"
          ]
        },
        {
          "output_type": "execute_result",
          "data": {
            "text/plain": [
              "tensor([[  0.,   1.,   4.,   9.],\n",
              "        [ 16.,  25.,  36.,  49.],\n",
              "        [ 64.,  81., 100., 121.],\n",
              "        [144., 169., 196., 225.],\n",
              "        [256., 289., 324., 361.]])"
            ]
          },
          "metadata": {},
          "execution_count": 45
        }
      ]
    },
    {
      "cell_type": "code",
      "metadata": {
        "colab": {
          "base_uri": "https://localhost:8080/"
        },
        "id": "1W4Z28GLB4lp",
        "outputId": "d8aa588a-bf6e-4153-cdc3-23edc5b15c1e"
      },
      "source": [
        "%%time\n",
        "\n",
        "a = 2\n",
        "X = torch.arange(24).reshape(2, 3, 4)\n",
        "a + X, (a * X).shape"
      ],
      "execution_count": 46,
      "outputs": [
        {
          "output_type": "stream",
          "name": "stdout",
          "text": [
            "CPU times: user 1.39 ms, sys: 66 µs, total: 1.45 ms\n",
            "Wall time: 1.9 ms\n"
          ]
        }
      ]
    },
    {
      "cell_type": "code",
      "metadata": {
        "colab": {
          "base_uri": "https://localhost:8080/"
        },
        "id": "xZoU-PtvB46S",
        "outputId": "6e004819-f085-4a15-d369-418f5fdc1d2d"
      },
      "source": [
        "%%time\n",
        "\n",
        "x = torch.arange(4, dtype=torch.float32)\n",
        "x, x.sum()"
      ],
      "execution_count": 47,
      "outputs": [
        {
          "output_type": "stream",
          "name": "stdout",
          "text": [
            "CPU times: user 1.18 ms, sys: 0 ns, total: 1.18 ms\n",
            "Wall time: 1.56 ms\n"
          ]
        }
      ]
    },
    {
      "cell_type": "code",
      "metadata": {
        "colab": {
          "base_uri": "https://localhost:8080/"
        },
        "id": "_oem0JjHB5TH",
        "outputId": "b5cff04b-72be-4fa0-89a4-0f336c1ba0b7"
      },
      "source": [
        "%%time\n",
        "\n",
        "A.shape, A.sum()"
      ],
      "execution_count": 48,
      "outputs": [
        {
          "output_type": "stream",
          "name": "stdout",
          "text": [
            "CPU times: user 1.13 ms, sys: 0 ns, total: 1.13 ms\n",
            "Wall time: 1.19 ms\n"
          ]
        },
        {
          "output_type": "execute_result",
          "data": {
            "text/plain": [
              "(torch.Size([5, 4]), tensor(190.))"
            ]
          },
          "metadata": {},
          "execution_count": 48
        }
      ]
    },
    {
      "cell_type": "code",
      "metadata": {
        "colab": {
          "base_uri": "https://localhost:8080/"
        },
        "id": "vI5N_tk7B5la",
        "outputId": "ac5fbd28-2127-4518-e4e8-10aa2ae88b21"
      },
      "source": [
        "%%time\n",
        "\n",
        "A_sum_axis0 = A.sum(axis=0)\n",
        "A_sum_axis0, A_sum_axis0.shape"
      ],
      "execution_count": 49,
      "outputs": [
        {
          "output_type": "stream",
          "name": "stdout",
          "text": [
            "CPU times: user 108 µs, sys: 18 µs, total: 126 µs\n",
            "Wall time: 133 µs\n"
          ]
        }
      ]
    },
    {
      "cell_type": "code",
      "metadata": {
        "colab": {
          "base_uri": "https://localhost:8080/"
        },
        "id": "RzUKg4YzB5yO",
        "outputId": "b15df3fb-df46-42fb-fe3a-4fa0daa884ce"
      },
      "source": [
        "%%time\n",
        "\n",
        "A_sum_axis1 = A.sum(axis=1)\n",
        "A_sum_axis1, A_sum_axis1.shape"
      ],
      "execution_count": 50,
      "outputs": [
        {
          "output_type": "stream",
          "name": "stdout",
          "text": [
            "CPU times: user 90 µs, sys: 15 µs, total: 105 µs\n",
            "Wall time: 111 µs\n"
          ]
        }
      ]
    },
    {
      "cell_type": "code",
      "metadata": {
        "colab": {
          "base_uri": "https://localhost:8080/"
        },
        "id": "Soi3uMl2B6Du",
        "outputId": "c8e5aa15-a4aa-4bb6-d78b-8af49c63a421"
      },
      "source": [
        "%%time\n",
        "\n",
        "A.sum(axis=[0, 1])  # Same as `A.sum()`"
      ],
      "execution_count": 51,
      "outputs": [
        {
          "output_type": "stream",
          "name": "stdout",
          "text": [
            "CPU times: user 88 µs, sys: 14 µs, total: 102 µs\n",
            "Wall time: 108 µs\n"
          ]
        },
        {
          "output_type": "execute_result",
          "data": {
            "text/plain": [
              "tensor(190.)"
            ]
          },
          "metadata": {},
          "execution_count": 51
        }
      ]
    },
    {
      "cell_type": "code",
      "metadata": {
        "colab": {
          "base_uri": "https://localhost:8080/"
        },
        "id": "bL2T-Du0B6SI",
        "outputId": "1c2ee7a4-572e-4d53-9da3-6fe77c81bbfe"
      },
      "source": [
        "%%time\n",
        "\n",
        "A.mean(), A.sum() / A.numel()"
      ],
      "execution_count": 52,
      "outputs": [
        {
          "output_type": "stream",
          "name": "stdout",
          "text": [
            "CPU times: user 366 µs, sys: 0 ns, total: 366 µs\n",
            "Wall time: 687 µs\n"
          ]
        },
        {
          "output_type": "execute_result",
          "data": {
            "text/plain": [
              "(tensor(9.5000), tensor(9.5000))"
            ]
          },
          "metadata": {},
          "execution_count": 52
        }
      ]
    },
    {
      "cell_type": "code",
      "metadata": {
        "colab": {
          "base_uri": "https://localhost:8080/"
        },
        "id": "c2T_v6z8B6m3",
        "outputId": "82efc32e-a05d-42f5-a740-472107a97a6b"
      },
      "source": [
        "%%time\n",
        "\n",
        "A.mean(axis=0), A.sum(axis=0) / A.shape[0]"
      ],
      "execution_count": 53,
      "outputs": [
        {
          "output_type": "stream",
          "name": "stdout",
          "text": [
            "CPU times: user 408 µs, sys: 69 µs, total: 477 µs\n",
            "Wall time: 487 µs\n"
          ]
        },
        {
          "output_type": "execute_result",
          "data": {
            "text/plain": [
              "(tensor([ 8.,  9., 10., 11.]), tensor([ 8.,  9., 10., 11.]))"
            ]
          },
          "metadata": {},
          "execution_count": 53
        }
      ]
    },
    {
      "cell_type": "code",
      "metadata": {
        "colab": {
          "base_uri": "https://localhost:8080/"
        },
        "id": "q1ZP2HiuB60t",
        "outputId": "8d8c55a8-5936-47a6-c68e-f6283c365b45"
      },
      "source": [
        "%%time\n",
        "\n",
        "sum_A = A.sum(axis=1, keepdims=True)\n",
        "sum_A"
      ],
      "execution_count": 54,
      "outputs": [
        {
          "output_type": "stream",
          "name": "stdout",
          "text": [
            "CPU times: user 75 µs, sys: 13 µs, total: 88 µs\n",
            "Wall time: 93 µs\n"
          ]
        }
      ]
    },
    {
      "cell_type": "code",
      "metadata": {
        "colab": {
          "base_uri": "https://localhost:8080/"
        },
        "id": "bKjZHx2AB8YQ",
        "outputId": "92000bd6-a807-4b33-fc2b-ffa31b3acc83"
      },
      "source": [
        "%%time\n",
        "\n",
        "A / sum_A"
      ],
      "execution_count": 55,
      "outputs": [
        {
          "output_type": "stream",
          "name": "stdout",
          "text": [
            "CPU times: user 90 µs, sys: 0 ns, total: 90 µs\n",
            "Wall time: 95.4 µs\n"
          ]
        },
        {
          "output_type": "execute_result",
          "data": {
            "text/plain": [
              "tensor([[0.0000, 0.1667, 0.3333, 0.5000],\n",
              "        [0.1818, 0.2273, 0.2727, 0.3182],\n",
              "        [0.2105, 0.2368, 0.2632, 0.2895],\n",
              "        [0.2222, 0.2407, 0.2593, 0.2778],\n",
              "        [0.2286, 0.2429, 0.2571, 0.2714]])"
            ]
          },
          "metadata": {},
          "execution_count": 55
        }
      ]
    },
    {
      "cell_type": "code",
      "metadata": {
        "colab": {
          "base_uri": "https://localhost:8080/"
        },
        "id": "yFHN_dd-B8ll",
        "outputId": "3a68cd90-f03a-4b2c-b693-619f6163e2cd"
      },
      "source": [
        "%%time\n",
        "\n",
        "A.cumsum(axis=0)"
      ],
      "execution_count": 56,
      "outputs": [
        {
          "output_type": "stream",
          "name": "stdout",
          "text": [
            "CPU times: user 165 µs, sys: 0 ns, total: 165 µs\n",
            "Wall time: 173 µs\n"
          ]
        },
        {
          "output_type": "execute_result",
          "data": {
            "text/plain": [
              "tensor([[ 0.,  1.,  2.,  3.],\n",
              "        [ 4.,  6.,  8., 10.],\n",
              "        [12., 15., 18., 21.],\n",
              "        [24., 28., 32., 36.],\n",
              "        [40., 45., 50., 55.]])"
            ]
          },
          "metadata": {},
          "execution_count": 56
        }
      ]
    },
    {
      "cell_type": "code",
      "metadata": {
        "colab": {
          "base_uri": "https://localhost:8080/"
        },
        "id": "JeS5KSHYB8ys",
        "outputId": "2b3fb5c5-1328-4d7a-8215-496f884c85a7"
      },
      "source": [
        "%%time\n",
        "\n",
        "y = torch.ones(4, dtype=torch.float32)\n",
        "x, y, torch.dot(x, y)"
      ],
      "execution_count": 57,
      "outputs": [
        {
          "output_type": "stream",
          "name": "stdout",
          "text": [
            "CPU times: user 226 µs, sys: 38 µs, total: 264 µs\n",
            "Wall time: 417 µs\n"
          ]
        }
      ]
    },
    {
      "cell_type": "code",
      "metadata": {
        "colab": {
          "base_uri": "https://localhost:8080/"
        },
        "id": "40iVh1PhB8_j",
        "outputId": "b784cd33-f11f-4bca-9af3-7f39727cd921"
      },
      "source": [
        "%%time\n",
        "\n",
        "torch.sum(x * y)"
      ],
      "execution_count": 58,
      "outputs": [
        {
          "output_type": "stream",
          "name": "stdout",
          "text": [
            "CPU times: user 509 µs, sys: 0 ns, total: 509 µs\n",
            "Wall time: 520 µs\n"
          ]
        },
        {
          "output_type": "execute_result",
          "data": {
            "text/plain": [
              "tensor(6.)"
            ]
          },
          "metadata": {},
          "execution_count": 58
        }
      ]
    },
    {
      "cell_type": "code",
      "metadata": {
        "colab": {
          "base_uri": "https://localhost:8080/"
        },
        "id": "6BKekCQkB9Le",
        "outputId": "b0824c2e-543b-41b4-afd8-dcb9d026a9b2"
      },
      "source": [
        "%%time\n",
        "\n",
        "A.shape, x.shape, torch.mv(A, x)"
      ],
      "execution_count": 59,
      "outputs": [
        {
          "output_type": "stream",
          "name": "stdout",
          "text": [
            "CPU times: user 374 µs, sys: 0 ns, total: 374 µs\n",
            "Wall time: 531 µs\n"
          ]
        },
        {
          "output_type": "execute_result",
          "data": {
            "text/plain": [
              "(torch.Size([5, 4]), torch.Size([4]), tensor([ 14.,  38.,  62.,  86., 110.]))"
            ]
          },
          "metadata": {},
          "execution_count": 59
        }
      ]
    },
    {
      "cell_type": "code",
      "metadata": {
        "colab": {
          "base_uri": "https://localhost:8080/"
        },
        "id": "3SLlfLFSB9aS",
        "outputId": "4b4fc794-4ae8-4f4b-d959-b972fe1d54fd"
      },
      "source": [
        "%%time\n",
        "\n",
        "B = torch.ones(4, 3)\n",
        "torch.mm(A, B)"
      ],
      "execution_count": 60,
      "outputs": [
        {
          "output_type": "stream",
          "name": "stdout",
          "text": [
            "CPU times: user 497 µs, sys: 0 ns, total: 497 µs\n",
            "Wall time: 507 µs\n"
          ]
        }
      ]
    },
    {
      "cell_type": "code",
      "metadata": {
        "colab": {
          "base_uri": "https://localhost:8080/"
        },
        "id": "unL2cWUsB9ok",
        "outputId": "6f05403f-ce05-4678-df15-f5be2955fb8a"
      },
      "source": [
        "%%time\n",
        "\n",
        "u = torch.tensor([3.0, -4.0])\n",
        "torch.norm(u)"
      ],
      "execution_count": 61,
      "outputs": [
        {
          "output_type": "stream",
          "name": "stdout",
          "text": [
            "CPU times: user 248 µs, sys: 41 µs, total: 289 µs\n",
            "Wall time: 401 µs\n"
          ]
        }
      ]
    },
    {
      "cell_type": "code",
      "metadata": {
        "colab": {
          "base_uri": "https://localhost:8080/"
        },
        "id": "FcqrC3KiCix9",
        "outputId": "55d9edfa-b480-42af-c732-92b04efd666a"
      },
      "source": [
        "%%time\n",
        "\n",
        "torch.abs(u).sum()"
      ],
      "execution_count": 62,
      "outputs": [
        {
          "output_type": "stream",
          "name": "stdout",
          "text": [
            "CPU times: user 203 µs, sys: 34 µs, total: 237 µs\n",
            "Wall time: 331 µs\n"
          ]
        },
        {
          "output_type": "execute_result",
          "data": {
            "text/plain": [
              "tensor(7.)"
            ]
          },
          "metadata": {},
          "execution_count": 62
        }
      ]
    },
    {
      "cell_type": "code",
      "metadata": {
        "colab": {
          "base_uri": "https://localhost:8080/"
        },
        "id": "Cd8EHsXwCjS6",
        "outputId": "2cabc8be-5996-48bf-9ebe-43ffe0419701"
      },
      "source": [
        "%%time\n",
        "\n",
        "torch.norm(torch.ones((4, 9)))"
      ],
      "execution_count": 63,
      "outputs": [
        {
          "output_type": "stream",
          "name": "stdout",
          "text": [
            "CPU times: user 132 µs, sys: 22 µs, total: 154 µs\n",
            "Wall time: 160 µs\n"
          ]
        },
        {
          "output_type": "execute_result",
          "data": {
            "text/plain": [
              "tensor(6.)"
            ]
          },
          "metadata": {},
          "execution_count": 63
        }
      ]
    },
    {
      "cell_type": "code",
      "metadata": {
        "colab": {
          "base_uri": "https://localhost:8080/"
        },
        "id": "oEw-LxVtFrzq",
        "outputId": "29d08502-8b25-4b92-c975-48a8a207c97e"
      },
      "source": [
        "A = torch.arange(10, dtype=torch.float32).reshape(2, 5)\n",
        "B = A.clone()  # Assign a copy of `A` to `B` by allocating new memory\n",
        "A, A + B"
      ],
      "execution_count": 64,
      "outputs": [
        {
          "output_type": "execute_result",
          "data": {
            "text/plain": [
              "(tensor([[0., 1., 2., 3., 4.],\n",
              "         [5., 6., 7., 8., 9.]]), tensor([[ 0.,  2.,  4.,  6.,  8.],\n",
              "         [10., 12., 14., 16., 18.]]))"
            ]
          },
          "metadata": {},
          "execution_count": 64
        }
      ]
    },
    {
      "cell_type": "code",
      "metadata": {
        "colab": {
          "base_uri": "https://localhost:8080/"
        },
        "id": "Zpd0xMxoCjWM",
        "outputId": "cb1e2ed1-e52d-490a-f55b-480ac9b1ef8c"
      },
      "source": [
        "%%time\n",
        "\n",
        "A == A.T.T"
      ],
      "execution_count": 65,
      "outputs": [
        {
          "output_type": "stream",
          "name": "stdout",
          "text": [
            "CPU times: user 94 µs, sys: 15 µs, total: 109 µs\n",
            "Wall time: 115 µs\n"
          ]
        },
        {
          "output_type": "execute_result",
          "data": {
            "text/plain": [
              "tensor([[True, True, True, True, True],\n",
              "        [True, True, True, True, True]])"
            ]
          },
          "metadata": {},
          "execution_count": 65
        }
      ]
    },
    {
      "cell_type": "code",
      "metadata": {
        "colab": {
          "base_uri": "https://localhost:8080/"
        },
        "id": "ECuwxQjbCjZI",
        "outputId": "3a045418-147d-4a86-e498-f718bca776e6"
      },
      "source": [
        "%%time\n",
        "\n",
        "(A.T + B.T) == (A + B).T"
      ],
      "execution_count": 66,
      "outputs": [
        {
          "output_type": "stream",
          "name": "stdout",
          "text": [
            "CPU times: user 123 µs, sys: 20 µs, total: 143 µs\n",
            "Wall time: 149 µs\n"
          ]
        },
        {
          "output_type": "execute_result",
          "data": {
            "text/plain": [
              "tensor([[True, True],\n",
              "        [True, True],\n",
              "        [True, True],\n",
              "        [True, True],\n",
              "        [True, True]])"
            ]
          },
          "metadata": {},
          "execution_count": 66
        }
      ]
    },
    {
      "cell_type": "code",
      "metadata": {
        "colab": {
          "base_uri": "https://localhost:8080/"
        },
        "id": "L-AP1Bc1Cjbc",
        "outputId": "53d04635-bd66-4565-b7b7-b15e4f2266bc"
      },
      "source": [
        "%%time\n",
        "\n",
        "len(X)"
      ],
      "execution_count": 67,
      "outputs": [
        {
          "output_type": "stream",
          "name": "stdout",
          "text": [
            "CPU times: user 48 µs, sys: 8 µs, total: 56 µs\n",
            "Wall time: 1.05 ms\n"
          ]
        },
        {
          "output_type": "execute_result",
          "data": {
            "text/plain": [
              "2"
            ]
          },
          "metadata": {},
          "execution_count": 67
        }
      ]
    },
    {
      "cell_type": "code",
      "metadata": {
        "colab": {
          "base_uri": "https://localhost:8080/"
        },
        "id": "11leZGnICjeV",
        "outputId": "8f42c957-1212-485d-ed3c-f8c30682544c"
      },
      "source": [
        "%%time\n",
        "\n",
        "# A / A.sum(axis=1)"
      ],
      "execution_count": 68,
      "outputs": [
        {
          "output_type": "stream",
          "name": "stdout",
          "text": [
            "CPU times: user 4 µs, sys: 1e+03 ns, total: 5 µs\n",
            "Wall time: 8.11 µs\n"
          ]
        }
      ]
    },
    {
      "cell_type": "code",
      "metadata": {
        "colab": {
          "base_uri": "https://localhost:8080/"
        },
        "id": "dASkhP2uCjhE",
        "outputId": "f61b374e-e55b-42df-82fd-a2b787b3f4d3"
      },
      "source": [
        "%%time\n",
        "\n",
        "import numpy.linalg as linalg\n",
        "\n",
        "linalg.norm(A)"
      ],
      "execution_count": 69,
      "outputs": [
        {
          "output_type": "stream",
          "name": "stdout",
          "text": [
            "CPU times: user 125 µs, sys: 20 µs, total: 145 µs\n",
            "Wall time: 152 µs\n"
          ]
        }
      ]
    },
    {
      "cell_type": "code",
      "metadata": {
        "colab": {
          "base_uri": "https://localhost:8080/",
          "height": 69
        },
        "id": "IHp9VzoRCjkF",
        "outputId": "f3ac9458-3313-4433-dd0c-74c8be211f23"
      },
      "source": [
        "%%time\n",
        "\n",
        "'Calculus'"
      ],
      "execution_count": 70,
      "outputs": [
        {
          "output_type": "stream",
          "name": "stdout",
          "text": [
            "CPU times: user 4 µs, sys: 0 ns, total: 4 µs\n",
            "Wall time: 9.06 µs\n"
          ]
        },
        {
          "output_type": "execute_result",
          "data": {
            "application/vnd.google.colaboratory.intrinsic+json": {
              "type": "string"
            },
            "text/plain": [
              "'Calculus'"
            ]
          },
          "metadata": {},
          "execution_count": 70
        }
      ]
    },
    {
      "cell_type": "code",
      "metadata": {
        "colab": {
          "base_uri": "https://localhost:8080/"
        },
        "id": "es2OQy_dCjmi",
        "outputId": "1126537e-a341-411f-ed8b-7ae750d6e7f1"
      },
      "source": [
        "%%time\n",
        "\n",
        "import numpy as np\n",
        "from IPython import display\n",
        "from d2l import torch as d2l\n",
        "\n",
        "\n",
        "def f(x):\n",
        "    return 3 * x ** 2 - 4 * x"
      ],
      "execution_count": 71,
      "outputs": [
        {
          "output_type": "stream",
          "name": "stdout",
          "text": [
            "CPU times: user 107 ms, sys: 22.2 ms, total: 129 ms\n",
            "Wall time: 137 ms\n"
          ]
        }
      ]
    },
    {
      "cell_type": "code",
      "metadata": {
        "colab": {
          "base_uri": "https://localhost:8080/"
        },
        "id": "tQtjzol2CjsT",
        "outputId": "c8d12f31-9455-4c6f-d18e-2a96de346996"
      },
      "source": [
        "%%time\n",
        "\n",
        "def numerical_lim(f, x, h):\n",
        "    return (f(x + h) - f(x)) / h\n",
        "\n",
        "h = 0.1\n",
        "for i in range(5):\n",
        "    print(f'h={h:.5f}, numerical limit={numerical_lim(f, 1, h):.5f}')\n",
        "    h *= 0.1"
      ],
      "execution_count": 72,
      "outputs": [
        {
          "output_type": "stream",
          "name": "stdout",
          "text": [
            "h=0.10000, numerical limit=2.30000\n",
            "h=0.01000, numerical limit=2.03000\n",
            "h=0.00100, numerical limit=2.00300\n",
            "h=0.00010, numerical limit=2.00030\n",
            "h=0.00001, numerical limit=2.00003\n",
            "CPU times: user 2.71 ms, sys: 954 µs, total: 3.66 ms\n",
            "Wall time: 3.68 ms\n"
          ]
        }
      ]
    },
    {
      "cell_type": "code",
      "metadata": {
        "colab": {
          "base_uri": "https://localhost:8080/"
        },
        "id": "D8e4oFu2Cjv5",
        "outputId": "e91e23b7-734f-45f3-9265-1a81dcb08928"
      },
      "source": [
        "%%time\n",
        "\n",
        "def use_svg_display():\n",
        "    \"\"\"Use the svg format to display a plot in Jupyter.\"\"\"\n",
        "    display.set_matplotlib_formats('svg')"
      ],
      "execution_count": 73,
      "outputs": [
        {
          "output_type": "stream",
          "name": "stdout",
          "text": [
            "CPU times: user 4 µs, sys: 0 ns, total: 4 µs\n",
            "Wall time: 8.82 µs\n"
          ]
        }
      ]
    },
    {
      "cell_type": "code",
      "metadata": {
        "colab": {
          "base_uri": "https://localhost:8080/"
        },
        "id": "nfJQR8MLCjxu",
        "outputId": "3fc63cca-247e-444f-bd08-2fae7c5edf71"
      },
      "source": [
        "%%time\n",
        "\n",
        "def set_figsize(figsize=(3.5, 2.5)):\n",
        "    \"\"\"Set the figure size for matplotlib.\"\"\"\n",
        "    use_svg_display()\n",
        "    d2l.plt.rcParams['figure.figsize'] = figsize"
      ],
      "execution_count": 74,
      "outputs": [
        {
          "output_type": "stream",
          "name": "stdout",
          "text": [
            "CPU times: user 4 µs, sys: 1 µs, total: 5 µs\n",
            "Wall time: 8.82 µs\n"
          ]
        }
      ]
    },
    {
      "cell_type": "code",
      "metadata": {
        "colab": {
          "base_uri": "https://localhost:8080/"
        },
        "id": "fuAmoNWICj1Z",
        "outputId": "cf1d1e52-6662-4657-c5bd-3faff6e63489"
      },
      "source": [
        "%%time\n",
        "\n",
        "def set_axes(axes, xlabel, ylabel, xlim, ylim, xscale, yscale, legend):\n",
        "    \"\"\"Set the axes for matplotlib.\"\"\"\n",
        "    axes.set_xlabel(xlabel)\n",
        "    axes.set_ylabel(ylabel)\n",
        "    axes.set_xscale(xscale)\n",
        "    axes.set_yscale(yscale)\n",
        "    axes.set_xlim(xlim)\n",
        "    axes.set_ylim(ylim)\n",
        "    if legend:\n",
        "        axes.legend(legend)\n",
        "    axes.grid()"
      ],
      "execution_count": 75,
      "outputs": [
        {
          "output_type": "stream",
          "name": "stdout",
          "text": [
            "CPU times: user 5 µs, sys: 0 ns, total: 5 µs\n",
            "Wall time: 10 µs\n"
          ]
        }
      ]
    },
    {
      "cell_type": "code",
      "metadata": {
        "colab": {
          "base_uri": "https://localhost:8080/"
        },
        "id": "SGzXyu2jCj3t",
        "outputId": "dc9fa027-c916-477a-aad3-c87f00599ee6"
      },
      "source": [
        "%%time\n",
        "\n",
        "def plot(X, Y=None, xlabel=None, ylabel=None, legend=None, xlim=None,\n",
        "         ylim=None, xscale='linear', yscale='linear',\n",
        "         fmts=('-', 'm--', 'g-.', 'r:'), figsize=(3.5, 2.5), axes=None):\n",
        "    \"\"\"Plot data points.\"\"\"\n",
        "    if legend is None:\n",
        "        legend = []\n",
        "\n",
        "    set_figsize(figsize)\n",
        "    axes = axes if axes else d2l.plt.gca()\n",
        "\n",
        "    # Return True if `X` (tensor or list) has 1 axis\n",
        "    def has_one_axis(X):\n",
        "        return (hasattr(X, \"ndim\") and X.ndim == 1 or\n",
        "                isinstance(X, list) and not hasattr(X[0], \"__len__\"))\n",
        "\n",
        "    if has_one_axis(X):\n",
        "        X = [X]\n",
        "    if Y is None:\n",
        "        X, Y = [[]] * len(X), X\n",
        "    elif has_one_axis(Y):\n",
        "        Y = [Y]\n",
        "    if len(X) != len(Y):\n",
        "        X = X * len(Y)\n",
        "    axes.cla()\n",
        "    for x, y, fmt in zip(X, Y, fmts):\n",
        "        if len(x):\n",
        "            axes.plot(x, y, fmt)\n",
        "        else:\n",
        "            axes.plot(y, fmt)\n",
        "    set_axes(axes, xlabel, ylabel, xlim, ylim, xscale, yscale, legend)"
      ],
      "execution_count": 76,
      "outputs": [
        {
          "output_type": "stream",
          "name": "stdout",
          "text": [
            "CPU times: user 4 µs, sys: 0 ns, total: 4 µs\n",
            "Wall time: 8.82 µs\n"
          ]
        }
      ]
    },
    {
      "cell_type": "code",
      "metadata": {
        "colab": {
          "base_uri": "https://localhost:8080/",
          "height": 295
        },
        "id": "H7KEnWYUNaws",
        "outputId": "9dfb0b67-8f95-48c9-c15a-b48d01d9aba2"
      },
      "source": [
        "%%time\n",
        "\n",
        "x = np.arange(0, 3, 0.1)\n",
        "plot(x, [f(x), 2 * x - 3], 'x', 'f(x)', legend=['f(x)', 'Tangent line (x=1)'])"
      ],
      "execution_count": 77,
      "outputs": [
        {
          "output_type": "stream",
          "name": "stdout",
          "text": [
            "CPU times: user 49.6 ms, sys: 2.08 ms, total: 51.7 ms\n",
            "Wall time: 53.9 ms\n"
          ]
        },
        {
          "output_type": "display_data",
          "data": {
            "text/plain": [
              "<Figure size 252x180 with 1 Axes>"
            ],
            "image/svg+xml": "<?xml version=\"1.0\" encoding=\"utf-8\" standalone=\"no\"?>\n<!DOCTYPE svg PUBLIC \"-//W3C//DTD SVG 1.1//EN\"\n  \"http://www.w3.org/Graphics/SVG/1.1/DTD/svg11.dtd\">\n<!-- Created with matplotlib (https://matplotlib.org/) -->\n<svg height=\"180.65625pt\" version=\"1.1\" viewBox=\"0 0 243.529359 180.65625\" width=\"243.529359pt\" xmlns=\"http://www.w3.org/2000/svg\" xmlns:xlink=\"http://www.w3.org/1999/xlink\">\n <defs>\n  <style type=\"text/css\">\n*{stroke-linecap:butt;stroke-linejoin:round;}\n  </style>\n </defs>\n <g id=\"figure_1\">\n  <g id=\"patch_1\">\n   <path d=\"M 0 180.65625 \nL 243.529359 180.65625 \nL 243.529359 0 \nL 0 0 \nz\n\" style=\"fill:none;\"/>\n  </g>\n  <g id=\"axes_1\">\n   <g id=\"patch_2\">\n    <path d=\"M 40.603125 143.1 \nL 235.903125 143.1 \nL 235.903125 7.2 \nL 40.603125 7.2 \nz\n\" style=\"fill:#ffffff;\"/>\n   </g>\n   <g id=\"matplotlib.axis_1\">\n    <g id=\"xtick_1\">\n     <g id=\"line2d_1\">\n      <path clip-path=\"url(#p2e3b7c36d7)\" d=\"M 49.480398 143.1 \nL 49.480398 7.2 \n\" style=\"fill:none;stroke:#b0b0b0;stroke-linecap:square;stroke-width:0.8;\"/>\n     </g>\n     <g id=\"line2d_2\">\n      <defs>\n       <path d=\"M 0 0 \nL 0 3.5 \n\" id=\"m7aec89394a\" style=\"stroke:#000000;stroke-width:0.8;\"/>\n      </defs>\n      <g>\n       <use style=\"stroke:#000000;stroke-width:0.8;\" x=\"49.480398\" xlink:href=\"#m7aec89394a\" y=\"143.1\"/>\n      </g>\n     </g>\n     <g id=\"text_1\">\n      <!-- 0 -->\n      <defs>\n       <path d=\"M 31.78125 66.40625 \nQ 24.171875 66.40625 20.328125 58.90625 \nQ 16.5 51.421875 16.5 36.375 \nQ 16.5 21.390625 20.328125 13.890625 \nQ 24.171875 6.390625 31.78125 6.390625 \nQ 39.453125 6.390625 43.28125 13.890625 \nQ 47.125 21.390625 47.125 36.375 \nQ 47.125 51.421875 43.28125 58.90625 \nQ 39.453125 66.40625 31.78125 66.40625 \nz\nM 31.78125 74.21875 \nQ 44.046875 74.21875 50.515625 64.515625 \nQ 56.984375 54.828125 56.984375 36.375 \nQ 56.984375 17.96875 50.515625 8.265625 \nQ 44.046875 -1.421875 31.78125 -1.421875 \nQ 19.53125 -1.421875 13.0625 8.265625 \nQ 6.59375 17.96875 6.59375 36.375 \nQ 6.59375 54.828125 13.0625 64.515625 \nQ 19.53125 74.21875 31.78125 74.21875 \nz\n\" id=\"DejaVuSans-48\"/>\n      </defs>\n      <g transform=\"translate(46.299148 157.698438)scale(0.1 -0.1)\">\n       <use xlink:href=\"#DejaVuSans-48\"/>\n      </g>\n     </g>\n    </g>\n    <g id=\"xtick_2\">\n     <g id=\"line2d_3\">\n      <path clip-path=\"url(#p2e3b7c36d7)\" d=\"M 110.702968 143.1 \nL 110.702968 7.2 \n\" style=\"fill:none;stroke:#b0b0b0;stroke-linecap:square;stroke-width:0.8;\"/>\n     </g>\n     <g id=\"line2d_4\">\n      <g>\n       <use style=\"stroke:#000000;stroke-width:0.8;\" x=\"110.702968\" xlink:href=\"#m7aec89394a\" y=\"143.1\"/>\n      </g>\n     </g>\n     <g id=\"text_2\">\n      <!-- 1 -->\n      <defs>\n       <path d=\"M 12.40625 8.296875 \nL 28.515625 8.296875 \nL 28.515625 63.921875 \nL 10.984375 60.40625 \nL 10.984375 69.390625 \nL 28.421875 72.90625 \nL 38.28125 72.90625 \nL 38.28125 8.296875 \nL 54.390625 8.296875 \nL 54.390625 0 \nL 12.40625 0 \nz\n\" id=\"DejaVuSans-49\"/>\n      </defs>\n      <g transform=\"translate(107.521718 157.698438)scale(0.1 -0.1)\">\n       <use xlink:href=\"#DejaVuSans-49\"/>\n      </g>\n     </g>\n    </g>\n    <g id=\"xtick_3\">\n     <g id=\"line2d_5\">\n      <path clip-path=\"url(#p2e3b7c36d7)\" d=\"M 171.925539 143.1 \nL 171.925539 7.2 \n\" style=\"fill:none;stroke:#b0b0b0;stroke-linecap:square;stroke-width:0.8;\"/>\n     </g>\n     <g id=\"line2d_6\">\n      <g>\n       <use style=\"stroke:#000000;stroke-width:0.8;\" x=\"171.925539\" xlink:href=\"#m7aec89394a\" y=\"143.1\"/>\n      </g>\n     </g>\n     <g id=\"text_3\">\n      <!-- 2 -->\n      <defs>\n       <path d=\"M 19.1875 8.296875 \nL 53.609375 8.296875 \nL 53.609375 0 \nL 7.328125 0 \nL 7.328125 8.296875 \nQ 12.9375 14.109375 22.625 23.890625 \nQ 32.328125 33.6875 34.8125 36.53125 \nQ 39.546875 41.84375 41.421875 45.53125 \nQ 43.3125 49.21875 43.3125 52.78125 \nQ 43.3125 58.59375 39.234375 62.25 \nQ 35.15625 65.921875 28.609375 65.921875 \nQ 23.96875 65.921875 18.8125 64.3125 \nQ 13.671875 62.703125 7.8125 59.421875 \nL 7.8125 69.390625 \nQ 13.765625 71.78125 18.9375 73 \nQ 24.125 74.21875 28.421875 74.21875 \nQ 39.75 74.21875 46.484375 68.546875 \nQ 53.21875 62.890625 53.21875 53.421875 \nQ 53.21875 48.921875 51.53125 44.890625 \nQ 49.859375 40.875 45.40625 35.40625 \nQ 44.1875 33.984375 37.640625 27.21875 \nQ 31.109375 20.453125 19.1875 8.296875 \nz\n\" id=\"DejaVuSans-50\"/>\n      </defs>\n      <g transform=\"translate(168.744289 157.698438)scale(0.1 -0.1)\">\n       <use xlink:href=\"#DejaVuSans-50\"/>\n      </g>\n     </g>\n    </g>\n    <g id=\"xtick_4\">\n     <g id=\"line2d_7\">\n      <path clip-path=\"url(#p2e3b7c36d7)\" d=\"M 233.148109 143.1 \nL 233.148109 7.2 \n\" style=\"fill:none;stroke:#b0b0b0;stroke-linecap:square;stroke-width:0.8;\"/>\n     </g>\n     <g id=\"line2d_8\">\n      <g>\n       <use style=\"stroke:#000000;stroke-width:0.8;\" x=\"233.148109\" xlink:href=\"#m7aec89394a\" y=\"143.1\"/>\n      </g>\n     </g>\n     <g id=\"text_4\">\n      <!-- 3 -->\n      <defs>\n       <path d=\"M 40.578125 39.3125 \nQ 47.65625 37.796875 51.625 33 \nQ 55.609375 28.21875 55.609375 21.1875 \nQ 55.609375 10.40625 48.1875 4.484375 \nQ 40.765625 -1.421875 27.09375 -1.421875 \nQ 22.515625 -1.421875 17.65625 -0.515625 \nQ 12.796875 0.390625 7.625 2.203125 \nL 7.625 11.71875 \nQ 11.71875 9.328125 16.59375 8.109375 \nQ 21.484375 6.890625 26.8125 6.890625 \nQ 36.078125 6.890625 40.9375 10.546875 \nQ 45.796875 14.203125 45.796875 21.1875 \nQ 45.796875 27.640625 41.28125 31.265625 \nQ 36.765625 34.90625 28.71875 34.90625 \nL 20.21875 34.90625 \nL 20.21875 43.015625 \nL 29.109375 43.015625 \nQ 36.375 43.015625 40.234375 45.921875 \nQ 44.09375 48.828125 44.09375 54.296875 \nQ 44.09375 59.90625 40.109375 62.90625 \nQ 36.140625 65.921875 28.71875 65.921875 \nQ 24.65625 65.921875 20.015625 65.03125 \nQ 15.375 64.15625 9.8125 62.3125 \nL 9.8125 71.09375 \nQ 15.4375 72.65625 20.34375 73.4375 \nQ 25.25 74.21875 29.59375 74.21875 \nQ 40.828125 74.21875 47.359375 69.109375 \nQ 53.90625 64.015625 53.90625 55.328125 \nQ 53.90625 49.265625 50.4375 45.09375 \nQ 46.96875 40.921875 40.578125 39.3125 \nz\n\" id=\"DejaVuSans-51\"/>\n      </defs>\n      <g transform=\"translate(229.966859 157.698438)scale(0.1 -0.1)\">\n       <use xlink:href=\"#DejaVuSans-51\"/>\n      </g>\n     </g>\n    </g>\n    <g id=\"text_5\">\n     <!-- x -->\n     <defs>\n      <path d=\"M 54.890625 54.6875 \nL 35.109375 28.078125 \nL 55.90625 0 \nL 45.3125 0 \nL 29.390625 21.484375 \nL 13.484375 0 \nL 2.875 0 \nL 24.125 28.609375 \nL 4.6875 54.6875 \nL 15.28125 54.6875 \nL 29.78125 35.203125 \nL 44.28125 54.6875 \nz\n\" id=\"DejaVuSans-120\"/>\n     </defs>\n     <g transform=\"translate(135.29375 171.376563)scale(0.1 -0.1)\">\n      <use xlink:href=\"#DejaVuSans-120\"/>\n     </g>\n    </g>\n   </g>\n   <g id=\"matplotlib.axis_2\">\n    <g id=\"ytick_1\">\n     <g id=\"line2d_9\">\n      <path clip-path=\"url(#p2e3b7c36d7)\" d=\"M 40.603125 114.635514 \nL 235.903125 114.635514 \n\" style=\"fill:none;stroke:#b0b0b0;stroke-linecap:square;stroke-width:0.8;\"/>\n     </g>\n     <g id=\"line2d_10\">\n      <defs>\n       <path d=\"M 0 0 \nL -3.5 0 \n\" id=\"m4bfdc276cf\" style=\"stroke:#000000;stroke-width:0.8;\"/>\n      </defs>\n      <g>\n       <use style=\"stroke:#000000;stroke-width:0.8;\" x=\"40.603125\" xlink:href=\"#m4bfdc276cf\" y=\"114.635514\"/>\n      </g>\n     </g>\n     <g id=\"text_6\">\n      <!-- 0 -->\n      <g transform=\"translate(27.240625 118.434732)scale(0.1 -0.1)\">\n       <use xlink:href=\"#DejaVuSans-48\"/>\n      </g>\n     </g>\n    </g>\n    <g id=\"ytick_2\">\n     <g id=\"line2d_11\">\n      <path clip-path=\"url(#p2e3b7c36d7)\" d=\"M 40.603125 77.490157 \nL 235.903125 77.490157 \n\" style=\"fill:none;stroke:#b0b0b0;stroke-linecap:square;stroke-width:0.8;\"/>\n     </g>\n     <g id=\"line2d_12\">\n      <g>\n       <use style=\"stroke:#000000;stroke-width:0.8;\" x=\"40.603125\" xlink:href=\"#m4bfdc276cf\" y=\"77.490157\"/>\n      </g>\n     </g>\n     <g id=\"text_7\">\n      <!-- 5 -->\n      <defs>\n       <path d=\"M 10.796875 72.90625 \nL 49.515625 72.90625 \nL 49.515625 64.59375 \nL 19.828125 64.59375 \nL 19.828125 46.734375 \nQ 21.96875 47.46875 24.109375 47.828125 \nQ 26.265625 48.1875 28.421875 48.1875 \nQ 40.625 48.1875 47.75 41.5 \nQ 54.890625 34.8125 54.890625 23.390625 \nQ 54.890625 11.625 47.5625 5.09375 \nQ 40.234375 -1.421875 26.90625 -1.421875 \nQ 22.3125 -1.421875 17.546875 -0.640625 \nQ 12.796875 0.140625 7.71875 1.703125 \nL 7.71875 11.625 \nQ 12.109375 9.234375 16.796875 8.0625 \nQ 21.484375 6.890625 26.703125 6.890625 \nQ 35.15625 6.890625 40.078125 11.328125 \nQ 45.015625 15.765625 45.015625 23.390625 \nQ 45.015625 31 40.078125 35.4375 \nQ 35.15625 39.890625 26.703125 39.890625 \nQ 22.75 39.890625 18.8125 39.015625 \nQ 14.890625 38.140625 10.796875 36.28125 \nz\n\" id=\"DejaVuSans-53\"/>\n      </defs>\n      <g transform=\"translate(27.240625 81.289376)scale(0.1 -0.1)\">\n       <use xlink:href=\"#DejaVuSans-53\"/>\n      </g>\n     </g>\n    </g>\n    <g id=\"ytick_3\">\n     <g id=\"line2d_13\">\n      <path clip-path=\"url(#p2e3b7c36d7)\" d=\"M 40.603125 40.344801 \nL 235.903125 40.344801 \n\" style=\"fill:none;stroke:#b0b0b0;stroke-linecap:square;stroke-width:0.8;\"/>\n     </g>\n     <g id=\"line2d_14\">\n      <g>\n       <use style=\"stroke:#000000;stroke-width:0.8;\" x=\"40.603125\" xlink:href=\"#m4bfdc276cf\" y=\"40.344801\"/>\n      </g>\n     </g>\n     <g id=\"text_8\">\n      <!-- 10 -->\n      <g transform=\"translate(20.878125 44.14402)scale(0.1 -0.1)\">\n       <use xlink:href=\"#DejaVuSans-49\"/>\n       <use x=\"63.623047\" xlink:href=\"#DejaVuSans-48\"/>\n      </g>\n     </g>\n    </g>\n    <g id=\"text_9\">\n     <!-- f(x) -->\n     <defs>\n      <path d=\"M 37.109375 75.984375 \nL 37.109375 68.5 \nL 28.515625 68.5 \nQ 23.6875 68.5 21.796875 66.546875 \nQ 19.921875 64.59375 19.921875 59.515625 \nL 19.921875 54.6875 \nL 34.71875 54.6875 \nL 34.71875 47.703125 \nL 19.921875 47.703125 \nL 19.921875 0 \nL 10.890625 0 \nL 10.890625 47.703125 \nL 2.296875 47.703125 \nL 2.296875 54.6875 \nL 10.890625 54.6875 \nL 10.890625 58.5 \nQ 10.890625 67.625 15.140625 71.796875 \nQ 19.390625 75.984375 28.609375 75.984375 \nz\n\" id=\"DejaVuSans-102\"/>\n      <path d=\"M 31 75.875 \nQ 24.46875 64.65625 21.28125 53.65625 \nQ 18.109375 42.671875 18.109375 31.390625 \nQ 18.109375 20.125 21.3125 9.0625 \nQ 24.515625 -2 31 -13.1875 \nL 23.1875 -13.1875 \nQ 15.875 -1.703125 12.234375 9.375 \nQ 8.59375 20.453125 8.59375 31.390625 \nQ 8.59375 42.28125 12.203125 53.3125 \nQ 15.828125 64.359375 23.1875 75.875 \nz\n\" id=\"DejaVuSans-40\"/>\n      <path d=\"M 8.015625 75.875 \nL 15.828125 75.875 \nQ 23.140625 64.359375 26.78125 53.3125 \nQ 30.421875 42.28125 30.421875 31.390625 \nQ 30.421875 20.453125 26.78125 9.375 \nQ 23.140625 -1.703125 15.828125 -13.1875 \nL 8.015625 -13.1875 \nQ 14.5 -2 17.703125 9.0625 \nQ 20.90625 20.125 20.90625 31.390625 \nQ 20.90625 42.671875 17.703125 53.65625 \nQ 14.5 64.65625 8.015625 75.875 \nz\n\" id=\"DejaVuSans-41\"/>\n     </defs>\n     <g transform=\"translate(14.798437 83.771094)rotate(-90)scale(0.1 -0.1)\">\n      <use xlink:href=\"#DejaVuSans-102\"/>\n      <use x=\"35.205078\" xlink:href=\"#DejaVuSans-40\"/>\n      <use x=\"74.21875\" xlink:href=\"#DejaVuSans-120\"/>\n      <use x=\"133.398438\" xlink:href=\"#DejaVuSans-41\"/>\n     </g>\n    </g>\n   </g>\n   <g id=\"line2d_15\">\n    <path clip-path=\"url(#p2e3b7c36d7)\" d=\"M 49.480398 114.635514 \nL 55.602655 117.38427 \nL 61.724912 119.687282 \nL 67.847169 121.54455 \nL 73.969426 122.956073 \nL 80.091683 123.921853 \nL 86.21394 124.441888 \nL 92.336197 124.516178 \nL 98.458454 124.144725 \nL 104.580711 123.327527 \nL 110.702968 122.064585 \nL 116.825225 120.355898 \nL 122.947482 118.201468 \nL 129.069739 115.601293 \nL 135.191996 112.555374 \nL 141.314254 109.06371 \nL 147.436511 105.126302 \nL 153.558768 100.74315 \nL 159.681025 95.914254 \nL 165.803282 90.639614 \nL 171.925539 84.919229 \nL 178.047796 78.7531 \nL 184.170053 72.141226 \nL 190.29231 65.083608 \nL 196.414567 57.580247 \nL 202.536824 49.63114 \nL 208.659081 41.23629 \nL 214.781338 32.395695 \nL 220.903595 23.109356 \nL 227.025852 13.377273 \n\" style=\"fill:none;stroke:#1f77b4;stroke-linecap:square;stroke-width:1.5;\"/>\n   </g>\n   <g id=\"line2d_16\">\n    <path clip-path=\"url(#p2e3b7c36d7)\" d=\"M 49.480398 136.922727 \nL 55.602655 135.436913 \nL 61.724912 133.951099 \nL 67.847169 132.465285 \nL 73.969426 130.97947 \nL 80.091683 129.493656 \nL 86.21394 128.007842 \nL 92.336197 126.522028 \nL 98.458454 125.036213 \nL 104.580711 123.550399 \nL 110.702968 122.064585 \nL 116.825225 120.578771 \nL 122.947482 119.092956 \nL 129.069739 117.607142 \nL 135.191996 116.121328 \nL 141.314254 114.635514 \nL 147.436511 113.149699 \nL 153.558768 111.663885 \nL 159.681025 110.178071 \nL 165.803282 108.692257 \nL 171.925539 107.206442 \nL 178.047796 105.720628 \nL 184.170053 104.234814 \nL 190.29231 102.749 \nL 196.414567 101.263185 \nL 202.536824 99.777371 \nL 208.659081 98.291557 \nL 214.781338 96.805743 \nL 220.903595 95.319928 \nL 227.025852 93.834114 \n\" style=\"fill:none;stroke:#bf00bf;stroke-dasharray:5.55,2.4;stroke-dashoffset:0;stroke-width:1.5;\"/>\n   </g>\n   <g id=\"patch_3\">\n    <path d=\"M 40.603125 143.1 \nL 40.603125 7.2 \n\" style=\"fill:none;stroke:#000000;stroke-linecap:square;stroke-linejoin:miter;stroke-width:0.8;\"/>\n   </g>\n   <g id=\"patch_4\">\n    <path d=\"M 235.903125 143.1 \nL 235.903125 7.2 \n\" style=\"fill:none;stroke:#000000;stroke-linecap:square;stroke-linejoin:miter;stroke-width:0.8;\"/>\n   </g>\n   <g id=\"patch_5\">\n    <path d=\"M 40.603125 143.1 \nL 235.903125 143.1 \n\" style=\"fill:none;stroke:#000000;stroke-linecap:square;stroke-linejoin:miter;stroke-width:0.8;\"/>\n   </g>\n   <g id=\"patch_6\">\n    <path d=\"M 40.603125 7.2 \nL 235.903125 7.2 \n\" style=\"fill:none;stroke:#000000;stroke-linecap:square;stroke-linejoin:miter;stroke-width:0.8;\"/>\n   </g>\n   <g id=\"legend_1\">\n    <g id=\"patch_7\">\n     <path d=\"M 47.603125 44.55625 \nL 172.153125 44.55625 \nQ 174.153125 44.55625 174.153125 42.55625 \nL 174.153125 14.2 \nQ 174.153125 12.2 172.153125 12.2 \nL 47.603125 12.2 \nQ 45.603125 12.2 45.603125 14.2 \nL 45.603125 42.55625 \nQ 45.603125 44.55625 47.603125 44.55625 \nz\n\" style=\"fill:#ffffff;opacity:0.8;stroke:#cccccc;stroke-linejoin:miter;\"/>\n    </g>\n    <g id=\"line2d_17\">\n     <path d=\"M 49.603125 20.298437 \nL 69.603125 20.298437 \n\" style=\"fill:none;stroke:#1f77b4;stroke-linecap:square;stroke-width:1.5;\"/>\n    </g>\n    <g id=\"line2d_18\"/>\n    <g id=\"text_10\">\n     <!-- f(x) -->\n     <g transform=\"translate(77.603125 23.798437)scale(0.1 -0.1)\">\n      <use xlink:href=\"#DejaVuSans-102\"/>\n      <use x=\"35.205078\" xlink:href=\"#DejaVuSans-40\"/>\n      <use x=\"74.21875\" xlink:href=\"#DejaVuSans-120\"/>\n      <use x=\"133.398438\" xlink:href=\"#DejaVuSans-41\"/>\n     </g>\n    </g>\n    <g id=\"line2d_19\">\n     <path d=\"M 49.603125 34.976562 \nL 69.603125 34.976562 \n\" style=\"fill:none;stroke:#bf00bf;stroke-dasharray:5.55,2.4;stroke-dashoffset:0;stroke-width:1.5;\"/>\n    </g>\n    <g id=\"line2d_20\"/>\n    <g id=\"text_11\">\n     <!-- Tangent line (x=1) -->\n     <defs>\n      <path d=\"M -0.296875 72.90625 \nL 61.375 72.90625 \nL 61.375 64.59375 \nL 35.5 64.59375 \nL 35.5 0 \nL 25.59375 0 \nL 25.59375 64.59375 \nL -0.296875 64.59375 \nz\n\" id=\"DejaVuSans-84\"/>\n      <path d=\"M 34.28125 27.484375 \nQ 23.390625 27.484375 19.1875 25 \nQ 14.984375 22.515625 14.984375 16.5 \nQ 14.984375 11.71875 18.140625 8.90625 \nQ 21.296875 6.109375 26.703125 6.109375 \nQ 34.1875 6.109375 38.703125 11.40625 \nQ 43.21875 16.703125 43.21875 25.484375 \nL 43.21875 27.484375 \nz\nM 52.203125 31.203125 \nL 52.203125 0 \nL 43.21875 0 \nL 43.21875 8.296875 \nQ 40.140625 3.328125 35.546875 0.953125 \nQ 30.953125 -1.421875 24.3125 -1.421875 \nQ 15.921875 -1.421875 10.953125 3.296875 \nQ 6 8.015625 6 15.921875 \nQ 6 25.140625 12.171875 29.828125 \nQ 18.359375 34.515625 30.609375 34.515625 \nL 43.21875 34.515625 \nL 43.21875 35.40625 \nQ 43.21875 41.609375 39.140625 45 \nQ 35.0625 48.390625 27.6875 48.390625 \nQ 23 48.390625 18.546875 47.265625 \nQ 14.109375 46.140625 10.015625 43.890625 \nL 10.015625 52.203125 \nQ 14.9375 54.109375 19.578125 55.046875 \nQ 24.21875 56 28.609375 56 \nQ 40.484375 56 46.34375 49.84375 \nQ 52.203125 43.703125 52.203125 31.203125 \nz\n\" id=\"DejaVuSans-97\"/>\n      <path d=\"M 54.890625 33.015625 \nL 54.890625 0 \nL 45.90625 0 \nL 45.90625 32.71875 \nQ 45.90625 40.484375 42.875 44.328125 \nQ 39.84375 48.1875 33.796875 48.1875 \nQ 26.515625 48.1875 22.3125 43.546875 \nQ 18.109375 38.921875 18.109375 30.90625 \nL 18.109375 0 \nL 9.078125 0 \nL 9.078125 54.6875 \nL 18.109375 54.6875 \nL 18.109375 46.1875 \nQ 21.34375 51.125 25.703125 53.5625 \nQ 30.078125 56 35.796875 56 \nQ 45.21875 56 50.046875 50.171875 \nQ 54.890625 44.34375 54.890625 33.015625 \nz\n\" id=\"DejaVuSans-110\"/>\n      <path d=\"M 45.40625 27.984375 \nQ 45.40625 37.75 41.375 43.109375 \nQ 37.359375 48.484375 30.078125 48.484375 \nQ 22.859375 48.484375 18.828125 43.109375 \nQ 14.796875 37.75 14.796875 27.984375 \nQ 14.796875 18.265625 18.828125 12.890625 \nQ 22.859375 7.515625 30.078125 7.515625 \nQ 37.359375 7.515625 41.375 12.890625 \nQ 45.40625 18.265625 45.40625 27.984375 \nz\nM 54.390625 6.78125 \nQ 54.390625 -7.171875 48.1875 -13.984375 \nQ 42 -20.796875 29.203125 -20.796875 \nQ 24.46875 -20.796875 20.265625 -20.09375 \nQ 16.0625 -19.390625 12.109375 -17.921875 \nL 12.109375 -9.1875 \nQ 16.0625 -11.328125 19.921875 -12.34375 \nQ 23.78125 -13.375 27.78125 -13.375 \nQ 36.625 -13.375 41.015625 -8.765625 \nQ 45.40625 -4.15625 45.40625 5.171875 \nL 45.40625 9.625 \nQ 42.625 4.78125 38.28125 2.390625 \nQ 33.9375 0 27.875 0 \nQ 17.828125 0 11.671875 7.65625 \nQ 5.515625 15.328125 5.515625 27.984375 \nQ 5.515625 40.671875 11.671875 48.328125 \nQ 17.828125 56 27.875 56 \nQ 33.9375 56 38.28125 53.609375 \nQ 42.625 51.21875 45.40625 46.390625 \nL 45.40625 54.6875 \nL 54.390625 54.6875 \nz\n\" id=\"DejaVuSans-103\"/>\n      <path d=\"M 56.203125 29.59375 \nL 56.203125 25.203125 \nL 14.890625 25.203125 \nQ 15.484375 15.921875 20.484375 11.0625 \nQ 25.484375 6.203125 34.421875 6.203125 \nQ 39.59375 6.203125 44.453125 7.46875 \nQ 49.3125 8.734375 54.109375 11.28125 \nL 54.109375 2.78125 \nQ 49.265625 0.734375 44.1875 -0.34375 \nQ 39.109375 -1.421875 33.890625 -1.421875 \nQ 20.796875 -1.421875 13.15625 6.1875 \nQ 5.515625 13.8125 5.515625 26.8125 \nQ 5.515625 40.234375 12.765625 48.109375 \nQ 20.015625 56 32.328125 56 \nQ 43.359375 56 49.78125 48.890625 \nQ 56.203125 41.796875 56.203125 29.59375 \nz\nM 47.21875 32.234375 \nQ 47.125 39.59375 43.09375 43.984375 \nQ 39.0625 48.390625 32.421875 48.390625 \nQ 24.90625 48.390625 20.390625 44.140625 \nQ 15.875 39.890625 15.1875 32.171875 \nz\n\" id=\"DejaVuSans-101\"/>\n      <path d=\"M 18.3125 70.21875 \nL 18.3125 54.6875 \nL 36.8125 54.6875 \nL 36.8125 47.703125 \nL 18.3125 47.703125 \nL 18.3125 18.015625 \nQ 18.3125 11.328125 20.140625 9.421875 \nQ 21.96875 7.515625 27.59375 7.515625 \nL 36.8125 7.515625 \nL 36.8125 0 \nL 27.59375 0 \nQ 17.1875 0 13.234375 3.875 \nQ 9.28125 7.765625 9.28125 18.015625 \nL 9.28125 47.703125 \nL 2.6875 47.703125 \nL 2.6875 54.6875 \nL 9.28125 54.6875 \nL 9.28125 70.21875 \nz\n\" id=\"DejaVuSans-116\"/>\n      <path id=\"DejaVuSans-32\"/>\n      <path d=\"M 9.421875 75.984375 \nL 18.40625 75.984375 \nL 18.40625 0 \nL 9.421875 0 \nz\n\" id=\"DejaVuSans-108\"/>\n      <path d=\"M 9.421875 54.6875 \nL 18.40625 54.6875 \nL 18.40625 0 \nL 9.421875 0 \nz\nM 9.421875 75.984375 \nL 18.40625 75.984375 \nL 18.40625 64.59375 \nL 9.421875 64.59375 \nz\n\" id=\"DejaVuSans-105\"/>\n      <path d=\"M 10.59375 45.40625 \nL 73.1875 45.40625 \nL 73.1875 37.203125 \nL 10.59375 37.203125 \nz\nM 10.59375 25.484375 \nL 73.1875 25.484375 \nL 73.1875 17.1875 \nL 10.59375 17.1875 \nz\n\" id=\"DejaVuSans-61\"/>\n     </defs>\n     <g transform=\"translate(77.603125 38.476562)scale(0.1 -0.1)\">\n      <use xlink:href=\"#DejaVuSans-84\"/>\n      <use x=\"44.583984\" xlink:href=\"#DejaVuSans-97\"/>\n      <use x=\"105.863281\" xlink:href=\"#DejaVuSans-110\"/>\n      <use x=\"169.242188\" xlink:href=\"#DejaVuSans-103\"/>\n      <use x=\"232.71875\" xlink:href=\"#DejaVuSans-101\"/>\n      <use x=\"294.242188\" xlink:href=\"#DejaVuSans-110\"/>\n      <use x=\"357.621094\" xlink:href=\"#DejaVuSans-116\"/>\n      <use x=\"396.830078\" xlink:href=\"#DejaVuSans-32\"/>\n      <use x=\"428.617188\" xlink:href=\"#DejaVuSans-108\"/>\n      <use x=\"456.400391\" xlink:href=\"#DejaVuSans-105\"/>\n      <use x=\"484.183594\" xlink:href=\"#DejaVuSans-110\"/>\n      <use x=\"547.5625\" xlink:href=\"#DejaVuSans-101\"/>\n      <use x=\"609.085938\" xlink:href=\"#DejaVuSans-32\"/>\n      <use x=\"640.873047\" xlink:href=\"#DejaVuSans-40\"/>\n      <use x=\"679.886719\" xlink:href=\"#DejaVuSans-120\"/>\n      <use x=\"739.066406\" xlink:href=\"#DejaVuSans-61\"/>\n      <use x=\"822.855469\" xlink:href=\"#DejaVuSans-49\"/>\n      <use x=\"886.478516\" xlink:href=\"#DejaVuSans-41\"/>\n     </g>\n    </g>\n   </g>\n  </g>\n </g>\n <defs>\n  <clipPath id=\"p2e3b7c36d7\">\n   <rect height=\"135.9\" width=\"195.3\" x=\"40.603125\" y=\"7.2\"/>\n  </clipPath>\n </defs>\n</svg>\n"
          },
          "metadata": {
            "needs_background": "light"
          }
        }
      ]
    },
    {
      "cell_type": "code",
      "metadata": {
        "colab": {
          "base_uri": "https://localhost:8080/",
          "height": 329
        },
        "id": "vHAW-9_pCj7A",
        "outputId": "e1476f52-e6a9-4de9-8100-9dd949010f3a"
      },
      "source": [
        "%%time\n",
        "\n",
        "def f(x):\n",
        "    return x ** 3 - 1 / x\n",
        "\n",
        "x = np.arange(0, 3, 0.1)\n",
        "plot(x, [f(x), 4 * x - 4], 'x', 'f(x)', legend=['f(x)', 'Tangent line (x=1)'])"
      ],
      "execution_count": 78,
      "outputs": [
        {
          "output_type": "stream",
          "name": "stderr",
          "text": [
            "/usr/local/lib/python3.7/dist-packages/ipykernel_launcher.py:3: RuntimeWarning: divide by zero encountered in true_divide\n",
            "  This is separate from the ipykernel package so we can avoid doing imports until\n"
          ]
        },
        {
          "output_type": "stream",
          "name": "stdout",
          "text": [
            "CPU times: user 128 ms, sys: 4.42 ms, total: 132 ms\n",
            "Wall time: 126 ms\n"
          ]
        },
        {
          "output_type": "display_data",
          "data": {
            "text/plain": [
              "<Figure size 252x180 with 1 Axes>"
            ],
            "image/svg+xml": "<?xml version=\"1.0\" encoding=\"utf-8\" standalone=\"no\"?>\n<!DOCTYPE svg PUBLIC \"-//W3C//DTD SVG 1.1//EN\"\n  \"http://www.w3.org/Graphics/SVG/1.1/DTD/svg11.dtd\">\n<!-- Created with matplotlib (https://matplotlib.org/) -->\n<svg height=\"180.65625pt\" version=\"1.1\" viewBox=\"0 0 251.909047 180.65625\" width=\"251.909047pt\" xmlns=\"http://www.w3.org/2000/svg\" xmlns:xlink=\"http://www.w3.org/1999/xlink\">\n <defs>\n  <style type=\"text/css\">\n*{stroke-linecap:butt;stroke-linejoin:round;}\n  </style>\n </defs>\n <g id=\"figure_1\">\n  <g id=\"patch_1\">\n   <path d=\"M -0 180.65625 \nL 251.909047 180.65625 \nL 251.909047 0 \nL -0 0 \nz\n\" style=\"fill:none;\"/>\n  </g>\n  <g id=\"axes_1\">\n   <g id=\"patch_2\">\n    <path d=\"M 48.982813 143.1 \nL 244.282813 143.1 \nL 244.282813 7.2 \nL 48.982813 7.2 \nz\n\" style=\"fill:#ffffff;\"/>\n   </g>\n   <g id=\"matplotlib.axis_1\">\n    <g id=\"xtick_1\">\n     <g id=\"line2d_1\">\n      <path clip-path=\"url(#p74e553ebf5)\" d=\"M 57.860085 143.1 \nL 57.860085 7.2 \n\" style=\"fill:none;stroke:#b0b0b0;stroke-linecap:square;stroke-width:0.8;\"/>\n     </g>\n     <g id=\"line2d_2\">\n      <defs>\n       <path d=\"M 0 0 \nL 0 3.5 \n\" id=\"ma4e02e3451\" style=\"stroke:#000000;stroke-width:0.8;\"/>\n      </defs>\n      <g>\n       <use style=\"stroke:#000000;stroke-width:0.8;\" x=\"57.860085\" xlink:href=\"#ma4e02e3451\" y=\"143.1\"/>\n      </g>\n     </g>\n     <g id=\"text_1\">\n      <!-- 0 -->\n      <defs>\n       <path d=\"M 31.78125 66.40625 \nQ 24.171875 66.40625 20.328125 58.90625 \nQ 16.5 51.421875 16.5 36.375 \nQ 16.5 21.390625 20.328125 13.890625 \nQ 24.171875 6.390625 31.78125 6.390625 \nQ 39.453125 6.390625 43.28125 13.890625 \nQ 47.125 21.390625 47.125 36.375 \nQ 47.125 51.421875 43.28125 58.90625 \nQ 39.453125 66.40625 31.78125 66.40625 \nz\nM 31.78125 74.21875 \nQ 44.046875 74.21875 50.515625 64.515625 \nQ 56.984375 54.828125 56.984375 36.375 \nQ 56.984375 17.96875 50.515625 8.265625 \nQ 44.046875 -1.421875 31.78125 -1.421875 \nQ 19.53125 -1.421875 13.0625 8.265625 \nQ 6.59375 17.96875 6.59375 36.375 \nQ 6.59375 54.828125 13.0625 64.515625 \nQ 19.53125 74.21875 31.78125 74.21875 \nz\n\" id=\"DejaVuSans-48\"/>\n      </defs>\n      <g transform=\"translate(54.678835 157.698438)scale(0.1 -0.1)\">\n       <use xlink:href=\"#DejaVuSans-48\"/>\n      </g>\n     </g>\n    </g>\n    <g id=\"xtick_2\">\n     <g id=\"line2d_3\">\n      <path clip-path=\"url(#p74e553ebf5)\" d=\"M 119.082656 143.1 \nL 119.082656 7.2 \n\" style=\"fill:none;stroke:#b0b0b0;stroke-linecap:square;stroke-width:0.8;\"/>\n     </g>\n     <g id=\"line2d_4\">\n      <g>\n       <use style=\"stroke:#000000;stroke-width:0.8;\" x=\"119.082656\" xlink:href=\"#ma4e02e3451\" y=\"143.1\"/>\n      </g>\n     </g>\n     <g id=\"text_2\">\n      <!-- 1 -->\n      <defs>\n       <path d=\"M 12.40625 8.296875 \nL 28.515625 8.296875 \nL 28.515625 63.921875 \nL 10.984375 60.40625 \nL 10.984375 69.390625 \nL 28.421875 72.90625 \nL 38.28125 72.90625 \nL 38.28125 8.296875 \nL 54.390625 8.296875 \nL 54.390625 0 \nL 12.40625 0 \nz\n\" id=\"DejaVuSans-49\"/>\n      </defs>\n      <g transform=\"translate(115.901406 157.698438)scale(0.1 -0.1)\">\n       <use xlink:href=\"#DejaVuSans-49\"/>\n      </g>\n     </g>\n    </g>\n    <g id=\"xtick_3\">\n     <g id=\"line2d_5\">\n      <path clip-path=\"url(#p74e553ebf5)\" d=\"M 180.305226 143.1 \nL 180.305226 7.2 \n\" style=\"fill:none;stroke:#b0b0b0;stroke-linecap:square;stroke-width:0.8;\"/>\n     </g>\n     <g id=\"line2d_6\">\n      <g>\n       <use style=\"stroke:#000000;stroke-width:0.8;\" x=\"180.305226\" xlink:href=\"#ma4e02e3451\" y=\"143.1\"/>\n      </g>\n     </g>\n     <g id=\"text_3\">\n      <!-- 2 -->\n      <defs>\n       <path d=\"M 19.1875 8.296875 \nL 53.609375 8.296875 \nL 53.609375 0 \nL 7.328125 0 \nL 7.328125 8.296875 \nQ 12.9375 14.109375 22.625 23.890625 \nQ 32.328125 33.6875 34.8125 36.53125 \nQ 39.546875 41.84375 41.421875 45.53125 \nQ 43.3125 49.21875 43.3125 52.78125 \nQ 43.3125 58.59375 39.234375 62.25 \nQ 35.15625 65.921875 28.609375 65.921875 \nQ 23.96875 65.921875 18.8125 64.3125 \nQ 13.671875 62.703125 7.8125 59.421875 \nL 7.8125 69.390625 \nQ 13.765625 71.78125 18.9375 73 \nQ 24.125 74.21875 28.421875 74.21875 \nQ 39.75 74.21875 46.484375 68.546875 \nQ 53.21875 62.890625 53.21875 53.421875 \nQ 53.21875 48.921875 51.53125 44.890625 \nQ 49.859375 40.875 45.40625 35.40625 \nQ 44.1875 33.984375 37.640625 27.21875 \nQ 31.109375 20.453125 19.1875 8.296875 \nz\n\" id=\"DejaVuSans-50\"/>\n      </defs>\n      <g transform=\"translate(177.123976 157.698438)scale(0.1 -0.1)\">\n       <use xlink:href=\"#DejaVuSans-50\"/>\n      </g>\n     </g>\n    </g>\n    <g id=\"xtick_4\">\n     <g id=\"line2d_7\">\n      <path clip-path=\"url(#p74e553ebf5)\" d=\"M 241.527797 143.1 \nL 241.527797 7.2 \n\" style=\"fill:none;stroke:#b0b0b0;stroke-linecap:square;stroke-width:0.8;\"/>\n     </g>\n     <g id=\"line2d_8\">\n      <g>\n       <use style=\"stroke:#000000;stroke-width:0.8;\" x=\"241.527797\" xlink:href=\"#ma4e02e3451\" y=\"143.1\"/>\n      </g>\n     </g>\n     <g id=\"text_4\">\n      <!-- 3 -->\n      <defs>\n       <path d=\"M 40.578125 39.3125 \nQ 47.65625 37.796875 51.625 33 \nQ 55.609375 28.21875 55.609375 21.1875 \nQ 55.609375 10.40625 48.1875 4.484375 \nQ 40.765625 -1.421875 27.09375 -1.421875 \nQ 22.515625 -1.421875 17.65625 -0.515625 \nQ 12.796875 0.390625 7.625 2.203125 \nL 7.625 11.71875 \nQ 11.71875 9.328125 16.59375 8.109375 \nQ 21.484375 6.890625 26.8125 6.890625 \nQ 36.078125 6.890625 40.9375 10.546875 \nQ 45.796875 14.203125 45.796875 21.1875 \nQ 45.796875 27.640625 41.28125 31.265625 \nQ 36.765625 34.90625 28.71875 34.90625 \nL 20.21875 34.90625 \nL 20.21875 43.015625 \nL 29.109375 43.015625 \nQ 36.375 43.015625 40.234375 45.921875 \nQ 44.09375 48.828125 44.09375 54.296875 \nQ 44.09375 59.90625 40.109375 62.90625 \nQ 36.140625 65.921875 28.71875 65.921875 \nQ 24.65625 65.921875 20.015625 65.03125 \nQ 15.375 64.15625 9.8125 62.3125 \nL 9.8125 71.09375 \nQ 15.4375 72.65625 20.34375 73.4375 \nQ 25.25 74.21875 29.59375 74.21875 \nQ 40.828125 74.21875 47.359375 69.109375 \nQ 53.90625 64.015625 53.90625 55.328125 \nQ 53.90625 49.265625 50.4375 45.09375 \nQ 46.96875 40.921875 40.578125 39.3125 \nz\n\" id=\"DejaVuSans-51\"/>\n      </defs>\n      <g transform=\"translate(238.346547 157.698438)scale(0.1 -0.1)\">\n       <use xlink:href=\"#DejaVuSans-51\"/>\n      </g>\n     </g>\n    </g>\n    <g id=\"text_5\">\n     <!-- x -->\n     <defs>\n      <path d=\"M 54.890625 54.6875 \nL 35.109375 28.078125 \nL 55.90625 0 \nL 45.3125 0 \nL 29.390625 21.484375 \nL 13.484375 0 \nL 2.875 0 \nL 24.125 28.609375 \nL 4.6875 54.6875 \nL 15.28125 54.6875 \nL 29.78125 35.203125 \nL 44.28125 54.6875 \nz\n\" id=\"DejaVuSans-120\"/>\n     </defs>\n     <g transform=\"translate(143.673438 171.376563)scale(0.1 -0.1)\">\n      <use xlink:href=\"#DejaVuSans-120\"/>\n     </g>\n    </g>\n   </g>\n   <g id=\"matplotlib.axis_2\">\n    <g id=\"ytick_1\">\n     <g id=\"line2d_9\">\n      <path clip-path=\"url(#p74e553ebf5)\" d=\"M 48.982813 136.926356 \nL 244.282813 136.926356 \n\" style=\"fill:none;stroke:#b0b0b0;stroke-linecap:square;stroke-width:0.8;\"/>\n     </g>\n     <g id=\"line2d_10\">\n      <defs>\n       <path d=\"M 0 0 \nL -3.5 0 \n\" id=\"m37905d4ed4\" style=\"stroke:#000000;stroke-width:0.8;\"/>\n      </defs>\n      <g>\n       <use style=\"stroke:#000000;stroke-width:0.8;\" x=\"48.982813\" xlink:href=\"#m37905d4ed4\" y=\"136.926356\"/>\n      </g>\n     </g>\n     <g id=\"text_6\">\n      <!-- −10 -->\n      <defs>\n       <path d=\"M 10.59375 35.5 \nL 73.1875 35.5 \nL 73.1875 27.203125 \nL 10.59375 27.203125 \nz\n\" id=\"DejaVuSans-8722\"/>\n      </defs>\n      <g transform=\"translate(20.878125 140.725575)scale(0.1 -0.1)\">\n       <use xlink:href=\"#DejaVuSans-8722\"/>\n       <use x=\"83.789062\" xlink:href=\"#DejaVuSans-49\"/>\n       <use x=\"147.412109\" xlink:href=\"#DejaVuSans-48\"/>\n      </g>\n     </g>\n    </g>\n    <g id=\"ytick_2\">\n     <g id=\"line2d_11\">\n      <path clip-path=\"url(#p74e553ebf5)\" d=\"M 48.982813 100.635539 \nL 244.282813 100.635539 \n\" style=\"fill:none;stroke:#b0b0b0;stroke-linecap:square;stroke-width:0.8;\"/>\n     </g>\n     <g id=\"line2d_12\">\n      <g>\n       <use style=\"stroke:#000000;stroke-width:0.8;\" x=\"48.982813\" xlink:href=\"#m37905d4ed4\" y=\"100.635539\"/>\n      </g>\n     </g>\n     <g id=\"text_7\">\n      <!-- 0 -->\n      <g transform=\"translate(35.620313 104.434758)scale(0.1 -0.1)\">\n       <use xlink:href=\"#DejaVuSans-48\"/>\n      </g>\n     </g>\n    </g>\n    <g id=\"ytick_3\">\n     <g id=\"line2d_13\">\n      <path clip-path=\"url(#p74e553ebf5)\" d=\"M 48.982813 64.344722 \nL 244.282813 64.344722 \n\" style=\"fill:none;stroke:#b0b0b0;stroke-linecap:square;stroke-width:0.8;\"/>\n     </g>\n     <g id=\"line2d_14\">\n      <g>\n       <use style=\"stroke:#000000;stroke-width:0.8;\" x=\"48.982813\" xlink:href=\"#m37905d4ed4\" y=\"64.344722\"/>\n      </g>\n     </g>\n     <g id=\"text_8\">\n      <!-- 10 -->\n      <g transform=\"translate(29.257813 68.143941)scale(0.1 -0.1)\">\n       <use xlink:href=\"#DejaVuSans-49\"/>\n       <use x=\"63.623047\" xlink:href=\"#DejaVuSans-48\"/>\n      </g>\n     </g>\n    </g>\n    <g id=\"ytick_4\">\n     <g id=\"line2d_15\">\n      <path clip-path=\"url(#p74e553ebf5)\" d=\"M 48.982813 28.053905 \nL 244.282813 28.053905 \n\" style=\"fill:none;stroke:#b0b0b0;stroke-linecap:square;stroke-width:0.8;\"/>\n     </g>\n     <g id=\"line2d_16\">\n      <g>\n       <use style=\"stroke:#000000;stroke-width:0.8;\" x=\"48.982813\" xlink:href=\"#m37905d4ed4\" y=\"28.053905\"/>\n      </g>\n     </g>\n     <g id=\"text_9\">\n      <!-- 20 -->\n      <g transform=\"translate(29.257813 31.853124)scale(0.1 -0.1)\">\n       <use xlink:href=\"#DejaVuSans-50\"/>\n       <use x=\"63.623047\" xlink:href=\"#DejaVuSans-48\"/>\n      </g>\n     </g>\n    </g>\n    <g id=\"text_10\">\n     <!-- f(x) -->\n     <defs>\n      <path d=\"M 37.109375 75.984375 \nL 37.109375 68.5 \nL 28.515625 68.5 \nQ 23.6875 68.5 21.796875 66.546875 \nQ 19.921875 64.59375 19.921875 59.515625 \nL 19.921875 54.6875 \nL 34.71875 54.6875 \nL 34.71875 47.703125 \nL 19.921875 47.703125 \nL 19.921875 0 \nL 10.890625 0 \nL 10.890625 47.703125 \nL 2.296875 47.703125 \nL 2.296875 54.6875 \nL 10.890625 54.6875 \nL 10.890625 58.5 \nQ 10.890625 67.625 15.140625 71.796875 \nQ 19.390625 75.984375 28.609375 75.984375 \nz\n\" id=\"DejaVuSans-102\"/>\n      <path d=\"M 31 75.875 \nQ 24.46875 64.65625 21.28125 53.65625 \nQ 18.109375 42.671875 18.109375 31.390625 \nQ 18.109375 20.125 21.3125 9.0625 \nQ 24.515625 -2 31 -13.1875 \nL 23.1875 -13.1875 \nQ 15.875 -1.703125 12.234375 9.375 \nQ 8.59375 20.453125 8.59375 31.390625 \nQ 8.59375 42.28125 12.203125 53.3125 \nQ 15.828125 64.359375 23.1875 75.875 \nz\n\" id=\"DejaVuSans-40\"/>\n      <path d=\"M 8.015625 75.875 \nL 15.828125 75.875 \nQ 23.140625 64.359375 26.78125 53.3125 \nQ 30.421875 42.28125 30.421875 31.390625 \nQ 30.421875 20.453125 26.78125 9.375 \nQ 23.140625 -1.703125 15.828125 -13.1875 \nL 8.015625 -13.1875 \nQ 14.5 -2 17.703125 9.0625 \nQ 20.90625 20.125 20.90625 31.390625 \nQ 20.90625 42.671875 17.703125 53.65625 \nQ 14.5 64.65625 8.015625 75.875 \nz\n\" id=\"DejaVuSans-41\"/>\n     </defs>\n     <g transform=\"translate(14.798438 83.771094)rotate(-90)scale(0.1 -0.1)\">\n      <use xlink:href=\"#DejaVuSans-102\"/>\n      <use x=\"35.205078\" xlink:href=\"#DejaVuSans-40\"/>\n      <use x=\"74.21875\" xlink:href=\"#DejaVuSans-120\"/>\n      <use x=\"133.398438\" xlink:href=\"#DejaVuSans-41\"/>\n     </g>\n    </g>\n   </g>\n   <g id=\"line2d_17\">\n    <path clip-path=\"url(#p74e553ebf5)\" d=\"M 63.982342 136.922727 \nL 70.104599 118.751915 \nL 76.226856 112.634493 \nL 82.349113 109.475982 \nL 88.47137 107.440067 \nL 94.593628 105.900127 \nL 100.715885 104.575167 \nL 106.838142 103.313802 \nL 112.960399 102.022252 \nL 119.082656 100.635539 \nL 125.204913 99.104397 \nL 131.32717 97.388721 \nL 137.449427 95.454048 \nL 143.571684 93.26954 \nL 149.693941 90.806776 \nL 155.816198 88.038997 \nL 161.938455 84.940615 \nL 168.060712 81.486891 \nL 174.182969 77.653711 \nL 180.305226 73.417426 \nL 186.427483 68.754748 \nL 192.54974 63.64266 \nL 198.671997 58.058364 \nL 204.794255 51.979231 \nL 210.916512 45.38277 \nL 217.038769 38.2466 \nL 223.161026 30.548428 \nL 229.283283 22.266038 \nL 235.40554 13.377273 \n\" style=\"fill:none;stroke:#1f77b4;stroke-linecap:square;stroke-width:1.5;\"/>\n   </g>\n   <g id=\"line2d_18\">\n    <path clip-path=\"url(#p74e553ebf5)\" d=\"M 57.860085 115.151866 \nL 63.982342 113.700233 \nL 70.104599 112.248601 \nL 76.226856 110.796968 \nL 82.349113 109.345335 \nL 88.47137 107.893703 \nL 94.593628 106.44207 \nL 100.715885 104.990437 \nL 106.838142 103.538805 \nL 112.960399 102.087172 \nL 119.082656 100.635539 \nL 125.204913 99.183907 \nL 131.32717 97.732274 \nL 137.449427 96.280641 \nL 143.571684 94.829008 \nL 149.693941 93.377376 \nL 155.816198 91.925743 \nL 161.938455 90.47411 \nL 168.060712 89.022478 \nL 174.182969 87.570845 \nL 180.305226 86.119212 \nL 186.427483 84.66758 \nL 192.54974 83.215947 \nL 198.671997 81.764314 \nL 204.794255 80.312682 \nL 210.916512 78.861049 \nL 217.038769 77.409416 \nL 223.161026 75.957784 \nL 229.283283 74.506151 \nL 235.40554 73.054518 \n\" style=\"fill:none;stroke:#bf00bf;stroke-dasharray:5.55,2.4;stroke-dashoffset:0;stroke-width:1.5;\"/>\n   </g>\n   <g id=\"patch_3\">\n    <path d=\"M 48.982813 143.1 \nL 48.982813 7.2 \n\" style=\"fill:none;stroke:#000000;stroke-linecap:square;stroke-linejoin:miter;stroke-width:0.8;\"/>\n   </g>\n   <g id=\"patch_4\">\n    <path d=\"M 244.282813 143.1 \nL 244.282813 7.2 \n\" style=\"fill:none;stroke:#000000;stroke-linecap:square;stroke-linejoin:miter;stroke-width:0.8;\"/>\n   </g>\n   <g id=\"patch_5\">\n    <path d=\"M 48.982813 143.1 \nL 244.282813 143.1 \n\" style=\"fill:none;stroke:#000000;stroke-linecap:square;stroke-linejoin:miter;stroke-width:0.8;\"/>\n   </g>\n   <g id=\"patch_6\">\n    <path d=\"M 48.982813 7.2 \nL 244.282813 7.2 \n\" style=\"fill:none;stroke:#000000;stroke-linecap:square;stroke-linejoin:miter;stroke-width:0.8;\"/>\n   </g>\n   <g id=\"legend_1\">\n    <g id=\"patch_7\">\n     <path d=\"M 55.982813 44.55625 \nL 180.532813 44.55625 \nQ 182.532813 44.55625 182.532813 42.55625 \nL 182.532813 14.2 \nQ 182.532813 12.2 180.532813 12.2 \nL 55.982813 12.2 \nQ 53.982813 12.2 53.982813 14.2 \nL 53.982813 42.55625 \nQ 53.982813 44.55625 55.982813 44.55625 \nz\n\" style=\"fill:#ffffff;opacity:0.8;stroke:#cccccc;stroke-linejoin:miter;\"/>\n    </g>\n    <g id=\"line2d_19\">\n     <path d=\"M 57.982813 20.298437 \nL 77.982813 20.298437 \n\" style=\"fill:none;stroke:#1f77b4;stroke-linecap:square;stroke-width:1.5;\"/>\n    </g>\n    <g id=\"line2d_20\"/>\n    <g id=\"text_11\">\n     <!-- f(x) -->\n     <g transform=\"translate(85.982813 23.798437)scale(0.1 -0.1)\">\n      <use xlink:href=\"#DejaVuSans-102\"/>\n      <use x=\"35.205078\" xlink:href=\"#DejaVuSans-40\"/>\n      <use x=\"74.21875\" xlink:href=\"#DejaVuSans-120\"/>\n      <use x=\"133.398438\" xlink:href=\"#DejaVuSans-41\"/>\n     </g>\n    </g>\n    <g id=\"line2d_21\">\n     <path d=\"M 57.982813 34.976562 \nL 77.982813 34.976562 \n\" style=\"fill:none;stroke:#bf00bf;stroke-dasharray:5.55,2.4;stroke-dashoffset:0;stroke-width:1.5;\"/>\n    </g>\n    <g id=\"line2d_22\"/>\n    <g id=\"text_12\">\n     <!-- Tangent line (x=1) -->\n     <defs>\n      <path d=\"M -0.296875 72.90625 \nL 61.375 72.90625 \nL 61.375 64.59375 \nL 35.5 64.59375 \nL 35.5 0 \nL 25.59375 0 \nL 25.59375 64.59375 \nL -0.296875 64.59375 \nz\n\" id=\"DejaVuSans-84\"/>\n      <path d=\"M 34.28125 27.484375 \nQ 23.390625 27.484375 19.1875 25 \nQ 14.984375 22.515625 14.984375 16.5 \nQ 14.984375 11.71875 18.140625 8.90625 \nQ 21.296875 6.109375 26.703125 6.109375 \nQ 34.1875 6.109375 38.703125 11.40625 \nQ 43.21875 16.703125 43.21875 25.484375 \nL 43.21875 27.484375 \nz\nM 52.203125 31.203125 \nL 52.203125 0 \nL 43.21875 0 \nL 43.21875 8.296875 \nQ 40.140625 3.328125 35.546875 0.953125 \nQ 30.953125 -1.421875 24.3125 -1.421875 \nQ 15.921875 -1.421875 10.953125 3.296875 \nQ 6 8.015625 6 15.921875 \nQ 6 25.140625 12.171875 29.828125 \nQ 18.359375 34.515625 30.609375 34.515625 \nL 43.21875 34.515625 \nL 43.21875 35.40625 \nQ 43.21875 41.609375 39.140625 45 \nQ 35.0625 48.390625 27.6875 48.390625 \nQ 23 48.390625 18.546875 47.265625 \nQ 14.109375 46.140625 10.015625 43.890625 \nL 10.015625 52.203125 \nQ 14.9375 54.109375 19.578125 55.046875 \nQ 24.21875 56 28.609375 56 \nQ 40.484375 56 46.34375 49.84375 \nQ 52.203125 43.703125 52.203125 31.203125 \nz\n\" id=\"DejaVuSans-97\"/>\n      <path d=\"M 54.890625 33.015625 \nL 54.890625 0 \nL 45.90625 0 \nL 45.90625 32.71875 \nQ 45.90625 40.484375 42.875 44.328125 \nQ 39.84375 48.1875 33.796875 48.1875 \nQ 26.515625 48.1875 22.3125 43.546875 \nQ 18.109375 38.921875 18.109375 30.90625 \nL 18.109375 0 \nL 9.078125 0 \nL 9.078125 54.6875 \nL 18.109375 54.6875 \nL 18.109375 46.1875 \nQ 21.34375 51.125 25.703125 53.5625 \nQ 30.078125 56 35.796875 56 \nQ 45.21875 56 50.046875 50.171875 \nQ 54.890625 44.34375 54.890625 33.015625 \nz\n\" id=\"DejaVuSans-110\"/>\n      <path d=\"M 45.40625 27.984375 \nQ 45.40625 37.75 41.375 43.109375 \nQ 37.359375 48.484375 30.078125 48.484375 \nQ 22.859375 48.484375 18.828125 43.109375 \nQ 14.796875 37.75 14.796875 27.984375 \nQ 14.796875 18.265625 18.828125 12.890625 \nQ 22.859375 7.515625 30.078125 7.515625 \nQ 37.359375 7.515625 41.375 12.890625 \nQ 45.40625 18.265625 45.40625 27.984375 \nz\nM 54.390625 6.78125 \nQ 54.390625 -7.171875 48.1875 -13.984375 \nQ 42 -20.796875 29.203125 -20.796875 \nQ 24.46875 -20.796875 20.265625 -20.09375 \nQ 16.0625 -19.390625 12.109375 -17.921875 \nL 12.109375 -9.1875 \nQ 16.0625 -11.328125 19.921875 -12.34375 \nQ 23.78125 -13.375 27.78125 -13.375 \nQ 36.625 -13.375 41.015625 -8.765625 \nQ 45.40625 -4.15625 45.40625 5.171875 \nL 45.40625 9.625 \nQ 42.625 4.78125 38.28125 2.390625 \nQ 33.9375 0 27.875 0 \nQ 17.828125 0 11.671875 7.65625 \nQ 5.515625 15.328125 5.515625 27.984375 \nQ 5.515625 40.671875 11.671875 48.328125 \nQ 17.828125 56 27.875 56 \nQ 33.9375 56 38.28125 53.609375 \nQ 42.625 51.21875 45.40625 46.390625 \nL 45.40625 54.6875 \nL 54.390625 54.6875 \nz\n\" id=\"DejaVuSans-103\"/>\n      <path d=\"M 56.203125 29.59375 \nL 56.203125 25.203125 \nL 14.890625 25.203125 \nQ 15.484375 15.921875 20.484375 11.0625 \nQ 25.484375 6.203125 34.421875 6.203125 \nQ 39.59375 6.203125 44.453125 7.46875 \nQ 49.3125 8.734375 54.109375 11.28125 \nL 54.109375 2.78125 \nQ 49.265625 0.734375 44.1875 -0.34375 \nQ 39.109375 -1.421875 33.890625 -1.421875 \nQ 20.796875 -1.421875 13.15625 6.1875 \nQ 5.515625 13.8125 5.515625 26.8125 \nQ 5.515625 40.234375 12.765625 48.109375 \nQ 20.015625 56 32.328125 56 \nQ 43.359375 56 49.78125 48.890625 \nQ 56.203125 41.796875 56.203125 29.59375 \nz\nM 47.21875 32.234375 \nQ 47.125 39.59375 43.09375 43.984375 \nQ 39.0625 48.390625 32.421875 48.390625 \nQ 24.90625 48.390625 20.390625 44.140625 \nQ 15.875 39.890625 15.1875 32.171875 \nz\n\" id=\"DejaVuSans-101\"/>\n      <path d=\"M 18.3125 70.21875 \nL 18.3125 54.6875 \nL 36.8125 54.6875 \nL 36.8125 47.703125 \nL 18.3125 47.703125 \nL 18.3125 18.015625 \nQ 18.3125 11.328125 20.140625 9.421875 \nQ 21.96875 7.515625 27.59375 7.515625 \nL 36.8125 7.515625 \nL 36.8125 0 \nL 27.59375 0 \nQ 17.1875 0 13.234375 3.875 \nQ 9.28125 7.765625 9.28125 18.015625 \nL 9.28125 47.703125 \nL 2.6875 47.703125 \nL 2.6875 54.6875 \nL 9.28125 54.6875 \nL 9.28125 70.21875 \nz\n\" id=\"DejaVuSans-116\"/>\n      <path id=\"DejaVuSans-32\"/>\n      <path d=\"M 9.421875 75.984375 \nL 18.40625 75.984375 \nL 18.40625 0 \nL 9.421875 0 \nz\n\" id=\"DejaVuSans-108\"/>\n      <path d=\"M 9.421875 54.6875 \nL 18.40625 54.6875 \nL 18.40625 0 \nL 9.421875 0 \nz\nM 9.421875 75.984375 \nL 18.40625 75.984375 \nL 18.40625 64.59375 \nL 9.421875 64.59375 \nz\n\" id=\"DejaVuSans-105\"/>\n      <path d=\"M 10.59375 45.40625 \nL 73.1875 45.40625 \nL 73.1875 37.203125 \nL 10.59375 37.203125 \nz\nM 10.59375 25.484375 \nL 73.1875 25.484375 \nL 73.1875 17.1875 \nL 10.59375 17.1875 \nz\n\" id=\"DejaVuSans-61\"/>\n     </defs>\n     <g transform=\"translate(85.982813 38.476562)scale(0.1 -0.1)\">\n      <use xlink:href=\"#DejaVuSans-84\"/>\n      <use x=\"44.583984\" xlink:href=\"#DejaVuSans-97\"/>\n      <use x=\"105.863281\" xlink:href=\"#DejaVuSans-110\"/>\n      <use x=\"169.242188\" xlink:href=\"#DejaVuSans-103\"/>\n      <use x=\"232.71875\" xlink:href=\"#DejaVuSans-101\"/>\n      <use x=\"294.242188\" xlink:href=\"#DejaVuSans-110\"/>\n      <use x=\"357.621094\" xlink:href=\"#DejaVuSans-116\"/>\n      <use x=\"396.830078\" xlink:href=\"#DejaVuSans-32\"/>\n      <use x=\"428.617188\" xlink:href=\"#DejaVuSans-108\"/>\n      <use x=\"456.400391\" xlink:href=\"#DejaVuSans-105\"/>\n      <use x=\"484.183594\" xlink:href=\"#DejaVuSans-110\"/>\n      <use x=\"547.5625\" xlink:href=\"#DejaVuSans-101\"/>\n      <use x=\"609.085938\" xlink:href=\"#DejaVuSans-32\"/>\n      <use x=\"640.873047\" xlink:href=\"#DejaVuSans-40\"/>\n      <use x=\"679.886719\" xlink:href=\"#DejaVuSans-120\"/>\n      <use x=\"739.066406\" xlink:href=\"#DejaVuSans-61\"/>\n      <use x=\"822.855469\" xlink:href=\"#DejaVuSans-49\"/>\n      <use x=\"886.478516\" xlink:href=\"#DejaVuSans-41\"/>\n     </g>\n    </g>\n   </g>\n  </g>\n </g>\n <defs>\n  <clipPath id=\"p74e553ebf5\">\n   <rect height=\"135.9\" width=\"195.3\" x=\"48.982813\" y=\"7.2\"/>\n  </clipPath>\n </defs>\n</svg>\n"
          },
          "metadata": {
            "needs_background": "light"
          }
        }
      ]
    },
    {
      "cell_type": "code",
      "metadata": {
        "colab": {
          "base_uri": "https://localhost:8080/",
          "height": 69
        },
        "id": "wjW9iYYcCkAu",
        "outputId": "99012332-395e-42ef-dc09-2c53c26d1dfd"
      },
      "source": [
        "%%time\n",
        "\n",
        "'Automatic Differentiation'"
      ],
      "execution_count": 79,
      "outputs": [
        {
          "output_type": "stream",
          "name": "stdout",
          "text": [
            "CPU times: user 4 µs, sys: 1 µs, total: 5 µs\n",
            "Wall time: 9.78 µs\n"
          ]
        },
        {
          "output_type": "execute_result",
          "data": {
            "application/vnd.google.colaboratory.intrinsic+json": {
              "type": "string"
            },
            "text/plain": [
              "'Automatic Differentiation'"
            ]
          },
          "metadata": {},
          "execution_count": 79
        }
      ]
    },
    {
      "cell_type": "code",
      "metadata": {
        "colab": {
          "base_uri": "https://localhost:8080/"
        },
        "id": "LyINEyW8CkC_",
        "outputId": "9a2c6fc5-731b-472d-a176-060476159ae1"
      },
      "source": [
        "%%time\n",
        "\n",
        "import torch\n",
        "\n",
        "x = torch.arange(4.0)\n",
        "x"
      ],
      "execution_count": 80,
      "outputs": [
        {
          "output_type": "stream",
          "name": "stdout",
          "text": [
            "CPU times: user 86 µs, sys: 12 µs, total: 98 µs\n",
            "Wall time: 105 µs\n"
          ]
        }
      ]
    },
    {
      "cell_type": "code",
      "metadata": {
        "colab": {
          "base_uri": "https://localhost:8080/"
        },
        "id": "gQN-pXhDCkGm",
        "outputId": "b9a8bfe1-9ce5-4bd4-8164-f67eda0e51dc"
      },
      "source": [
        "%%time\n",
        "\n",
        "x.requires_grad_(True)  # Same as `x = torch.arange(4.0, requires_grad=True)`\n",
        "x.grad  # The default value is None"
      ],
      "execution_count": 81,
      "outputs": [
        {
          "output_type": "stream",
          "name": "stdout",
          "text": [
            "CPU times: user 73 µs, sys: 0 ns, total: 73 µs\n",
            "Wall time: 87 µs\n"
          ]
        }
      ]
    },
    {
      "cell_type": "code",
      "metadata": {
        "colab": {
          "base_uri": "https://localhost:8080/"
        },
        "id": "oR_LtLkoCkI5",
        "outputId": "8bd8a503-0a6f-419b-8c87-c9b6b5dd34aa"
      },
      "source": [
        "%%time\n",
        "\n",
        "y = 2 * torch.dot(x, x)\n",
        "y"
      ],
      "execution_count": 82,
      "outputs": [
        {
          "output_type": "stream",
          "name": "stdout",
          "text": [
            "CPU times: user 192 µs, sys: 0 ns, total: 192 µs\n",
            "Wall time: 201 µs\n"
          ]
        }
      ]
    },
    {
      "cell_type": "code",
      "metadata": {
        "colab": {
          "base_uri": "https://localhost:8080/"
        },
        "id": "31baSkiyCkMJ",
        "outputId": "a3f586c3-92e3-4668-ff35-1375bca162d2"
      },
      "source": [
        "%%time\n",
        "\n",
        "y.backward()\n",
        "x.grad"
      ],
      "execution_count": 83,
      "outputs": [
        {
          "output_type": "stream",
          "name": "stdout",
          "text": [
            "CPU times: user 992 µs, sys: 0 ns, total: 992 µs\n",
            "Wall time: 939 µs\n"
          ]
        }
      ]
    },
    {
      "cell_type": "code",
      "metadata": {
        "colab": {
          "base_uri": "https://localhost:8080/"
        },
        "id": "XhO33x5PCkPE",
        "outputId": "1984bfef-3d98-4254-a791-7f7275f6ab80"
      },
      "source": [
        "%%time\n",
        "\n",
        "x.grad == 4 * x"
      ],
      "execution_count": 84,
      "outputs": [
        {
          "output_type": "stream",
          "name": "stdout",
          "text": [
            "CPU times: user 188 µs, sys: 0 ns, total: 188 µs\n",
            "Wall time: 196 µs\n"
          ]
        },
        {
          "output_type": "execute_result",
          "data": {
            "text/plain": [
              "tensor([True, True, True, True])"
            ]
          },
          "metadata": {},
          "execution_count": 84
        }
      ]
    },
    {
      "cell_type": "code",
      "metadata": {
        "colab": {
          "base_uri": "https://localhost:8080/"
        },
        "id": "A6H5G6nTCkSc",
        "outputId": "b385bbad-97eb-416c-cec2-86d13fc06f7d"
      },
      "source": [
        "%%time\n",
        "\n",
        "# PyTorch accumulates the gradient in default, we need to clear the previous\n",
        "# values\n",
        "x.grad.zero_()\n",
        "y = x.sum()\n",
        "y.backward()\n",
        "x.grad"
      ],
      "execution_count": 85,
      "outputs": [
        {
          "output_type": "stream",
          "name": "stdout",
          "text": [
            "CPU times: user 2.15 ms, sys: 0 ns, total: 2.15 ms\n",
            "Wall time: 2.28 ms\n"
          ]
        }
      ]
    },
    {
      "cell_type": "code",
      "metadata": {
        "colab": {
          "base_uri": "https://localhost:8080/"
        },
        "id": "zbYqzzmGCkVx",
        "outputId": "5773bccb-b074-4624-fe69-6b9ac302ab15"
      },
      "source": [
        "%%time\n",
        "\n",
        "# Invoking `backward` on a non-scalar requires passing in a `gradient` argument\n",
        "# which specifies the gradient of the differentiated function w.r.t `self`.\n",
        "# In our case, we simply want to sum the partial derivatives, so passing\n",
        "# in a gradient of ones is appropriate\n",
        "x.grad.zero_()\n",
        "y = x * x\n",
        "# y.backward(torch.ones(len(x))) equivalent to the below\n",
        "y.sum().backward()\n",
        "x.grad"
      ],
      "execution_count": 86,
      "outputs": [
        {
          "output_type": "stream",
          "name": "stdout",
          "text": [
            "CPU times: user 800 µs, sys: 0 ns, total: 800 µs\n",
            "Wall time: 820 µs\n"
          ]
        }
      ]
    },
    {
      "cell_type": "code",
      "metadata": {
        "colab": {
          "base_uri": "https://localhost:8080/"
        },
        "id": "Oq35DqUeCkYz",
        "outputId": "8caf5f33-b3f9-438c-ba9b-655fcb4e058a"
      },
      "source": [
        "%%time\n",
        "\n",
        "# Invoking `backward` on a non-scalar requires passing in a `gradient` argument\n",
        "# which specifies the gradient of the differentiated function w.r.t `self`.\n",
        "# In our case, we simply want to sum the partial derivatives, so passing\n",
        "# in a gradient of ones is appropriate\n",
        "x.grad.zero_()\n",
        "y = x * x\n",
        "# y.backward(torch.ones(len(x))) equivalent to the below\n",
        "y.sum().backward()\n",
        "x.grad"
      ],
      "execution_count": 87,
      "outputs": [
        {
          "output_type": "stream",
          "name": "stdout",
          "text": [
            "CPU times: user 375 µs, sys: 51 µs, total: 426 µs\n",
            "Wall time: 474 µs\n"
          ]
        }
      ]
    },
    {
      "cell_type": "code",
      "metadata": {
        "colab": {
          "base_uri": "https://localhost:8080/"
        },
        "id": "DLReM-2wCkbw",
        "outputId": "5118adab-9b99-4908-c2c3-5a5ba219f704"
      },
      "source": [
        "%%time\n",
        "\n",
        "x.grad.zero_()\n",
        "y = x * x\n",
        "u = y.detach()\n",
        "z = u * x\n",
        "\n",
        "z.sum().backward()\n",
        "x.grad == u"
      ],
      "execution_count": 88,
      "outputs": [
        {
          "output_type": "stream",
          "name": "stdout",
          "text": [
            "CPU times: user 504 µs, sys: 0 ns, total: 504 µs\n",
            "Wall time: 887 µs\n"
          ]
        }
      ]
    },
    {
      "cell_type": "code",
      "metadata": {
        "colab": {
          "base_uri": "https://localhost:8080/"
        },
        "id": "EbWCcyt7Ckff",
        "outputId": "1a416b4a-0e8d-4723-cd4c-50e70ec397d2"
      },
      "source": [
        "%%time\n",
        "\n",
        "x.grad.zero_()\n",
        "y.sum().backward()\n",
        "x.grad == 2 * x"
      ],
      "execution_count": 89,
      "outputs": [
        {
          "output_type": "stream",
          "name": "stdout",
          "text": [
            "CPU times: user 845 µs, sys: 13 µs, total: 858 µs\n",
            "Wall time: 1.37 ms\n"
          ]
        }
      ]
    },
    {
      "cell_type": "code",
      "metadata": {
        "colab": {
          "base_uri": "https://localhost:8080/"
        },
        "id": "BRY-GAPGCkhv",
        "outputId": "db6cef8b-2b1d-4fb7-b7e3-579cddc9c53b"
      },
      "source": [
        "%%time\n",
        "\n",
        "def f(a):\n",
        "    b = a * 2\n",
        "    while b.norm() < 1000:\n",
        "        b = b * 2\n",
        "    if b.sum() > 0:\n",
        "        c = b\n",
        "    else:\n",
        "        c = 100 * b\n",
        "    return c"
      ],
      "execution_count": 90,
      "outputs": [
        {
          "output_type": "stream",
          "name": "stdout",
          "text": [
            "CPU times: user 5 µs, sys: 0 ns, total: 5 µs\n",
            "Wall time: 10.5 µs\n"
          ]
        }
      ]
    },
    {
      "cell_type": "code",
      "metadata": {
        "colab": {
          "base_uri": "https://localhost:8080/"
        },
        "id": "SNLI5ELhOEhh",
        "outputId": "be6e74b9-3664-4ba4-e6b2-062a9c4240a1"
      },
      "source": [
        "%%time\n",
        "\n",
        "a = torch.randn(size=(), requires_grad=True)\n",
        "d = f(a)\n",
        "d.backward()"
      ],
      "execution_count": 91,
      "outputs": [
        {
          "output_type": "stream",
          "name": "stdout",
          "text": [
            "CPU times: user 915 µs, sys: 0 ns, total: 915 µs\n",
            "Wall time: 946 µs\n"
          ]
        }
      ]
    },
    {
      "cell_type": "code",
      "metadata": {
        "colab": {
          "base_uri": "https://localhost:8080/"
        },
        "id": "tG0aD-SMOEkG",
        "outputId": "f2271c50-b782-4eea-e62c-476e831faee4"
      },
      "source": [
        "%%time\n",
        "\n",
        "a.grad == d / a"
      ],
      "execution_count": 92,
      "outputs": [
        {
          "output_type": "stream",
          "name": "stdout",
          "text": [
            "CPU times: user 141 µs, sys: 0 ns, total: 141 µs\n",
            "Wall time: 146 µs\n"
          ]
        },
        {
          "output_type": "execute_result",
          "data": {
            "text/plain": [
              "tensor(True)"
            ]
          },
          "metadata": {},
          "execution_count": 92
        }
      ]
    },
    {
      "cell_type": "code",
      "metadata": {
        "colab": {
          "base_uri": "https://localhost:8080/",
          "height": 69
        },
        "id": "l2g51_-qOEmd",
        "outputId": "23b76999-f98f-4a1c-8d6e-e194641fe69e"
      },
      "source": [
        "%%time\n",
        "\n",
        "'Probability'"
      ],
      "execution_count": 93,
      "outputs": [
        {
          "output_type": "stream",
          "name": "stdout",
          "text": [
            "CPU times: user 4 µs, sys: 0 ns, total: 4 µs\n",
            "Wall time: 7.63 µs\n"
          ]
        },
        {
          "output_type": "execute_result",
          "data": {
            "application/vnd.google.colaboratory.intrinsic+json": {
              "type": "string"
            },
            "text/plain": [
              "'Probability'"
            ]
          },
          "metadata": {},
          "execution_count": 93
        }
      ]
    },
    {
      "cell_type": "code",
      "metadata": {
        "colab": {
          "base_uri": "https://localhost:8080/"
        },
        "id": "S2q-gj9xOEoz",
        "outputId": "f43e6abe-5ef9-4933-9b12-62568e3e0ab3"
      },
      "source": [
        "%%time\n",
        "\n",
        "import torch\n",
        "from torch.distributions import multinomial\n",
        "from d2l import torch as d2l"
      ],
      "execution_count": 94,
      "outputs": [
        {
          "output_type": "stream",
          "name": "stdout",
          "text": [
            "CPU times: user 21 µs, sys: 2 µs, total: 23 µs\n",
            "Wall time: 27.7 µs\n"
          ]
        }
      ]
    },
    {
      "cell_type": "code",
      "metadata": {
        "colab": {
          "base_uri": "https://localhost:8080/"
        },
        "id": "Y7ywTQuvOErt",
        "outputId": "0be052d9-6c3b-4c2a-bc1b-a4df97a13df3"
      },
      "source": [
        "%%time\n",
        "\n",
        "fair_probs = torch.ones([6]) / 6\n",
        "multinomial.Multinomial(1, fair_probs).sample()"
      ],
      "execution_count": 95,
      "outputs": [
        {
          "output_type": "stream",
          "name": "stdout",
          "text": [
            "CPU times: user 1.24 ms, sys: 0 ns, total: 1.24 ms\n",
            "Wall time: 1.27 ms\n"
          ]
        }
      ]
    },
    {
      "cell_type": "code",
      "metadata": {
        "colab": {
          "base_uri": "https://localhost:8080/"
        },
        "id": "dcasi1t8OEuB",
        "outputId": "4c0647ff-75d1-4c99-d485-7df6f77a54f9"
      },
      "source": [
        "%%time\n",
        "\n",
        "multinomial.Multinomial(10, fair_probs).sample()"
      ],
      "execution_count": 96,
      "outputs": [
        {
          "output_type": "stream",
          "name": "stdout",
          "text": [
            "CPU times: user 837 µs, sys: 0 ns, total: 837 µs\n",
            "Wall time: 848 µs\n"
          ]
        },
        {
          "output_type": "execute_result",
          "data": {
            "text/plain": [
              "tensor([2., 1., 2., 0., 3., 2.])"
            ]
          },
          "metadata": {},
          "execution_count": 96
        }
      ]
    },
    {
      "cell_type": "code",
      "metadata": {
        "colab": {
          "base_uri": "https://localhost:8080/"
        },
        "id": "dRY6qz4kOE-J",
        "outputId": "df9c6739-f9ab-43a3-e9f2-ff8ca0a4eb6d"
      },
      "source": [
        "%%time\n",
        "\n",
        "# Store the results as 32-bit floats for division\n",
        "counts = multinomial.Multinomial(1000, fair_probs).sample()\n",
        "counts / 1000  # Relative frequency as the estimate"
      ],
      "execution_count": 97,
      "outputs": [
        {
          "output_type": "stream",
          "name": "stdout",
          "text": [
            "CPU times: user 1.01 ms, sys: 0 ns, total: 1.01 ms\n",
            "Wall time: 1.12 ms\n"
          ]
        }
      ]
    },
    {
      "cell_type": "code",
      "metadata": {
        "colab": {
          "base_uri": "https://localhost:8080/",
          "height": 441
        },
        "id": "5bMLHbQZOFDS",
        "outputId": "e9ab98b9-f167-45bd-fa38-81b95d7034a4"
      },
      "source": [
        "%%time\n",
        "\n",
        "counts = multinomial.Multinomial(10, fair_probs).sample((500,))\n",
        "cum_counts = counts.cumsum(dim=0)\n",
        "estimates = cum_counts / cum_counts.sum(dim=1, keepdims=True)\n",
        "\n",
        "d2l.set_figsize((6, 4.5))\n",
        "for i in range(6):\n",
        "    d2l.plt.plot(estimates[:, i].numpy(), label=(\"P(die=\" + str(i + 1) + \")\"))\n",
        "d2l.plt.axhline(y=0.167, color='black', linestyle='dashed')\n",
        "d2l.plt.gca().set_xlabel('Groups of experiments')\n",
        "d2l.plt.gca().set_ylabel('Estimated probability')\n",
        "d2l.plt.legend();"
      ],
      "execution_count": 98,
      "outputs": [
        {
          "output_type": "stream",
          "name": "stdout",
          "text": [
            "CPU times: user 46.6 ms, sys: 14.6 ms, total: 61.2 ms\n",
            "Wall time: 76.4 ms\n"
          ]
        },
        {
          "output_type": "display_data",
          "data": {
            "text/plain": [
              "<Figure size 432x324 with 1 Axes>"
            ],
            "image/svg+xml": "<?xml version=\"1.0\" encoding=\"utf-8\" standalone=\"no\"?>\n<!DOCTYPE svg PUBLIC \"-//W3C//DTD SVG 1.1//EN\"\n  \"http://www.w3.org/Graphics/SVG/1.1/DTD/svg11.dtd\">\n<!-- Created with matplotlib (https://matplotlib.org/) -->\n<svg height=\"289.37625pt\" version=\"1.1\" viewBox=\"0 0 392.14375 289.37625\" width=\"392.14375pt\" xmlns=\"http://www.w3.org/2000/svg\" xmlns:xlink=\"http://www.w3.org/1999/xlink\">\n <defs>\n  <style type=\"text/css\">\n*{stroke-linecap:butt;stroke-linejoin:round;}\n  </style>\n </defs>\n <g id=\"figure_1\">\n  <g id=\"patch_1\">\n   <path d=\"M 0 289.37625 \nL 392.14375 289.37625 \nL 392.14375 0 \nL 0 0 \nz\n\" style=\"fill:none;\"/>\n  </g>\n  <g id=\"axes_1\">\n   <g id=\"patch_2\">\n    <path d=\"M 50.14375 251.82 \nL 384.94375 251.82 \nL 384.94375 7.2 \nL 50.14375 7.2 \nz\n\" style=\"fill:#ffffff;\"/>\n   </g>\n   <g id=\"matplotlib.axis_1\">\n    <g id=\"xtick_1\">\n     <g id=\"line2d_1\">\n      <defs>\n       <path d=\"M 0 0 \nL 0 3.5 \n\" id=\"m7c50a2c6e6\" style=\"stroke:#000000;stroke-width:0.8;\"/>\n      </defs>\n      <g>\n       <use style=\"stroke:#000000;stroke-width:0.8;\" x=\"65.361932\" xlink:href=\"#m7c50a2c6e6\" y=\"251.82\"/>\n      </g>\n     </g>\n     <g id=\"text_1\">\n      <!-- 0 -->\n      <defs>\n       <path d=\"M 31.78125 66.40625 \nQ 24.171875 66.40625 20.328125 58.90625 \nQ 16.5 51.421875 16.5 36.375 \nQ 16.5 21.390625 20.328125 13.890625 \nQ 24.171875 6.390625 31.78125 6.390625 \nQ 39.453125 6.390625 43.28125 13.890625 \nQ 47.125 21.390625 47.125 36.375 \nQ 47.125 51.421875 43.28125 58.90625 \nQ 39.453125 66.40625 31.78125 66.40625 \nz\nM 31.78125 74.21875 \nQ 44.046875 74.21875 50.515625 64.515625 \nQ 56.984375 54.828125 56.984375 36.375 \nQ 56.984375 17.96875 50.515625 8.265625 \nQ 44.046875 -1.421875 31.78125 -1.421875 \nQ 19.53125 -1.421875 13.0625 8.265625 \nQ 6.59375 17.96875 6.59375 36.375 \nQ 6.59375 54.828125 13.0625 64.515625 \nQ 19.53125 74.21875 31.78125 74.21875 \nz\n\" id=\"DejaVuSans-48\"/>\n      </defs>\n      <g transform=\"translate(62.180682 266.418437)scale(0.1 -0.1)\">\n       <use xlink:href=\"#DejaVuSans-48\"/>\n      </g>\n     </g>\n    </g>\n    <g id=\"xtick_2\">\n     <g id=\"line2d_2\">\n      <g>\n       <use style=\"stroke:#000000;stroke-width:0.8;\" x=\"126.356649\" xlink:href=\"#m7c50a2c6e6\" y=\"251.82\"/>\n      </g>\n     </g>\n     <g id=\"text_2\">\n      <!-- 100 -->\n      <defs>\n       <path d=\"M 12.40625 8.296875 \nL 28.515625 8.296875 \nL 28.515625 63.921875 \nL 10.984375 60.40625 \nL 10.984375 69.390625 \nL 28.421875 72.90625 \nL 38.28125 72.90625 \nL 38.28125 8.296875 \nL 54.390625 8.296875 \nL 54.390625 0 \nL 12.40625 0 \nz\n\" id=\"DejaVuSans-49\"/>\n      </defs>\n      <g transform=\"translate(116.812899 266.418437)scale(0.1 -0.1)\">\n       <use xlink:href=\"#DejaVuSans-49\"/>\n       <use x=\"63.623047\" xlink:href=\"#DejaVuSans-48\"/>\n       <use x=\"127.246094\" xlink:href=\"#DejaVuSans-48\"/>\n      </g>\n     </g>\n    </g>\n    <g id=\"xtick_3\">\n     <g id=\"line2d_3\">\n      <g>\n       <use style=\"stroke:#000000;stroke-width:0.8;\" x=\"187.351365\" xlink:href=\"#m7c50a2c6e6\" y=\"251.82\"/>\n      </g>\n     </g>\n     <g id=\"text_3\">\n      <!-- 200 -->\n      <defs>\n       <path d=\"M 19.1875 8.296875 \nL 53.609375 8.296875 \nL 53.609375 0 \nL 7.328125 0 \nL 7.328125 8.296875 \nQ 12.9375 14.109375 22.625 23.890625 \nQ 32.328125 33.6875 34.8125 36.53125 \nQ 39.546875 41.84375 41.421875 45.53125 \nQ 43.3125 49.21875 43.3125 52.78125 \nQ 43.3125 58.59375 39.234375 62.25 \nQ 35.15625 65.921875 28.609375 65.921875 \nQ 23.96875 65.921875 18.8125 64.3125 \nQ 13.671875 62.703125 7.8125 59.421875 \nL 7.8125 69.390625 \nQ 13.765625 71.78125 18.9375 73 \nQ 24.125 74.21875 28.421875 74.21875 \nQ 39.75 74.21875 46.484375 68.546875 \nQ 53.21875 62.890625 53.21875 53.421875 \nQ 53.21875 48.921875 51.53125 44.890625 \nQ 49.859375 40.875 45.40625 35.40625 \nQ 44.1875 33.984375 37.640625 27.21875 \nQ 31.109375 20.453125 19.1875 8.296875 \nz\n\" id=\"DejaVuSans-50\"/>\n      </defs>\n      <g transform=\"translate(177.807615 266.418437)scale(0.1 -0.1)\">\n       <use xlink:href=\"#DejaVuSans-50\"/>\n       <use x=\"63.623047\" xlink:href=\"#DejaVuSans-48\"/>\n       <use x=\"127.246094\" xlink:href=\"#DejaVuSans-48\"/>\n      </g>\n     </g>\n    </g>\n    <g id=\"xtick_4\">\n     <g id=\"line2d_4\">\n      <g>\n       <use style=\"stroke:#000000;stroke-width:0.8;\" x=\"248.346082\" xlink:href=\"#m7c50a2c6e6\" y=\"251.82\"/>\n      </g>\n     </g>\n     <g id=\"text_4\">\n      <!-- 300 -->\n      <defs>\n       <path d=\"M 40.578125 39.3125 \nQ 47.65625 37.796875 51.625 33 \nQ 55.609375 28.21875 55.609375 21.1875 \nQ 55.609375 10.40625 48.1875 4.484375 \nQ 40.765625 -1.421875 27.09375 -1.421875 \nQ 22.515625 -1.421875 17.65625 -0.515625 \nQ 12.796875 0.390625 7.625 2.203125 \nL 7.625 11.71875 \nQ 11.71875 9.328125 16.59375 8.109375 \nQ 21.484375 6.890625 26.8125 6.890625 \nQ 36.078125 6.890625 40.9375 10.546875 \nQ 45.796875 14.203125 45.796875 21.1875 \nQ 45.796875 27.640625 41.28125 31.265625 \nQ 36.765625 34.90625 28.71875 34.90625 \nL 20.21875 34.90625 \nL 20.21875 43.015625 \nL 29.109375 43.015625 \nQ 36.375 43.015625 40.234375 45.921875 \nQ 44.09375 48.828125 44.09375 54.296875 \nQ 44.09375 59.90625 40.109375 62.90625 \nQ 36.140625 65.921875 28.71875 65.921875 \nQ 24.65625 65.921875 20.015625 65.03125 \nQ 15.375 64.15625 9.8125 62.3125 \nL 9.8125 71.09375 \nQ 15.4375 72.65625 20.34375 73.4375 \nQ 25.25 74.21875 29.59375 74.21875 \nQ 40.828125 74.21875 47.359375 69.109375 \nQ 53.90625 64.015625 53.90625 55.328125 \nQ 53.90625 49.265625 50.4375 45.09375 \nQ 46.96875 40.921875 40.578125 39.3125 \nz\n\" id=\"DejaVuSans-51\"/>\n      </defs>\n      <g transform=\"translate(238.802332 266.418437)scale(0.1 -0.1)\">\n       <use xlink:href=\"#DejaVuSans-51\"/>\n       <use x=\"63.623047\" xlink:href=\"#DejaVuSans-48\"/>\n       <use x=\"127.246094\" xlink:href=\"#DejaVuSans-48\"/>\n      </g>\n     </g>\n    </g>\n    <g id=\"xtick_5\">\n     <g id=\"line2d_5\">\n      <g>\n       <use style=\"stroke:#000000;stroke-width:0.8;\" x=\"309.340799\" xlink:href=\"#m7c50a2c6e6\" y=\"251.82\"/>\n      </g>\n     </g>\n     <g id=\"text_5\">\n      <!-- 400 -->\n      <defs>\n       <path d=\"M 37.796875 64.3125 \nL 12.890625 25.390625 \nL 37.796875 25.390625 \nz\nM 35.203125 72.90625 \nL 47.609375 72.90625 \nL 47.609375 25.390625 \nL 58.015625 25.390625 \nL 58.015625 17.1875 \nL 47.609375 17.1875 \nL 47.609375 0 \nL 37.796875 0 \nL 37.796875 17.1875 \nL 4.890625 17.1875 \nL 4.890625 26.703125 \nz\n\" id=\"DejaVuSans-52\"/>\n      </defs>\n      <g transform=\"translate(299.797049 266.418437)scale(0.1 -0.1)\">\n       <use xlink:href=\"#DejaVuSans-52\"/>\n       <use x=\"63.623047\" xlink:href=\"#DejaVuSans-48\"/>\n       <use x=\"127.246094\" xlink:href=\"#DejaVuSans-48\"/>\n      </g>\n     </g>\n    </g>\n    <g id=\"xtick_6\">\n     <g id=\"line2d_6\">\n      <g>\n       <use style=\"stroke:#000000;stroke-width:0.8;\" x=\"370.335515\" xlink:href=\"#m7c50a2c6e6\" y=\"251.82\"/>\n      </g>\n     </g>\n     <g id=\"text_6\">\n      <!-- 500 -->\n      <defs>\n       <path d=\"M 10.796875 72.90625 \nL 49.515625 72.90625 \nL 49.515625 64.59375 \nL 19.828125 64.59375 \nL 19.828125 46.734375 \nQ 21.96875 47.46875 24.109375 47.828125 \nQ 26.265625 48.1875 28.421875 48.1875 \nQ 40.625 48.1875 47.75 41.5 \nQ 54.890625 34.8125 54.890625 23.390625 \nQ 54.890625 11.625 47.5625 5.09375 \nQ 40.234375 -1.421875 26.90625 -1.421875 \nQ 22.3125 -1.421875 17.546875 -0.640625 \nQ 12.796875 0.140625 7.71875 1.703125 \nL 7.71875 11.625 \nQ 12.109375 9.234375 16.796875 8.0625 \nQ 21.484375 6.890625 26.703125 6.890625 \nQ 35.15625 6.890625 40.078125 11.328125 \nQ 45.015625 15.765625 45.015625 23.390625 \nQ 45.015625 31 40.078125 35.4375 \nQ 35.15625 39.890625 26.703125 39.890625 \nQ 22.75 39.890625 18.8125 39.015625 \nQ 14.890625 38.140625 10.796875 36.28125 \nz\n\" id=\"DejaVuSans-53\"/>\n      </defs>\n      <g transform=\"translate(360.791765 266.418437)scale(0.1 -0.1)\">\n       <use xlink:href=\"#DejaVuSans-53\"/>\n       <use x=\"63.623047\" xlink:href=\"#DejaVuSans-48\"/>\n       <use x=\"127.246094\" xlink:href=\"#DejaVuSans-48\"/>\n      </g>\n     </g>\n    </g>\n    <g id=\"text_7\">\n     <!-- Groups of experiments -->\n     <defs>\n      <path d=\"M 59.515625 10.40625 \nL 59.515625 29.984375 \nL 43.40625 29.984375 \nL 43.40625 38.09375 \nL 69.28125 38.09375 \nL 69.28125 6.78125 \nQ 63.578125 2.734375 56.6875 0.65625 \nQ 49.8125 -1.421875 42 -1.421875 \nQ 24.90625 -1.421875 15.25 8.5625 \nQ 5.609375 18.5625 5.609375 36.375 \nQ 5.609375 54.25 15.25 64.234375 \nQ 24.90625 74.21875 42 74.21875 \nQ 49.125 74.21875 55.546875 72.453125 \nQ 61.96875 70.703125 67.390625 67.28125 \nL 67.390625 56.78125 \nQ 61.921875 61.421875 55.765625 63.765625 \nQ 49.609375 66.109375 42.828125 66.109375 \nQ 29.4375 66.109375 22.71875 58.640625 \nQ 16.015625 51.171875 16.015625 36.375 \nQ 16.015625 21.625 22.71875 14.15625 \nQ 29.4375 6.6875 42.828125 6.6875 \nQ 48.046875 6.6875 52.140625 7.59375 \nQ 56.25 8.5 59.515625 10.40625 \nz\n\" id=\"DejaVuSans-71\"/>\n      <path d=\"M 41.109375 46.296875 \nQ 39.59375 47.171875 37.8125 47.578125 \nQ 36.03125 48 33.890625 48 \nQ 26.265625 48 22.1875 43.046875 \nQ 18.109375 38.09375 18.109375 28.8125 \nL 18.109375 0 \nL 9.078125 0 \nL 9.078125 54.6875 \nL 18.109375 54.6875 \nL 18.109375 46.1875 \nQ 20.953125 51.171875 25.484375 53.578125 \nQ 30.03125 56 36.53125 56 \nQ 37.453125 56 38.578125 55.875 \nQ 39.703125 55.765625 41.0625 55.515625 \nz\n\" id=\"DejaVuSans-114\"/>\n      <path d=\"M 30.609375 48.390625 \nQ 23.390625 48.390625 19.1875 42.75 \nQ 14.984375 37.109375 14.984375 27.296875 \nQ 14.984375 17.484375 19.15625 11.84375 \nQ 23.34375 6.203125 30.609375 6.203125 \nQ 37.796875 6.203125 41.984375 11.859375 \nQ 46.1875 17.53125 46.1875 27.296875 \nQ 46.1875 37.015625 41.984375 42.703125 \nQ 37.796875 48.390625 30.609375 48.390625 \nz\nM 30.609375 56 \nQ 42.328125 56 49.015625 48.375 \nQ 55.71875 40.765625 55.71875 27.296875 \nQ 55.71875 13.875 49.015625 6.21875 \nQ 42.328125 -1.421875 30.609375 -1.421875 \nQ 18.84375 -1.421875 12.171875 6.21875 \nQ 5.515625 13.875 5.515625 27.296875 \nQ 5.515625 40.765625 12.171875 48.375 \nQ 18.84375 56 30.609375 56 \nz\n\" id=\"DejaVuSans-111\"/>\n      <path d=\"M 8.5 21.578125 \nL 8.5 54.6875 \nL 17.484375 54.6875 \nL 17.484375 21.921875 \nQ 17.484375 14.15625 20.5 10.265625 \nQ 23.53125 6.390625 29.59375 6.390625 \nQ 36.859375 6.390625 41.078125 11.03125 \nQ 45.3125 15.671875 45.3125 23.6875 \nL 45.3125 54.6875 \nL 54.296875 54.6875 \nL 54.296875 0 \nL 45.3125 0 \nL 45.3125 8.40625 \nQ 42.046875 3.421875 37.71875 1 \nQ 33.40625 -1.421875 27.6875 -1.421875 \nQ 18.265625 -1.421875 13.375 4.4375 \nQ 8.5 10.296875 8.5 21.578125 \nz\nM 31.109375 56 \nz\n\" id=\"DejaVuSans-117\"/>\n      <path d=\"M 18.109375 8.203125 \nL 18.109375 -20.796875 \nL 9.078125 -20.796875 \nL 9.078125 54.6875 \nL 18.109375 54.6875 \nL 18.109375 46.390625 \nQ 20.953125 51.265625 25.265625 53.625 \nQ 29.59375 56 35.59375 56 \nQ 45.5625 56 51.78125 48.09375 \nQ 58.015625 40.1875 58.015625 27.296875 \nQ 58.015625 14.40625 51.78125 6.484375 \nQ 45.5625 -1.421875 35.59375 -1.421875 \nQ 29.59375 -1.421875 25.265625 0.953125 \nQ 20.953125 3.328125 18.109375 8.203125 \nz\nM 48.6875 27.296875 \nQ 48.6875 37.203125 44.609375 42.84375 \nQ 40.53125 48.484375 33.40625 48.484375 \nQ 26.265625 48.484375 22.1875 42.84375 \nQ 18.109375 37.203125 18.109375 27.296875 \nQ 18.109375 17.390625 22.1875 11.75 \nQ 26.265625 6.109375 33.40625 6.109375 \nQ 40.53125 6.109375 44.609375 11.75 \nQ 48.6875 17.390625 48.6875 27.296875 \nz\n\" id=\"DejaVuSans-112\"/>\n      <path d=\"M 44.28125 53.078125 \nL 44.28125 44.578125 \nQ 40.484375 46.53125 36.375 47.5 \nQ 32.28125 48.484375 27.875 48.484375 \nQ 21.1875 48.484375 17.84375 46.4375 \nQ 14.5 44.390625 14.5 40.28125 \nQ 14.5 37.15625 16.890625 35.375 \nQ 19.28125 33.59375 26.515625 31.984375 \nL 29.59375 31.296875 \nQ 39.15625 29.25 43.1875 25.515625 \nQ 47.21875 21.78125 47.21875 15.09375 \nQ 47.21875 7.46875 41.1875 3.015625 \nQ 35.15625 -1.421875 24.609375 -1.421875 \nQ 20.21875 -1.421875 15.453125 -0.5625 \nQ 10.6875 0.296875 5.421875 2 \nL 5.421875 11.28125 \nQ 10.40625 8.6875 15.234375 7.390625 \nQ 20.0625 6.109375 24.8125 6.109375 \nQ 31.15625 6.109375 34.5625 8.28125 \nQ 37.984375 10.453125 37.984375 14.40625 \nQ 37.984375 18.0625 35.515625 20.015625 \nQ 33.0625 21.96875 24.703125 23.78125 \nL 21.578125 24.515625 \nQ 13.234375 26.265625 9.515625 29.90625 \nQ 5.8125 33.546875 5.8125 39.890625 \nQ 5.8125 47.609375 11.28125 51.796875 \nQ 16.75 56 26.8125 56 \nQ 31.78125 56 36.171875 55.265625 \nQ 40.578125 54.546875 44.28125 53.078125 \nz\n\" id=\"DejaVuSans-115\"/>\n      <path id=\"DejaVuSans-32\"/>\n      <path d=\"M 37.109375 75.984375 \nL 37.109375 68.5 \nL 28.515625 68.5 \nQ 23.6875 68.5 21.796875 66.546875 \nQ 19.921875 64.59375 19.921875 59.515625 \nL 19.921875 54.6875 \nL 34.71875 54.6875 \nL 34.71875 47.703125 \nL 19.921875 47.703125 \nL 19.921875 0 \nL 10.890625 0 \nL 10.890625 47.703125 \nL 2.296875 47.703125 \nL 2.296875 54.6875 \nL 10.890625 54.6875 \nL 10.890625 58.5 \nQ 10.890625 67.625 15.140625 71.796875 \nQ 19.390625 75.984375 28.609375 75.984375 \nz\n\" id=\"DejaVuSans-102\"/>\n      <path d=\"M 56.203125 29.59375 \nL 56.203125 25.203125 \nL 14.890625 25.203125 \nQ 15.484375 15.921875 20.484375 11.0625 \nQ 25.484375 6.203125 34.421875 6.203125 \nQ 39.59375 6.203125 44.453125 7.46875 \nQ 49.3125 8.734375 54.109375 11.28125 \nL 54.109375 2.78125 \nQ 49.265625 0.734375 44.1875 -0.34375 \nQ 39.109375 -1.421875 33.890625 -1.421875 \nQ 20.796875 -1.421875 13.15625 6.1875 \nQ 5.515625 13.8125 5.515625 26.8125 \nQ 5.515625 40.234375 12.765625 48.109375 \nQ 20.015625 56 32.328125 56 \nQ 43.359375 56 49.78125 48.890625 \nQ 56.203125 41.796875 56.203125 29.59375 \nz\nM 47.21875 32.234375 \nQ 47.125 39.59375 43.09375 43.984375 \nQ 39.0625 48.390625 32.421875 48.390625 \nQ 24.90625 48.390625 20.390625 44.140625 \nQ 15.875 39.890625 15.1875 32.171875 \nz\n\" id=\"DejaVuSans-101\"/>\n      <path d=\"M 54.890625 54.6875 \nL 35.109375 28.078125 \nL 55.90625 0 \nL 45.3125 0 \nL 29.390625 21.484375 \nL 13.484375 0 \nL 2.875 0 \nL 24.125 28.609375 \nL 4.6875 54.6875 \nL 15.28125 54.6875 \nL 29.78125 35.203125 \nL 44.28125 54.6875 \nz\n\" id=\"DejaVuSans-120\"/>\n      <path d=\"M 9.421875 54.6875 \nL 18.40625 54.6875 \nL 18.40625 0 \nL 9.421875 0 \nz\nM 9.421875 75.984375 \nL 18.40625 75.984375 \nL 18.40625 64.59375 \nL 9.421875 64.59375 \nz\n\" id=\"DejaVuSans-105\"/>\n      <path d=\"M 52 44.1875 \nQ 55.375 50.25 60.0625 53.125 \nQ 64.75 56 71.09375 56 \nQ 79.640625 56 84.28125 50.015625 \nQ 88.921875 44.046875 88.921875 33.015625 \nL 88.921875 0 \nL 79.890625 0 \nL 79.890625 32.71875 \nQ 79.890625 40.578125 77.09375 44.375 \nQ 74.3125 48.1875 68.609375 48.1875 \nQ 61.625 48.1875 57.5625 43.546875 \nQ 53.515625 38.921875 53.515625 30.90625 \nL 53.515625 0 \nL 44.484375 0 \nL 44.484375 32.71875 \nQ 44.484375 40.625 41.703125 44.40625 \nQ 38.921875 48.1875 33.109375 48.1875 \nQ 26.21875 48.1875 22.15625 43.53125 \nQ 18.109375 38.875 18.109375 30.90625 \nL 18.109375 0 \nL 9.078125 0 \nL 9.078125 54.6875 \nL 18.109375 54.6875 \nL 18.109375 46.1875 \nQ 21.1875 51.21875 25.484375 53.609375 \nQ 29.78125 56 35.6875 56 \nQ 41.65625 56 45.828125 52.96875 \nQ 50 49.953125 52 44.1875 \nz\n\" id=\"DejaVuSans-109\"/>\n      <path d=\"M 54.890625 33.015625 \nL 54.890625 0 \nL 45.90625 0 \nL 45.90625 32.71875 \nQ 45.90625 40.484375 42.875 44.328125 \nQ 39.84375 48.1875 33.796875 48.1875 \nQ 26.515625 48.1875 22.3125 43.546875 \nQ 18.109375 38.921875 18.109375 30.90625 \nL 18.109375 0 \nL 9.078125 0 \nL 9.078125 54.6875 \nL 18.109375 54.6875 \nL 18.109375 46.1875 \nQ 21.34375 51.125 25.703125 53.5625 \nQ 30.078125 56 35.796875 56 \nQ 45.21875 56 50.046875 50.171875 \nQ 54.890625 44.34375 54.890625 33.015625 \nz\n\" id=\"DejaVuSans-110\"/>\n      <path d=\"M 18.3125 70.21875 \nL 18.3125 54.6875 \nL 36.8125 54.6875 \nL 36.8125 47.703125 \nL 18.3125 47.703125 \nL 18.3125 18.015625 \nQ 18.3125 11.328125 20.140625 9.421875 \nQ 21.96875 7.515625 27.59375 7.515625 \nL 36.8125 7.515625 \nL 36.8125 0 \nL 27.59375 0 \nQ 17.1875 0 13.234375 3.875 \nQ 9.28125 7.765625 9.28125 18.015625 \nL 9.28125 47.703125 \nL 2.6875 47.703125 \nL 2.6875 54.6875 \nL 9.28125 54.6875 \nL 9.28125 70.21875 \nz\n\" id=\"DejaVuSans-116\"/>\n     </defs>\n     <g transform=\"translate(160.397656 280.096562)scale(0.1 -0.1)\">\n      <use xlink:href=\"#DejaVuSans-71\"/>\n      <use x=\"77.490234\" xlink:href=\"#DejaVuSans-114\"/>\n      <use x=\"116.353516\" xlink:href=\"#DejaVuSans-111\"/>\n      <use x=\"177.535156\" xlink:href=\"#DejaVuSans-117\"/>\n      <use x=\"240.914062\" xlink:href=\"#DejaVuSans-112\"/>\n      <use x=\"304.390625\" xlink:href=\"#DejaVuSans-115\"/>\n      <use x=\"356.490234\" xlink:href=\"#DejaVuSans-32\"/>\n      <use x=\"388.277344\" xlink:href=\"#DejaVuSans-111\"/>\n      <use x=\"449.458984\" xlink:href=\"#DejaVuSans-102\"/>\n      <use x=\"484.664062\" xlink:href=\"#DejaVuSans-32\"/>\n      <use x=\"516.451172\" xlink:href=\"#DejaVuSans-101\"/>\n      <use x=\"576.224609\" xlink:href=\"#DejaVuSans-120\"/>\n      <use x=\"635.404297\" xlink:href=\"#DejaVuSans-112\"/>\n      <use x=\"698.880859\" xlink:href=\"#DejaVuSans-101\"/>\n      <use x=\"760.404297\" xlink:href=\"#DejaVuSans-114\"/>\n      <use x=\"801.517578\" xlink:href=\"#DejaVuSans-105\"/>\n      <use x=\"829.300781\" xlink:href=\"#DejaVuSans-109\"/>\n      <use x=\"926.712891\" xlink:href=\"#DejaVuSans-101\"/>\n      <use x=\"988.236328\" xlink:href=\"#DejaVuSans-110\"/>\n      <use x=\"1051.615234\" xlink:href=\"#DejaVuSans-116\"/>\n      <use x=\"1090.824219\" xlink:href=\"#DejaVuSans-115\"/>\n     </g>\n    </g>\n   </g>\n   <g id=\"matplotlib.axis_2\">\n    <g id=\"ytick_1\">\n     <g id=\"line2d_7\">\n      <defs>\n       <path d=\"M 0 0 \nL -3.5 0 \n\" id=\"mb7240cbf2f\" style=\"stroke:#000000;stroke-width:0.8;\"/>\n      </defs>\n      <g>\n       <use style=\"stroke:#000000;stroke-width:0.8;\" x=\"50.14375\" xlink:href=\"#mb7240cbf2f\" y=\"240.700909\"/>\n      </g>\n     </g>\n     <g id=\"text_8\">\n      <!-- 0.00 -->\n      <defs>\n       <path d=\"M 10.6875 12.40625 \nL 21 12.40625 \nL 21 0 \nL 10.6875 0 \nz\n\" id=\"DejaVuSans-46\"/>\n      </defs>\n      <g transform=\"translate(20.878125 244.500128)scale(0.1 -0.1)\">\n       <use xlink:href=\"#DejaVuSans-48\"/>\n       <use x=\"63.623047\" xlink:href=\"#DejaVuSans-46\"/>\n       <use x=\"95.410156\" xlink:href=\"#DejaVuSans-48\"/>\n       <use x=\"159.033203\" xlink:href=\"#DejaVuSans-48\"/>\n      </g>\n     </g>\n    </g>\n    <g id=\"ytick_2\">\n     <g id=\"line2d_8\">\n      <g>\n       <use style=\"stroke:#000000;stroke-width:0.8;\" x=\"50.14375\" xlink:href=\"#mb7240cbf2f\" y=\"212.903182\"/>\n      </g>\n     </g>\n     <g id=\"text_9\">\n      <!-- 0.05 -->\n      <g transform=\"translate(20.878125 216.702401)scale(0.1 -0.1)\">\n       <use xlink:href=\"#DejaVuSans-48\"/>\n       <use x=\"63.623047\" xlink:href=\"#DejaVuSans-46\"/>\n       <use x=\"95.410156\" xlink:href=\"#DejaVuSans-48\"/>\n       <use x=\"159.033203\" xlink:href=\"#DejaVuSans-53\"/>\n      </g>\n     </g>\n    </g>\n    <g id=\"ytick_3\">\n     <g id=\"line2d_9\">\n      <g>\n       <use style=\"stroke:#000000;stroke-width:0.8;\" x=\"50.14375\" xlink:href=\"#mb7240cbf2f\" y=\"185.105455\"/>\n      </g>\n     </g>\n     <g id=\"text_10\">\n      <!-- 0.10 -->\n      <g transform=\"translate(20.878125 188.904674)scale(0.1 -0.1)\">\n       <use xlink:href=\"#DejaVuSans-48\"/>\n       <use x=\"63.623047\" xlink:href=\"#DejaVuSans-46\"/>\n       <use x=\"95.410156\" xlink:href=\"#DejaVuSans-49\"/>\n       <use x=\"159.033203\" xlink:href=\"#DejaVuSans-48\"/>\n      </g>\n     </g>\n    </g>\n    <g id=\"ytick_4\">\n     <g id=\"line2d_10\">\n      <g>\n       <use style=\"stroke:#000000;stroke-width:0.8;\" x=\"50.14375\" xlink:href=\"#mb7240cbf2f\" y=\"157.307729\"/>\n      </g>\n     </g>\n     <g id=\"text_11\">\n      <!-- 0.15 -->\n      <g transform=\"translate(20.878125 161.106947)scale(0.1 -0.1)\">\n       <use xlink:href=\"#DejaVuSans-48\"/>\n       <use x=\"63.623047\" xlink:href=\"#DejaVuSans-46\"/>\n       <use x=\"95.410156\" xlink:href=\"#DejaVuSans-49\"/>\n       <use x=\"159.033203\" xlink:href=\"#DejaVuSans-53\"/>\n      </g>\n     </g>\n    </g>\n    <g id=\"ytick_5\">\n     <g id=\"line2d_11\">\n      <g>\n       <use style=\"stroke:#000000;stroke-width:0.8;\" x=\"50.14375\" xlink:href=\"#mb7240cbf2f\" y=\"129.510002\"/>\n      </g>\n     </g>\n     <g id=\"text_12\">\n      <!-- 0.20 -->\n      <g transform=\"translate(20.878125 133.30922)scale(0.1 -0.1)\">\n       <use xlink:href=\"#DejaVuSans-48\"/>\n       <use x=\"63.623047\" xlink:href=\"#DejaVuSans-46\"/>\n       <use x=\"95.410156\" xlink:href=\"#DejaVuSans-50\"/>\n       <use x=\"159.033203\" xlink:href=\"#DejaVuSans-48\"/>\n      </g>\n     </g>\n    </g>\n    <g id=\"ytick_6\">\n     <g id=\"line2d_12\">\n      <g>\n       <use style=\"stroke:#000000;stroke-width:0.8;\" x=\"50.14375\" xlink:href=\"#mb7240cbf2f\" y=\"101.712275\"/>\n      </g>\n     </g>\n     <g id=\"text_13\">\n      <!-- 0.25 -->\n      <g transform=\"translate(20.878125 105.511494)scale(0.1 -0.1)\">\n       <use xlink:href=\"#DejaVuSans-48\"/>\n       <use x=\"63.623047\" xlink:href=\"#DejaVuSans-46\"/>\n       <use x=\"95.410156\" xlink:href=\"#DejaVuSans-50\"/>\n       <use x=\"159.033203\" xlink:href=\"#DejaVuSans-53\"/>\n      </g>\n     </g>\n    </g>\n    <g id=\"ytick_7\">\n     <g id=\"line2d_13\">\n      <g>\n       <use style=\"stroke:#000000;stroke-width:0.8;\" x=\"50.14375\" xlink:href=\"#mb7240cbf2f\" y=\"73.914548\"/>\n      </g>\n     </g>\n     <g id=\"text_14\">\n      <!-- 0.30 -->\n      <g transform=\"translate(20.878125 77.713767)scale(0.1 -0.1)\">\n       <use xlink:href=\"#DejaVuSans-48\"/>\n       <use x=\"63.623047\" xlink:href=\"#DejaVuSans-46\"/>\n       <use x=\"95.410156\" xlink:href=\"#DejaVuSans-51\"/>\n       <use x=\"159.033203\" xlink:href=\"#DejaVuSans-48\"/>\n      </g>\n     </g>\n    </g>\n    <g id=\"ytick_8\">\n     <g id=\"line2d_14\">\n      <g>\n       <use style=\"stroke:#000000;stroke-width:0.8;\" x=\"50.14375\" xlink:href=\"#mb7240cbf2f\" y=\"46.116821\"/>\n      </g>\n     </g>\n     <g id=\"text_15\">\n      <!-- 0.35 -->\n      <g transform=\"translate(20.878125 49.91604)scale(0.1 -0.1)\">\n       <use xlink:href=\"#DejaVuSans-48\"/>\n       <use x=\"63.623047\" xlink:href=\"#DejaVuSans-46\"/>\n       <use x=\"95.410156\" xlink:href=\"#DejaVuSans-51\"/>\n       <use x=\"159.033203\" xlink:href=\"#DejaVuSans-53\"/>\n      </g>\n     </g>\n    </g>\n    <g id=\"ytick_9\">\n     <g id=\"line2d_15\">\n      <g>\n       <use style=\"stroke:#000000;stroke-width:0.8;\" x=\"50.14375\" xlink:href=\"#mb7240cbf2f\" y=\"18.319094\"/>\n      </g>\n     </g>\n     <g id=\"text_16\">\n      <!-- 0.40 -->\n      <g transform=\"translate(20.878125 22.118313)scale(0.1 -0.1)\">\n       <use xlink:href=\"#DejaVuSans-48\"/>\n       <use x=\"63.623047\" xlink:href=\"#DejaVuSans-46\"/>\n       <use x=\"95.410156\" xlink:href=\"#DejaVuSans-52\"/>\n       <use x=\"159.033203\" xlink:href=\"#DejaVuSans-48\"/>\n      </g>\n     </g>\n    </g>\n    <g id=\"text_17\">\n     <!-- Estimated probability -->\n     <defs>\n      <path d=\"M 9.8125 72.90625 \nL 55.90625 72.90625 \nL 55.90625 64.59375 \nL 19.671875 64.59375 \nL 19.671875 43.015625 \nL 54.390625 43.015625 \nL 54.390625 34.71875 \nL 19.671875 34.71875 \nL 19.671875 8.296875 \nL 56.78125 8.296875 \nL 56.78125 0 \nL 9.8125 0 \nz\n\" id=\"DejaVuSans-69\"/>\n      <path d=\"M 34.28125 27.484375 \nQ 23.390625 27.484375 19.1875 25 \nQ 14.984375 22.515625 14.984375 16.5 \nQ 14.984375 11.71875 18.140625 8.90625 \nQ 21.296875 6.109375 26.703125 6.109375 \nQ 34.1875 6.109375 38.703125 11.40625 \nQ 43.21875 16.703125 43.21875 25.484375 \nL 43.21875 27.484375 \nz\nM 52.203125 31.203125 \nL 52.203125 0 \nL 43.21875 0 \nL 43.21875 8.296875 \nQ 40.140625 3.328125 35.546875 0.953125 \nQ 30.953125 -1.421875 24.3125 -1.421875 \nQ 15.921875 -1.421875 10.953125 3.296875 \nQ 6 8.015625 6 15.921875 \nQ 6 25.140625 12.171875 29.828125 \nQ 18.359375 34.515625 30.609375 34.515625 \nL 43.21875 34.515625 \nL 43.21875 35.40625 \nQ 43.21875 41.609375 39.140625 45 \nQ 35.0625 48.390625 27.6875 48.390625 \nQ 23 48.390625 18.546875 47.265625 \nQ 14.109375 46.140625 10.015625 43.890625 \nL 10.015625 52.203125 \nQ 14.9375 54.109375 19.578125 55.046875 \nQ 24.21875 56 28.609375 56 \nQ 40.484375 56 46.34375 49.84375 \nQ 52.203125 43.703125 52.203125 31.203125 \nz\n\" id=\"DejaVuSans-97\"/>\n      <path d=\"M 45.40625 46.390625 \nL 45.40625 75.984375 \nL 54.390625 75.984375 \nL 54.390625 0 \nL 45.40625 0 \nL 45.40625 8.203125 \nQ 42.578125 3.328125 38.25 0.953125 \nQ 33.9375 -1.421875 27.875 -1.421875 \nQ 17.96875 -1.421875 11.734375 6.484375 \nQ 5.515625 14.40625 5.515625 27.296875 \nQ 5.515625 40.1875 11.734375 48.09375 \nQ 17.96875 56 27.875 56 \nQ 33.9375 56 38.25 53.625 \nQ 42.578125 51.265625 45.40625 46.390625 \nz\nM 14.796875 27.296875 \nQ 14.796875 17.390625 18.875 11.75 \nQ 22.953125 6.109375 30.078125 6.109375 \nQ 37.203125 6.109375 41.296875 11.75 \nQ 45.40625 17.390625 45.40625 27.296875 \nQ 45.40625 37.203125 41.296875 42.84375 \nQ 37.203125 48.484375 30.078125 48.484375 \nQ 22.953125 48.484375 18.875 42.84375 \nQ 14.796875 37.203125 14.796875 27.296875 \nz\n\" id=\"DejaVuSans-100\"/>\n      <path d=\"M 48.6875 27.296875 \nQ 48.6875 37.203125 44.609375 42.84375 \nQ 40.53125 48.484375 33.40625 48.484375 \nQ 26.265625 48.484375 22.1875 42.84375 \nQ 18.109375 37.203125 18.109375 27.296875 \nQ 18.109375 17.390625 22.1875 11.75 \nQ 26.265625 6.109375 33.40625 6.109375 \nQ 40.53125 6.109375 44.609375 11.75 \nQ 48.6875 17.390625 48.6875 27.296875 \nz\nM 18.109375 46.390625 \nQ 20.953125 51.265625 25.265625 53.625 \nQ 29.59375 56 35.59375 56 \nQ 45.5625 56 51.78125 48.09375 \nQ 58.015625 40.1875 58.015625 27.296875 \nQ 58.015625 14.40625 51.78125 6.484375 \nQ 45.5625 -1.421875 35.59375 -1.421875 \nQ 29.59375 -1.421875 25.265625 0.953125 \nQ 20.953125 3.328125 18.109375 8.203125 \nL 18.109375 0 \nL 9.078125 0 \nL 9.078125 75.984375 \nL 18.109375 75.984375 \nz\n\" id=\"DejaVuSans-98\"/>\n      <path d=\"M 9.421875 75.984375 \nL 18.40625 75.984375 \nL 18.40625 0 \nL 9.421875 0 \nz\n\" id=\"DejaVuSans-108\"/>\n      <path d=\"M 32.171875 -5.078125 \nQ 28.375 -14.84375 24.75 -17.8125 \nQ 21.140625 -20.796875 15.09375 -20.796875 \nL 7.90625 -20.796875 \nL 7.90625 -13.28125 \nL 13.1875 -13.28125 \nQ 16.890625 -13.28125 18.9375 -11.515625 \nQ 21 -9.765625 23.484375 -3.21875 \nL 25.09375 0.875 \nL 2.984375 54.6875 \nL 12.5 54.6875 \nL 29.59375 11.921875 \nL 46.6875 54.6875 \nL 56.203125 54.6875 \nz\n\" id=\"DejaVuSans-121\"/>\n     </defs>\n     <g transform=\"translate(14.798438 183.033437)rotate(-90)scale(0.1 -0.1)\">\n      <use xlink:href=\"#DejaVuSans-69\"/>\n      <use x=\"63.183594\" xlink:href=\"#DejaVuSans-115\"/>\n      <use x=\"115.283203\" xlink:href=\"#DejaVuSans-116\"/>\n      <use x=\"154.492188\" xlink:href=\"#DejaVuSans-105\"/>\n      <use x=\"182.275391\" xlink:href=\"#DejaVuSans-109\"/>\n      <use x=\"279.6875\" xlink:href=\"#DejaVuSans-97\"/>\n      <use x=\"340.966797\" xlink:href=\"#DejaVuSans-116\"/>\n      <use x=\"380.175781\" xlink:href=\"#DejaVuSans-101\"/>\n      <use x=\"441.699219\" xlink:href=\"#DejaVuSans-100\"/>\n      <use x=\"505.175781\" xlink:href=\"#DejaVuSans-32\"/>\n      <use x=\"536.962891\" xlink:href=\"#DejaVuSans-112\"/>\n      <use x=\"600.439453\" xlink:href=\"#DejaVuSans-114\"/>\n      <use x=\"639.302734\" xlink:href=\"#DejaVuSans-111\"/>\n      <use x=\"700.484375\" xlink:href=\"#DejaVuSans-98\"/>\n      <use x=\"763.960938\" xlink:href=\"#DejaVuSans-97\"/>\n      <use x=\"825.240234\" xlink:href=\"#DejaVuSans-98\"/>\n      <use x=\"888.716797\" xlink:href=\"#DejaVuSans-105\"/>\n      <use x=\"916.5\" xlink:href=\"#DejaVuSans-108\"/>\n      <use x=\"944.283203\" xlink:href=\"#DejaVuSans-105\"/>\n      <use x=\"972.066406\" xlink:href=\"#DejaVuSans-116\"/>\n      <use x=\"1011.275391\" xlink:href=\"#DejaVuSans-121\"/>\n     </g>\n    </g>\n   </g>\n   <g id=\"line2d_16\">\n    <path clip-path=\"url(#p8015c9ccc0)\" d=\"M 65.361932 73.914541 \nL 65.971879 129.51 \nL 66.581826 148.041817 \nL 67.191773 129.51 \nL 68.411668 129.51 \nL 69.021615 113.625586 \nL 69.631562 122.560567 \nL 70.851456 123.95046 \nL 71.461403 129.51 \nL 72.071351 138.775908 \nL 72.681298 125.233427 \nL 73.901192 125.80364 \nL 74.511139 122.560567 \nL 75.121086 113.158397 \nL 75.731034 117.155455 \nL 76.340981 111.953543 \nL 76.950928 110.051593 \nL 77.560875 113.625586 \nL 78.170822 114.347601 \nL 78.780769 110.172454 \nL 79.390717 110.978183 \nL 80.000664 116.167089 \nL 80.610611 116.680281 \nL 81.830505 121.567793 \nL 82.440452 123.758751 \nL 83.0504 123.95046 \nL 83.660347 127.7166 \nL 84.270294 124.297931 \nL 85.490188 127.87484 \nL 86.100135 126.333119 \nL 86.710083 126.421364 \nL 87.32003 128.007423 \nL 88.539924 128.084476 \nL 89.149871 130.899885 \nL 89.759819 130.865985 \nL 90.979713 133.388758 \nL 92.199607 138.158184 \nL 92.809554 137.970179 \nL 93.419502 138.97306 \nL 94.029449 138.775908 \nL 94.639396 137.452207 \nL 95.249343 135.069548 \nL 95.85929 136.050641 \nL 96.469237 134.855721 \nL 97.079185 134.754858 \nL 97.689132 133.628184 \nL 98.299079 135.574961 \nL 98.909026 135.46666 \nL 99.518973 136.337512 \nL 100.12892 138.136885 \nL 101.348815 139.702498 \nL 103.178656 139.217142 \nL 104.398551 142.339719 \nL 105.008498 141.30298 \nL 105.618445 141.126962 \nL 106.228392 140.138546 \nL 106.838339 140.790236 \nL 107.448286 140.629088 \nL 108.058234 137.340343 \nL 108.668181 137.231594 \nL 109.278128 135.602656 \nL 109.888075 136.27161 \nL 110.498022 137.664005 \nL 111.107969 137.556715 \nL 112.937811 139.362359 \nL 113.547758 140.629088 \nL 114.157705 141.178185 \nL 114.767652 142.391878 \nL 115.3776 142.906494 \nL 115.987547 142.747012 \nL 116.597494 143.24535 \nL 117.207441 143.085636 \nL 117.817388 142.290568 \nL 118.427335 143.408867 \nL 119.037283 142.628032 \nL 120.257177 142.339719 \nL 120.867124 140.99167 \nL 121.477071 140.270408 \nL 122.087018 140.155943 \nL 123.91686 141.546135 \nL 125.136754 143.549254 \nL 125.746701 142.296955 \nL 126.356649 142.7208 \nL 126.966596 142.046229 \nL 128.18649 141.805154 \nL 128.796437 142.217533 \nL 130.016332 140.940846 \nL 131.846173 140.629088 \nL 132.45612 141.530643 \nL 133.066067 141.919702 \nL 133.676015 141.317884 \nL 134.285962 141.214304 \nL 134.895909 140.629088 \nL 136.115803 141.38937 \nL 136.72575 141.288698 \nL 137.335698 140.722528 \nL 137.945645 140.629088 \nL 139.775486 141.713885 \nL 140.385433 140.718758 \nL 140.995381 140.184326 \nL 142.215275 140.016227 \nL 144.045116 141.056752 \nL 144.655064 140.968607 \nL 145.874958 142.468342 \nL 146.484905 142.786528 \nL 147.094852 143.511817 \nL 148.314747 143.307416 \nL 149.534641 143.90882 \nL 150.144588 143.408867 \nL 150.754535 143.704586 \nL 151.364482 143.213107 \nL 153.804271 144.36084 \nL 154.414218 143.881614 \nL 155.024165 144.160151 \nL 155.634113 143.688704 \nL 156.24406 143.964822 \nL 156.854007 144.605453 \nL 157.463954 144.871903 \nL 158.073901 144.408127 \nL 158.683848 144.311391 \nL 159.293796 144.933257 \nL 159.903743 145.190768 \nL 160.51369 144.028562 \nL 161.123637 143.584802 \nL 161.733584 143.496283 \nL 162.343531 144.103809 \nL 162.953479 143.322535 \nL 164.173373 143.153054 \nL 164.78332 143.408867 \nL 166.003214 141.901758 \nL 166.613162 141.827555 \nL 167.223109 140.761464 \nL 167.833056 140.365919 \nL 168.443003 140.302063 \nL 169.05295 140.889184 \nL 169.662897 140.176571 \nL 170.272845 140.757637 \nL 170.882792 140.053971 \nL 171.492739 140.629088 \nL 172.102686 140.881803 \nL 172.712633 140.81755 \nL 173.32258 141.066362 \nL 173.932528 141.001802 \nL 175.152422 141.48913 \nL 175.762369 141.423311 \nL 176.372316 141.054416 \nL 176.982263 141.293818 \nL 177.592211 140.929612 \nL 178.202158 140.868217 \nL 179.422052 140.155943 \nL 180.031999 140.09961 \nL 180.641946 140.336485 \nL 181.251894 140.279803 \nL 183.081735 140.972981 \nL 183.691682 141.484408 \nL 184.301629 141.706968 \nL 185.521524 141.02219 \nL 186.131471 140.96434 \nL 186.741418 140.629088 \nL 188.57126 141.286378 \nL 189.181207 140.956122 \nL 189.791154 141.171491 \nL 190.401101 141.114875 \nL 191.011048 141.327394 \nL 191.620995 141.27058 \nL 192.230943 140.948302 \nL 192.84089 140.893832 \nL 193.450837 141.366853 \nL 194.060784 141.573167 \nL 194.670731 141.516535 \nL 195.280678 141.980012 \nL 195.890626 141.922013 \nL 196.500573 142.121932 \nL 198.940361 141.892629 \nL 199.550309 142.339719 \nL 200.160256 142.532364 \nL 200.770203 141.975348 \nL 201.38015 142.167893 \nL 201.990097 141.864545 \nL 202.600044 141.809884 \nL 203.819939 142.189665 \nL 204.429886 142.1343 \nL 205.64978 142.506343 \nL 206.259727 142.450324 \nL 206.869675 142.156179 \nL 209.309463 142.881061 \nL 209.91941 142.591282 \nL 210.529358 143.001789 \nL 211.139305 143.177219 \nL 212.969146 143.008483 \nL 213.579093 143.408867 \nL 214.189041 143.579053 \nL 214.798988 143.973861 \nL 216.628829 143.129775 \nL 217.238776 142.630525 \nL 217.848724 142.79975 \nL 218.458671 142.526399 \nL 219.678565 143.299422 \nL 220.288512 143.46337 \nL 220.898459 143.843208 \nL 221.508407 143.787429 \nL 222.118354 143.516605 \nL 222.728301 143.462525 \nL 223.338248 143.622695 \nL 224.558142 143.090573 \nL 225.16809 142.616152 \nL 225.778037 142.566512 \nL 226.387984 142.72703 \nL 226.997931 142.468342 \nL 227.607878 142.836251 \nL 228.217825 142.993977 \nL 228.827773 142.5305 \nL 230.047667 143.255001 \nL 230.657614 143.408867 \nL 231.267561 143.765244 \nL 231.877508 143.510317 \nL 232.487456 143.661573 \nL 233.70735 143.559394 \nL 234.317297 143.308874 \nL 234.927244 142.860881 \nL 235.537191 142.813196 \nL 236.147139 142.370156 \nL 237.367033 142.672179 \nL 237.97698 142.625828 \nL 238.586927 142.384737 \nL 239.196874 142.534112 \nL 239.806822 142.101303 \nL 241.636663 141.971048 \nL 242.24661 141.737181 \nL 244.076452 141.61241 \nL 245.296346 141.154997 \nL 246.51624 141.076842 \nL 247.126188 141.224097 \nL 247.736135 140.999731 \nL 248.346082 140.961557 \nL 248.956029 141.291821 \nL 249.565976 140.88597 \nL 250.785871 140.811369 \nL 251.395818 140.592753 \nL 252.005765 140.737746 \nL 252.615712 140.520787 \nL 253.225659 140.844996 \nL 253.835606 140.629088 \nL 254.445554 140.593341 \nL 256.275395 141.018611 \nL 256.885342 140.982077 \nL 257.495289 141.12171 \nL 258.715184 141.048683 \nL 259.325131 141.36107 \nL 259.935078 141.324039 \nL 260.545025 141.114039 \nL 261.76492 141.042188 \nL 262.374867 140.835005 \nL 264.204708 140.731102 \nL 264.814655 140.52739 \nL 265.424603 140.493904 \nL 266.03455 140.123676 \nL 266.644497 140.091615 \nL 267.254444 140.394657 \nL 267.864391 140.528922 \nL 268.474338 140.163026 \nL 269.084286 140.297175 \nL 269.694233 140.265073 \nL 270.30418 140.563103 \nL 270.914127 140.365919 \nL 271.524074 140.333892 \nL 272.743969 140.596481 \nL 273.353916 140.401509 \nL 273.963863 140.369755 \nL 275.183757 139.984507 \nL 275.793704 140.114911 \nL 276.403652 140.404789 \nL 277.013599 140.373483 \nL 277.623546 140.66095 \nL 278.84344 140.280631 \nL 279.453387 139.776204 \nL 280.063335 139.747126 \nL 281.283229 140.002666 \nL 282.503123 139.632421 \nL 284.332965 140.011365 \nL 284.942912 139.828272 \nL 285.552859 140.106925 \nL 286.162806 140.077731 \nL 286.772753 140.201433 \nL 287.382701 140.172148 \nL 287.992648 140.294914 \nL 288.602595 140.265529 \nL 289.212542 140.538449 \nL 289.822489 140.508559 \nL 291.042384 140.748972 \nL 291.652331 140.718758 \nL 293.482172 140.184326 \nL 294.702067 140.422634 \nL 295.312014 140.393771 \nL 295.921961 140.51174 \nL 297.141855 141.037665 \nL 297.751802 141.153025 \nL 298.36175 140.977471 \nL 298.971697 141.092392 \nL 299.581644 140.917898 \nL 300.801538 141.146257 \nL 301.411485 140.972981 \nL 303.241327 141.311596 \nL 303.851274 140.856014 \nL 305.681116 140.76984 \nL 306.291063 140.320231 \nL 307.510957 140.545284 \nL 308.120904 140.7963 \nL 308.730851 140.90707 \nL 309.340799 140.740008 \nL 309.950746 140.712073 \nL 310.560693 140.82223 \nL 311.17064 140.656617 \nL 311.780587 140.766369 \nL 312.390534 140.738641 \nL 313.610429 140.956122 \nL 314.220376 141.199997 \nL 314.830323 141.171491 \nL 316.050217 141.384755 \nL 316.660165 141.625234 \nL 317.270112 141.461684 \nL 317.880059 141.700812 \nL 318.490006 141.805154 \nL 319.099953 142.042311 \nL 320.319848 141.717116 \nL 320.929795 141.820422 \nL 322.149689 142.289052 \nL 322.759636 142.258839 \nL 323.369583 142.491017 \nL 323.979531 142.198844 \nL 324.589478 142.299565 \nL 325.199425 142.269617 \nL 325.809372 142.109903 \nL 326.419319 141.691757 \nL 327.029266 141.922013 \nL 327.639214 142.022204 \nL 328.249161 141.864545 \nL 328.859108 141.579223 \nL 330.079002 141.523734 \nL 330.688949 141.751206 \nL 331.298897 141.850411 \nL 331.908844 141.695303 \nL 332.518791 141.667551 \nL 333.128738 141.766275 \nL 333.738685 141.738481 \nL 334.348632 141.962375 \nL 335.568527 141.655853 \nL 338.618263 142.139702 \nL 339.22821 141.864545 \nL 340.448104 142.05588 \nL 341.667998 142.000607 \nL 343.49784 142.283576 \nL 344.717734 142.712408 \nL 345.327681 142.804564 \nL 346.547576 142.506343 \nL 347.157523 142.478275 \nL 348.377417 142.661617 \nL 348.987365 142.633392 \nL 350.207259 143.052482 \nL 350.817206 143.142152 \nL 351.427153 142.994855 \nL 352.0371 143.08426 \nL 352.647048 142.937718 \nL 353.256995 142.67425 \nL 353.866942 142.646481 \nL 355.086836 142.824877 \nL 355.696783 142.796967 \nL 356.306731 142.885477 \nL 356.916678 143.089687 \nL 357.526625 143.061395 \nL 358.136572 142.917637 \nL 359.356466 142.516806 \nL 359.966414 142.604803 \nL 360.576361 142.463173 \nL 361.796255 142.638288 \nL 362.406202 142.497462 \nL 363.016149 142.584597 \nL 363.626097 142.784838 \nL 364.845991 142.617875 \nL 365.455938 142.816824 \nL 366.065885 142.789884 \nL 366.675832 142.87537 \nL 367.895727 142.597869 \nL 368.505674 142.794863 \nL 369.115621 142.65682 \nL 369.725568 142.296955 \nL 369.725568 142.296955 \n\" style=\"fill:none;stroke:#1f77b4;stroke-linecap:square;stroke-width:1.5;\"/>\n   </g>\n   <g id=\"line2d_17\">\n    <path clip-path=\"url(#p8015c9ccc0)\" d=\"M 65.361932 240.700909 \nL 65.971879 185.105455 \nL 66.581826 166.573634 \nL 67.191773 185.105455 \nL 67.80172 162.867274 \nL 68.411668 166.573634 \nL 69.021615 169.221036 \nL 69.631562 164.257159 \nL 70.241509 160.396361 \nL 70.851456 146.188637 \nL 72.071351 152.674775 \nL 72.681298 159.446012 \nL 73.901192 148.041817 \nL 74.511139 150.3583 \nL 75.731034 148.041817 \nL 76.340981 152.918617 \nL 77.560875 150.689219 \nL 78.780769 153.681939 \nL 79.390717 152.674775 \nL 80.000664 147.300548 \nL 81.830505 145.394414 \nL 83.0504 140.629088 \nL 83.660347 142.063817 \nL 85.490188 140.956122 \nL 86.100135 140.629088 \nL 86.710083 143.408867 \nL 87.32003 141.530643 \nL 87.929977 142.677349 \nL 88.539924 145.190768 \nL 89.149871 142.018982 \nL 89.759819 144.425856 \nL 90.369766 144.070713 \nL 90.979713 145.025014 \nL 91.58966 143.408867 \nL 92.199607 144.335457 \nL 92.809554 142.804564 \nL 94.029449 144.567104 \nL 94.639396 146.529017 \nL 95.249343 147.300548 \nL 96.469237 146.616292 \nL 97.079185 148.391475 \nL 98.299079 147.704875 \nL 99.518973 150.967897 \nL 100.12892 148.680848 \nL 101.348815 151.748185 \nL 101.958762 150.472218 \nL 102.568709 150.134125 \nL 103.178656 148.924284 \nL 104.398551 144.90567 \nL 105.008498 144.672399 \nL 106.838339 146.430358 \nL 107.448286 147.777082 \nL 108.058234 148.302832 \nL 108.668181 148.041817 \nL 109.278128 149.311123 \nL 109.888075 149.043538 \nL 111.107969 149.992537 \nL 111.717917 149.00451 \nL 112.327864 149.467341 \nL 113.547758 148.968407 \nL 114.157705 147.355457 \nL 114.767652 147.815819 \nL 115.3776 146.255624 \nL 117.817388 142.929591 \nL 118.427335 142.777101 \nL 119.64723 143.717733 \nL 120.257177 142.950658 \nL 122.087018 142.521702 \nL 122.696966 142.969953 \nL 124.526807 142.557913 \nL 125.136754 142.987689 \nL 125.746701 142.852911 \nL 126.356649 143.271255 \nL 126.966596 142.046229 \nL 127.576543 142.464283 \nL 128.18649 141.805154 \nL 128.796437 141.688054 \nL 129.406384 142.09765 \nL 130.626279 141.864545 \nL 131.236226 142.26125 \nL 131.846173 141.639922 \nL 132.45612 141.530643 \nL 133.066067 141.919702 \nL 133.676015 142.793868 \nL 134.285962 143.165025 \nL 134.895909 142.079408 \nL 135.505856 142.450324 \nL 136.72575 142.230995 \nL 137.335698 142.591282 \nL 137.945645 142.482277 \nL 138.555592 141.915601 \nL 140.385433 144.305567 \nL 140.995381 143.742437 \nL 143.435169 145.025014 \nL 144.045116 144.05035 \nL 144.655064 143.939356 \nL 145.265011 143.408867 \nL 145.874958 143.304359 \nL 146.484905 142.786528 \nL 147.094852 143.100001 \nL 147.704799 143.817659 \nL 148.314747 143.307416 \nL 148.924694 143.207432 \nL 149.534641 143.508859 \nL 150.144588 144.203089 \nL 150.754535 144.09888 \nL 151.364482 144.387657 \nL 151.97443 143.894836 \nL 153.194324 143.696425 \nL 153.804271 143.980049 \nL 155.024165 143.784513 \nL 156.24406 145.076725 \nL 156.854007 144.973635 \nL 159.293796 147.444017 \nL 159.903743 147.329055 \nL 161.733584 148.041817 \nL 162.343531 148.620936 \nL 162.953479 148.502237 \nL 163.563426 148.728185 \nL 164.173373 148.269206 \nL 165.393267 148.041817 \nL 166.003214 148.265097 \nL 166.613162 148.818601 \nL 167.223109 148.703672 \nL 167.833056 148.261129 \nL 168.443003 148.477865 \nL 169.05295 147.716697 \nL 170.272845 148.148942 \nL 170.882792 148.680848 \nL 171.492739 148.571304 \nL 172.102686 147.515345 \nL 172.712633 147.413621 \nL 173.932528 147.834757 \nL 174.542475 147.732959 \nL 175.152422 147.93943 \nL 175.762369 147.83817 \nL 178.202158 148.639617 \nL 178.812105 148.537321 \nL 179.422052 148.73183 \nL 180.031999 148.630131 \nL 180.641946 149.114717 \nL 181.861841 148.910499 \nL 182.471788 149.098041 \nL 183.081735 148.71049 \nL 183.691682 148.897136 \nL 184.301629 148.798221 \nL 184.911577 148.982523 \nL 185.521524 148.603389 \nL 186.131471 148.786813 \nL 187.351365 148.595005 \nL 187.961312 148.775754 \nL 188.57126 148.406975 \nL 192.230943 147.864482 \nL 192.84089 148.30656 \nL 193.450837 148.217479 \nL 194.060784 148.653717 \nL 195.280678 148.474808 \nL 195.890626 148.645184 \nL 196.500573 148.299204 \nL 197.720467 148.636875 \nL 198.330414 148.295683 \nL 198.940361 148.210288 \nL 199.550309 147.370982 \nL 200.770203 148.208026 \nL 201.38015 147.876353 \nL 201.990097 147.794727 \nL 202.600044 147.959818 \nL 203.209992 147.633629 \nL 203.819939 147.797983 \nL 204.429886 148.203669 \nL 205.039833 148.122391 \nL 205.64978 148.282494 \nL 206.259727 148.680848 \nL 207.479622 148.516992 \nL 208.089569 148.672688 \nL 208.699516 148.355919 \nL 209.309463 148.510977 \nL 210.529358 149.282442 \nL 211.139305 149.431702 \nL 211.749252 149.118354 \nL 212.359199 149.037333 \nL 213.579093 148.421572 \nL 214.189041 148.798221 \nL 215.408935 148.191872 \nL 216.018882 148.564892 \nL 216.628829 148.711641 \nL 217.238776 149.0796 \nL 217.848724 148.337146 \nL 218.458671 148.262438 \nL 219.068618 148.627803 \nL 219.678565 148.55254 \nL 220.288512 148.913904 \nL 220.898459 149.055277 \nL 221.508407 148.979226 \nL 222.118354 149.334733 \nL 223.338248 149.182243 \nL 224.558142 149.456464 \nL 225.16809 149.38062 \nL 225.778037 149.09476 \nL 226.387984 149.230657 \nL 226.997931 148.738507 \nL 227.607878 148.874711 \nL 228.217825 148.802454 \nL 228.827773 148.937407 \nL 229.43772 148.659549 \nL 230.657614 147.701164 \nL 231.267561 147.634524 \nL 232.487456 147.907047 \nL 233.097403 147.840391 \nL 233.70735 147.172099 \nL 234.317297 147.108566 \nL 234.927244 147.444017 \nL 236.147139 147.316371 \nL 236.757086 147.647522 \nL 237.367033 147.583434 \nL 238.586927 147.846745 \nL 239.196874 147.782632 \nL 239.806822 147.91268 \nL 241.026716 147.785324 \nL 241.636663 148.105722 \nL 242.24661 147.850771 \nL 242.856557 148.16875 \nL 243.466505 148.105068 \nL 244.076452 148.230916 \nL 244.686399 148.167458 \nL 245.296346 148.292253 \nL 245.906293 148.603389 \nL 247.736135 148.968407 \nL 248.346082 148.719064 \nL 248.956029 148.839543 \nL 250.175923 149.443896 \nL 250.785871 149.19626 \nL 251.395818 149.131924 \nL 252.005765 149.430194 \nL 252.615712 149.365518 \nL 253.225659 148.941425 \nL 253.835606 149.058077 \nL 254.445554 148.995223 \nL 255.055501 149.110964 \nL 255.665448 149.403585 \nL 256.275395 149.163172 \nL 256.885342 149.100783 \nL 257.495289 149.390653 \nL 258.715184 149.265617 \nL 259.325131 149.377969 \nL 259.935078 149.315878 \nL 262.374867 149.757725 \nL 263.594761 149.292433 \nL 265.424603 149.618995 \nL 266.03455 149.558063 \nL 266.644497 149.665454 \nL 267.254444 149.604746 \nL 268.474338 150.15023 \nL 269.084286 149.756706 \nL 269.694233 149.861909 \nL 270.30418 150.131458 \nL 270.914127 150.234938 \nL 271.524074 150.501794 \nL 272.134021 150.603567 \nL 272.743969 150.541716 \nL 273.353916 150.317657 \nL 273.963863 150.581166 \nL 275.183757 150.781308 \nL 276.403652 150.658708 \nL 277.013599 150.438178 \nL 278.233493 150.318585 \nL 278.84344 150.100913 \nL 279.453387 150.200359 \nL 280.063335 149.984244 \nL 281.283229 150.182116 \nL 281.893176 150.43638 \nL 282.503123 150.53349 \nL 283.723018 151.035821 \nL 284.332965 151.130453 \nL 284.942912 151.37857 \nL 285.552859 151.31816 \nL 286.162806 151.411243 \nL 286.772753 151.656543 \nL 287.382701 151.748185 \nL 287.992648 151.383623 \nL 289.212542 151.264743 \nL 289.822489 151.35645 \nL 291.652331 151.180275 \nL 292.262278 151.271221 \nL 293.482172 151.748185 \nL 294.092119 151.393316 \nL 294.702067 151.187806 \nL 295.312014 150.8363 \nL 295.921961 151.073407 \nL 296.531908 150.870357 \nL 297.141855 150.960217 \nL 297.751802 150.758526 \nL 299.581644 151.026161 \nL 300.801538 151.489597 \nL 301.411485 151.576235 \nL 302.021433 151.805347 \nL 302.63138 151.890734 \nL 303.241327 152.117875 \nL 303.851274 152.060199 \nL 306.291063 152.393993 \nL 306.90101 152.196311 \nL 308.120904 152.082592 \nL 308.730851 152.165146 \nL 309.340799 152.108655 \nL 309.950746 152.190736 \nL 310.560693 152.134452 \nL 311.17064 151.803226 \nL 311.780587 151.748185 \nL 312.390534 151.967282 \nL 313.610429 151.857191 \nL 314.830323 152.019382 \nL 316.660165 151.855874 \nL 317.880059 152.01611 \nL 318.490006 152.2293 \nL 319.099953 151.908173 \nL 319.7099 151.85459 \nL 320.929795 152.01292 \nL 321.539742 151.95947 \nL 322.149689 151.774529 \nL 323.979531 152.009805 \nL 324.589478 151.956993 \nL 325.199425 151.774223 \nL 325.809372 151.852096 \nL 326.419319 152.059205 \nL 327.029266 152.006765 \nL 328.859108 152.236085 \nL 329.469055 152.439922 \nL 330.079002 152.003791 \nL 330.688949 152.20723 \nL 331.908844 152.103585 \nL 332.518791 152.3054 \nL 333.128738 152.379951 \nL 333.738685 152.328091 \nL 334.95858 152.476066 \nL 335.568527 152.299129 \nL 336.788421 152.446243 \nL 337.398368 152.146183 \nL 338.008315 152.095656 \nL 339.22821 152.242364 \nL 339.838157 151.945419 \nL 341.058051 152.091821 \nL 341.667998 151.919622 \nL 342.277946 151.992557 \nL 342.887893 151.821336 \nL 343.49784 151.894164 \nL 345.327681 151.748185 \nL 345.937629 151.820541 \nL 346.547576 151.651912 \nL 347.157523 151.724169 \nL 347.76747 151.915927 \nL 348.377417 151.987305 \nL 348.987365 151.939065 \nL 351.427153 152.221339 \nL 352.0371 152.05508 \nL 352.647048 152.007312 \nL 353.256995 152.194829 \nL 355.086836 152.402244 \nL 355.696783 152.354253 \nL 356.916678 151.910675 \nL 358.136572 151.817534 \nL 359.356466 151.494957 \nL 359.966414 151.564396 \nL 361.186308 151.473641 \nL 361.796255 151.5427 \nL 363.016149 151.452582 \nL 364.845991 151.657786 \nL 366.065885 151.455573 \nL 368.505674 151.279306 \nL 369.725568 151.5258 \nL 369.725568 151.5258 \n\" style=\"fill:none;stroke:#ff7f0e;stroke-linecap:square;stroke-width:1.5;\"/>\n   </g>\n   <g id=\"line2d_18\">\n    <path clip-path=\"url(#p8015c9ccc0)\" d=\"M 65.361932 18.319091 \nL 65.971879 73.914541 \nL 66.581826 92.446358 \nL 67.191773 101.712275 \nL 67.80172 118.390912 \nL 68.411668 138.775908 \nL 69.021615 137.452207 \nL 69.631562 143.408867 \nL 70.241509 141.864545 \nL 70.851456 146.188637 \nL 72.071351 143.408867 \nL 72.681298 142.339719 \nL 73.291245 149.365518 \nL 73.901192 148.041817 \nL 74.511139 153.833013 \nL 75.121086 155.672565 \nL 75.731034 160.396361 \nL 76.340981 155.844689 \nL 76.950928 154.527955 \nL 77.560875 148.041817 \nL 78.170822 149.726534 \nL 79.390717 157.307725 \nL 80.000664 153.972 \nL 80.610611 155.169439 \nL 81.220558 148.041817 \nL 83.0504 151.748185 \nL 83.660347 149.237417 \nL 84.270294 152.095656 \nL 84.880241 153.095952 \nL 85.490188 150.767084 \nL 86.100135 151.748185 \nL 87.32003 150.546123 \nL 87.929977 152.918617 \nL 89.759819 151.205791 \nL 90.369766 150.689219 \nL 92.199607 152.983641 \nL 93.419502 154.350521 \nL 94.029449 151.516538 \nL 94.639396 152.202028 \nL 95.85929 151.312137 \nL 96.469237 149.823726 \nL 97.079185 149.44045 \nL 98.299079 146.69405 \nL 98.909026 147.37997 \nL 99.518973 147.066457 \nL 100.12892 148.680848 \nL 100.738868 148.355919 \nL 101.348815 147.115227 \nL 101.958762 148.649417 \nL 102.568709 146.547317 \nL 103.178656 148.041817 \nL 103.788603 146.883579 \nL 104.398551 148.326923 \nL 105.008498 148.041817 \nL 105.618445 149.424793 \nL 107.448286 148.571304 \nL 108.058234 149.868901 \nL 109.278128 149.311123 \nL 109.888075 147.54096 \nL 110.498022 148.041817 \nL 111.107969 147.066457 \nL 111.717917 147.56047 \nL 112.327864 148.754579 \nL 112.937811 148.510977 \nL 114.157705 149.414545 \nL 114.767652 148.493812 \nL 115.987547 149.365518 \nL 116.597494 148.477865 \nL 118.427335 147.831228 \nL 119.64723 149.895005 \nL 120.257177 149.060048 \nL 120.867124 149.451849 \nL 121.477071 149.237417 \nL 122.087018 149.618995 \nL 122.696966 149.407321 \nL 123.306913 149.779181 \nL 123.91686 149.570216 \nL 125.136754 150.288098 \nL 125.746701 151.192229 \nL 127.576543 152.179991 \nL 128.796437 153.866109 \nL 130.016332 154.450016 \nL 130.626279 153.704323 \nL 131.236226 153.482352 \nL 131.846173 153.769836 \nL 133.676015 153.125768 \nL 134.895909 153.681939 \nL 135.505856 154.432105 \nL 136.115803 154.694264 \nL 137.945645 154.06466 \nL 138.555592 154.321194 \nL 140.995381 153.527237 \nL 141.605328 152.454154 \nL 142.825222 152.095656 \nL 143.435169 152.351544 \nL 144.045116 152.175841 \nL 144.655064 151.57843 \nL 145.874958 152.082592 \nL 146.484905 151.499248 \nL 147.094852 151.336361 \nL 148.924694 152.070472 \nL 149.534641 151.508204 \nL 150.144588 150.556852 \nL 150.754535 151.196173 \nL 151.364482 151.43497 \nL 153.804271 150.834287 \nL 154.414218 151.445623 \nL 155.024165 151.297408 \nL 155.634113 150.404941 \nL 158.073901 148.405186 \nL 158.683848 148.282494 \nL 159.903743 146.616292 \nL 160.51369 146.861452 \nL 161.123637 146.751626 \nL 161.733584 146.99285 \nL 162.343531 146.536108 \nL 162.953479 146.775667 \nL 164.78332 146.459834 \nL 166.003214 146.925448 \nL 166.613162 146.488258 \nL 167.223109 146.387197 \nL 167.833056 146.616292 \nL 169.05295 146.416225 \nL 170.272845 147.506216 \nL 170.882792 147.722305 \nL 171.492739 147.618237 \nL 173.32258 148.250044 \nL 173.932528 148.145347 \nL 174.542475 148.350683 \nL 175.152422 147.93943 \nL 175.762369 147.227231 \nL 176.372316 147.13042 \nL 176.982263 146.732506 \nL 177.592211 146.93993 \nL 178.812105 146.753515 \nL 179.422052 146.366071 \nL 180.031999 146.571043 \nL 182.471788 146.217442 \nL 183.081735 146.704471 \nL 184.301629 147.096322 \nL 184.911577 147.00705 \nL 185.521524 147.480253 \nL 186.131471 146.831197 \nL 186.741418 147.022566 \nL 187.351365 147.488628 \nL 187.961312 147.399629 \nL 189.181207 147.769294 \nL 189.791154 147.137827 \nL 190.401101 147.052257 \nL 191.011048 146.161779 \nL 191.620995 146.616292 \nL 192.230943 146.26844 \nL 192.84089 146.188637 \nL 193.450837 145.846103 \nL 194.060784 145.244567 \nL 194.670731 144.909679 \nL 195.280678 144.837721 \nL 195.890626 144.507846 \nL 196.500573 144.953181 \nL 197.11052 145.13822 \nL 197.720467 145.576579 \nL 198.940361 145.430518 \nL 199.550309 145.61004 \nL 200.160256 145.537519 \nL 200.770203 145.964263 \nL 201.38015 146.138997 \nL 201.990097 146.065092 \nL 202.600044 145.253845 \nL 204.429886 145.047598 \nL 205.039833 145.22176 \nL 206.259727 146.044853 \nL 206.869675 146.212496 \nL 207.479622 146.141118 \nL 208.089569 146.306929 \nL 209.91941 146.095197 \nL 210.529358 145.793191 \nL 211.139305 145.262047 \nL 211.749252 145.196683 \nL 212.359199 144.902132 \nL 212.969146 144.83879 \nL 213.579093 145.003815 \nL 214.798988 144.877851 \nL 215.408935 145.040713 \nL 216.018882 144.978092 \nL 216.628829 145.36252 \nL 217.238776 145.521488 \nL 217.848724 145.900697 \nL 218.458671 145.835648 \nL 219.068618 145.331635 \nL 219.678565 145.269345 \nL 220.288512 145.425564 \nL 221.508407 144.869053 \nL 222.118354 144.80953 \nL 222.728301 144.32115 \nL 223.948195 144.207654 \nL 224.558142 144.363748 \nL 225.16809 144.095881 \nL 225.778037 144.251221 \nL 226.387984 143.566212 \nL 226.997931 143.931378 \nL 227.607878 143.877364 \nL 228.217825 143.616307 \nL 228.827773 143.563867 \nL 229.43772 143.100001 \nL 230.657614 143.408867 \nL 231.267561 143.154305 \nL 232.487456 143.055075 \nL 233.70735 143.358688 \nL 234.317297 143.10889 \nL 235.537191 143.408867 \nL 236.757086 143.310291 \nL 237.97698 143.604626 \nL 238.586927 143.555169 \nL 239.196874 143.894836 \nL 240.416769 144.181028 \nL 241.026716 143.93789 \nL 241.636663 143.888134 \nL 242.24661 143.64768 \nL 242.856557 143.789658 \nL 244.076452 143.314317 \nL 244.686399 143.45598 \nL 245.906293 143.362068 \nL 246.51624 143.688704 \nL 247.126188 143.641285 \nL 247.736135 143.964822 \nL 248.346082 144.101498 \nL 248.956029 143.869088 \nL 249.565976 143.821702 \nL 250.785871 143.363294 \nL 251.395818 143.499705 \nL 252.005765 143.454141 \nL 252.615712 143.589367 \nL 253.225659 143.363883 \nL 254.445554 143.274793 \nL 255.665448 142.476353 \nL 256.275395 142.258002 \nL 256.885342 142.570522 \nL 258.105237 142.488117 \nL 259.325131 142.755313 \nL 261.154972 143.667853 \nL 261.76492 143.796136 \nL 262.374867 143.580453 \nL 262.984814 143.879286 \nL 264.814655 144.256358 \nL 266.644497 144.122706 \nL 267.254444 143.911231 \nL 267.864391 144.034941 \nL 268.474338 144.324356 \nL 269.694233 144.236177 \nL 270.30418 143.862535 \nL 270.914127 143.820078 \nL 271.524074 143.941858 \nL 272.134021 143.7359 \nL 272.743969 143.69418 \nL 273.353916 143.815265 \nL 275.183757 143.690875 \nL 275.793704 143.810567 \nL 276.403652 143.769353 \nL 277.623546 143.369044 \nL 278.233493 143.488289 \nL 279.453387 144.040633 \nL 280.063335 143.999468 \nL 280.673282 143.801488 \nL 281.283229 144.074441 \nL 281.893176 144.033533 \nL 282.503123 144.148578 \nL 283.11307 143.797105 \nL 283.723018 144.067027 \nL 284.332965 144.181028 \nL 287.992648 143.940516 \nL 288.602595 144.204166 \nL 289.212542 144.164235 \nL 289.822489 143.973861 \nL 290.432436 144.085029 \nL 291.042384 144.045744 \nL 291.652331 143.857217 \nL 292.262278 143.967796 \nL 292.872225 144.226443 \nL 293.482172 144.1872 \nL 295.312014 144.511947 \nL 295.921961 144.472364 \nL 296.531908 144.725601 \nL 297.141855 144.685662 \nL 297.751802 144.93701 \nL 298.36175 144.751572 \nL 298.971697 144.422327 \nL 300.191591 144.345058 \nL 300.801538 144.163067 \nL 301.411485 144.268585 \nL 302.021433 143.801894 \nL 302.63138 143.480145 \nL 303.241327 143.444415 \nL 304.461221 143.656429 \nL 305.681116 143.584802 \nL 306.291063 143.689649 \nL 306.90101 143.934013 \nL 307.510957 143.897769 \nL 308.120904 144.140385 \nL 309.340799 144.067416 \nL 309.950746 144.307795 \nL 310.560693 144.40903 \nL 313.000482 144.262604 \nL 313.610429 144.362712 \nL 314.220376 144.190464 \nL 314.830323 144.290257 \nL 315.44027 144.524829 \nL 316.050217 144.62333 \nL 317.880059 144.514076 \nL 319.099953 144.175469 \nL 319.7099 144.27339 \nL 320.319848 144.238157 \nL 320.929795 144.335457 \nL 321.539742 144.30024 \nL 322.759636 144.493175 \nL 323.369583 144.326717 \nL 323.979531 144.553476 \nL 324.589478 144.648672 \nL 325.199425 144.873618 \nL 325.809372 144.967612 \nL 326.419319 145.190768 \nL 328.859108 145.045916 \nL 329.469055 145.13822 \nL 330.079002 145.357905 \nL 330.688949 145.066527 \nL 331.298897 145.030929 \nL 331.908844 145.122422 \nL 332.518791 145.086857 \nL 333.128738 144.798752 \nL 333.738685 144.890153 \nL 334.348632 144.729569 \nL 335.568527 145.161872 \nL 336.178474 145.001768 \nL 336.788421 144.593076 \nL 337.398368 144.559334 \nL 338.008315 144.649832 \nL 340.448104 144.515857 \nL 341.058051 144.23727 \nL 341.667998 144.204837 \nL 342.277946 143.805978 \nL 342.887893 143.652709 \nL 343.49784 143.743414 \nL 344.107787 143.712331 \nL 344.717734 143.802515 \nL 345.327681 143.650588 \nL 345.937629 143.740507 \nL 347.157523 144.159348 \nL 348.377417 144.335457 \nL 348.987365 144.184342 \nL 349.597312 144.152919 \nL 350.207259 144.240418 \nL 350.817206 144.209012 \nL 352.0371 144.382669 \nL 353.256995 143.967167 \nL 353.866942 143.936672 \nL 354.476889 143.789252 \nL 355.086836 143.408867 \nL 356.916678 143.670015 \nL 358.136572 143.379971 \nL 359.356466 143.667853 \nL 359.966414 143.753463 \nL 361.186308 144.038031 \nL 361.796255 144.008199 \nL 362.406202 144.092418 \nL 363.016149 143.9489 \nL 363.626097 143.579053 \nL 364.236044 143.663628 \nL 364.845991 143.634864 \nL 366.065885 143.802764 \nL 367.28578 143.520954 \nL 367.895727 143.604626 \nL 368.505674 143.129775 \nL 369.725568 143.408867 \nL 369.725568 143.408867 \n\" style=\"fill:none;stroke:#2ca02c;stroke-linecap:square;stroke-width:1.5;\"/>\n   </g>\n   <g id=\"line2d_19\">\n    <path clip-path=\"url(#p8015c9ccc0)\" d=\"M 65.361932 185.105455 \nL 65.971879 185.105455 \nL 66.581826 148.041817 \nL 67.191773 157.307725 \nL 67.80172 162.867274 \nL 68.411668 129.51 \nL 69.021615 145.394414 \nL 69.631562 129.51 \nL 70.241509 129.51 \nL 70.851456 123.95046 \nL 71.461403 124.455873 \nL 72.071351 115.611142 \nL 72.681298 120.956854 \nL 73.291245 121.567793 \nL 73.901192 125.80364 \nL 74.511139 122.560567 \nL 75.121086 129.51 \nL 75.731034 129.51 \nL 76.340981 132.43608 \nL 76.950928 137.849318 \nL 77.560875 137.452207 \nL 78.170822 139.618263 \nL 78.780769 139.178777 \nL 80.000664 142.852911 \nL 80.610611 144.478006 \nL 81.220558 148.041817 \nL 81.830505 143.408867 \nL 83.0504 142.482277 \nL 84.270294 145.146223 \nL 85.490188 150.767084 \nL 86.100135 151.748185 \nL 86.710083 149.586139 \nL 87.32003 150.546123 \nL 88.539924 149.467341 \nL 89.149871 151.748185 \nL 89.759819 149.849806 \nL 90.979713 151.489597 \nL 91.58966 148.462994 \nL 92.199607 144.335457 \nL 93.419502 143.704586 \nL 94.029449 142.250629 \nL 94.639396 141.990616 \nL 95.249343 143.964822 \nL 96.469237 145.547153 \nL 97.689132 149.071365 \nL 98.299079 147.704875 \nL 98.909026 148.372744 \nL 100.12892 147.722305 \nL 101.348815 145.262047 \nL 101.958762 145.915219 \nL 102.568709 147.444017 \nL 103.788603 146.883579 \nL 104.398551 145.760981 \nL 105.008498 146.357108 \nL 106.228392 145.861603 \nL 106.838339 147.236087 \nL 107.448286 146.188637 \nL 108.668181 147.269664 \nL 109.888075 149.794831 \nL 110.498022 150.265639 \nL 111.107969 151.455573 \nL 112.327864 149.467341 \nL 113.547758 150.3583 \nL 114.157705 150.100913 \nL 114.767652 150.527798 \nL 115.3776 149.604746 \nL 116.597494 149.131924 \nL 117.817388 151.236957 \nL 118.427335 149.726534 \nL 119.64723 150.512729 \nL 120.257177 151.503805 \nL 120.867124 150.660448 \nL 122.087018 152.576199 \nL 122.696966 152.333401 \nL 123.306913 152.674775 \nL 123.91686 153.582261 \nL 124.526807 153.903927 \nL 125.136754 153.095952 \nL 125.746701 152.860088 \nL 126.966596 153.492351 \nL 127.576543 153.259519 \nL 129.406384 154.160817 \nL 130.016332 154.969603 \nL 130.626279 155.248637 \nL 131.236226 153.992404 \nL 132.45612 154.552999 \nL 133.676015 154.10976 \nL 134.895909 155.615693 \nL 135.505856 153.473562 \nL 136.72575 154.009693 \nL 137.335698 154.738188 \nL 138.555592 155.240129 \nL 139.165539 154.573527 \nL 139.775486 154.369757 \nL 140.385433 155.065975 \nL 141.605328 155.54279 \nL 142.215275 155.33781 \nL 142.825222 154.267354 \nL 143.435169 153.64446 \nL 144.655064 154.973571 \nL 145.265011 153.938307 \nL 145.874958 153.754634 \nL 147.094852 154.219089 \nL 147.704799 153.628621 \nL 148.314747 153.858379 \nL 148.924694 153.27907 \nL 149.534641 153.108072 \nL 150.144588 153.733733 \nL 150.754535 152.773351 \nL 151.364482 153.392558 \nL 151.97443 153.614322 \nL 153.194324 153.281854 \nL 153.804271 153.499824 \nL 155.024165 153.175631 \nL 155.634113 153.389932 \nL 156.24406 152.860088 \nL 158.073901 153.492351 \nL 158.683848 154.058646 \nL 159.293796 154.258945 \nL 159.903743 154.1003 \nL 160.51369 154.297782 \nL 161.123637 154.140901 \nL 161.733584 154.335642 \nL 162.343531 153.833013 \nL 162.953479 154.027248 \nL 163.563426 153.875909 \nL 164.173373 154.408577 \nL 164.78332 154.256758 \nL 165.393267 154.780662 \nL 166.003214 154.96334 \nL 166.613162 154.478017 \nL 167.223109 154.99125 \nL 167.833056 154.840475 \nL 169.662897 156.33804 \nL 170.272845 155.540247 \nL 170.882792 155.710159 \nL 171.492739 155.242755 \nL 172.102686 155.412427 \nL 172.712633 154.637889 \nL 173.32258 154.184386 \nL 173.932528 154.046542 \nL 174.542475 154.219089 \nL 175.762369 155.169439 \nL 176.372316 155.33303 \nL 176.982263 155.192685 \nL 177.592211 155.354371 \nL 178.202158 155.215425 \nL 179.422052 156.12485 \nL 180.031999 156.278185 \nL 180.641946 155.844689 \nL 183.081735 155.301707 \nL 183.691682 154.599234 \nL 184.301629 154.471224 \nL 184.911577 154.62673 \nL 185.521524 154.499879 \nL 186.131471 154.094923 \nL 187.351365 154.403491 \nL 187.961312 154.280253 \nL 188.57126 154.432105 \nL 189.181207 154.037405 \nL 191.620995 155.704012 \nL 193.450837 155.331589 \nL 194.060784 155.472033 \nL 194.670731 155.08913 \nL 195.890626 155.368355 \nL 197.11052 155.13003 \nL 198.940361 155.538781 \nL 200.160256 155.304292 \nL 200.770203 155.437927 \nL 201.38015 155.073986 \nL 203.209992 156.205614 \nL 203.819939 155.844689 \nL 204.429886 155.244139 \nL 205.039833 155.373971 \nL 206.259727 154.192463 \nL 206.869675 154.563744 \nL 208.699516 154.245268 \nL 209.309463 153.906321 \nL 212.359199 154.550928 \nL 212.969146 154.905457 \nL 213.579093 154.801372 \nL 214.189041 154.244307 \nL 215.408935 154.494196 \nL 216.628829 154.293516 \nL 217.238776 153.972 \nL 217.848724 154.096041 \nL 218.458671 153.998476 \nL 219.068618 153.681939 \nL 219.678565 154.024531 \nL 220.288512 153.710379 \nL 220.898459 153.833013 \nL 221.508407 154.171023 \nL 222.118354 154.075438 \nL 222.728301 154.409895 \nL 223.338248 154.527955 \nL 224.558142 154.336976 \nL 225.16809 154.66536 \nL 225.778037 154.570073 \nL 226.387984 154.6853 \nL 226.997931 155.008672 \nL 227.607878 154.91317 \nL 228.827773 155.137643 \nL 229.43772 155.042729 \nL 231.267561 155.373085 \nL 231.877508 155.684503 \nL 232.487456 155.589324 \nL 233.097403 155.897701 \nL 234.317297 156.107826 \nL 234.927244 156.012497 \nL 235.537191 155.719289 \nL 236.147139 155.823862 \nL 236.757086 155.730555 \nL 237.367033 155.441448 \nL 238.586927 155.649617 \nL 240.416769 154.798208 \nL 241.026716 154.90308 \nL 241.636663 154.623814 \nL 242.24661 154.728561 \nL 242.856557 154.451797 \nL 243.466505 154.746165 \nL 244.076452 154.660323 \nL 245.296346 154.86604 \nL 245.906293 154.780662 \nL 247.126188 154.23975 \nL 250.175923 153.833013 \nL 251.395818 154.400774 \nL 252.005765 154.500791 \nL 254.445554 154.179366 \nL 255.055501 154.278488 \nL 255.665448 153.844114 \nL 256.885342 153.68961 \nL 257.495289 153.789031 \nL 258.105237 153.537062 \nL 259.325131 153.386419 \nL 259.935078 153.659273 \nL 260.545025 153.584043 \nL 261.154972 153.854593 \nL 261.76492 153.779222 \nL 262.374867 154.047503 \nL 262.984814 154.143063 \nL 264.814655 153.917762 \nL 265.424603 154.01256 \nL 267.254444 154.795888 \nL 267.864391 154.386044 \nL 268.474338 154.644475 \nL 269.084286 154.735404 \nL 269.694233 154.329404 \nL 270.30418 154.255756 \nL 272.134021 154.527955 \nL 272.743969 154.291552 \nL 273.353916 154.544209 \nL 273.963863 154.30914 \nL 274.57381 154.398661 \nL 275.183757 154.648816 \nL 275.793704 154.736837 \nL 276.403652 154.503922 \nL 277.623546 154.679294 \nL 278.233493 154.925066 \nL 278.84344 154.852661 \nL 280.063335 155.024065 \nL 280.673282 155.266084 \nL 281.283229 155.193538 \nL 281.893176 155.433727 \nL 282.503123 155.205376 \nL 283.723018 155.062231 \nL 284.332965 154.527955 \nL 284.942912 154.612655 \nL 285.552859 154.543314 \nL 286.772753 155.016708 \nL 287.382701 154.642197 \nL 288.602595 155.111175 \nL 289.212542 154.890537 \nL 292.872225 155.375264 \nL 294.092119 155.829123 \nL 295.312014 155.984024 \nL 295.921961 155.914178 \nL 296.531908 155.698387 \nL 297.141855 155.921494 \nL 297.751802 155.561273 \nL 298.971697 155.715147 \nL 301.411485 155.444993 \nL 302.63138 155.882201 \nL 303.241327 155.672565 \nL 303.851274 155.889475 \nL 304.461221 155.822355 \nL 305.071168 156.037781 \nL 306.291063 156.184589 \nL 307.510957 156.050547 \nL 308.120904 156.123367 \nL 308.730851 155.778853 \nL 309.340799 155.990627 \nL 310.560693 155.859212 \nL 311.780587 156.278185 \nL 313.610429 156.490149 \nL 314.220376 156.424181 \nL 315.44027 156.563748 \nL 316.050217 156.228206 \nL 316.660165 156.432739 \nL 317.880059 156.570922 \nL 318.490006 156.372229 \nL 319.7099 156.243698 \nL 320.319848 156.445273 \nL 320.929795 156.381135 \nL 321.539742 156.185251 \nL 322.149689 156.122042 \nL 322.759636 155.796267 \nL 323.369583 155.996517 \nL 323.979531 156.065004 \nL 324.589478 156.002672 \nL 325.199425 156.201025 \nL 325.809372 156.008769 \nL 326.419319 155.947001 \nL 327.029266 156.014809 \nL 327.639214 155.824326 \nL 328.859108 155.959569 \nL 329.469055 155.898629 \nL 330.079002 155.965765 \nL 330.688949 155.905091 \nL 331.908844 156.038427 \nL 332.518791 155.724715 \nL 333.128738 155.91784 \nL 334.95858 155.739006 \nL 335.568527 155.930366 \nL 336.178474 155.746056 \nL 336.788421 155.936538 \nL 337.398368 155.877421 \nL 338.008315 155.570369 \nL 338.618263 155.512329 \nL 339.838157 155.643561 \nL 340.448104 155.585745 \nL 341.058051 155.773634 \nL 342.277946 155.902572 \nL 342.887893 155.722768 \nL 343.49784 155.665415 \nL 344.107787 155.729694 \nL 344.717734 155.551447 \nL 345.937629 155.438465 \nL 347.157523 155.566616 \nL 348.377417 155.095865 \nL 348.987365 155.279571 \nL 349.597312 155.343435 \nL 350.207259 155.050649 \nL 350.817206 155.23327 \nL 351.427153 155.178543 \nL 352.0371 154.887969 \nL 355.086836 155.789366 \nL 355.696783 155.734275 \nL 356.306731 155.446791 \nL 358.136572 155.631773 \nL 358.746519 155.808263 \nL 359.356466 155.753818 \nL 359.966414 155.929331 \nL 360.576361 155.530968 \nL 361.186308 155.591817 \nL 361.796255 155.538267 \nL 363.016149 155.659194 \nL 364.845991 155.160748 \nL 365.455938 155.108723 \nL 367.895727 155.462001 \nL 369.725568 155.973437 \nL 369.725568 155.973437 \n\" style=\"fill:none;stroke:#d62728;stroke-linecap:square;stroke-width:1.5;\"/>\n   </g>\n   <g id=\"line2d_20\">\n    <path clip-path=\"url(#p8015c9ccc0)\" d=\"M 65.361932 240.700909 \nL 65.971879 212.903182 \nL 66.581826 203.637271 \nL 67.191773 185.105455 \nL 67.80172 173.986366 \nL 68.411668 166.573634 \nL 69.021615 169.221036 \nL 69.631562 171.206592 \nL 70.241509 166.573634 \nL 70.851456 173.986366 \nL 71.461403 174.997192 \nL 72.071351 180.4725 \nL 73.291245 181.134351 \nL 73.901192 177.692726 \nL 75.121086 185.105455 \nL 75.731034 182.016818 \nL 76.340981 185.105455 \nL 76.950928 182.325685 \nL 77.560875 185.105455 \nL 78.780769 180.27107 \nL 79.390717 173.523071 \nL 80.000664 176.210185 \nL 80.610611 172.275735 \nL 81.220558 174.810002 \nL 81.830505 175.177696 \nL 82.440452 177.437116 \nL 83.0504 175.839546 \nL 83.660347 172.551642 \nL 84.270294 174.681309 \nL 84.880241 169.94306 \nL 85.490188 167.118687 \nL 86.100135 169.221036 \nL 87.32003 170.079661 \nL 87.929977 166.085958 \nL 88.539924 163.722585 \nL 89.149871 162.867274 \nL 90.369766 158.631426 \nL 90.979713 157.954188 \nL 91.58966 158.571265 \nL 92.199607 157.925457 \nL 92.809554 159.724922 \nL 93.419502 157.899171 \nL 94.029449 159.624209 \nL 95.249343 160.643459 \nL 95.85929 160.032992 \nL 96.469237 161.584298 \nL 97.079185 160.979125 \nL 98.299079 161.856448 \nL 98.909026 160.286055 \nL 100.738868 158.721171 \nL 101.348815 159.160914 \nL 101.958762 158.674828 \nL 102.568709 159.101134 \nL 103.178656 158.631426 \nL 103.788603 159.04509 \nL 104.398551 157.735389 \nL 105.008498 158.15008 \nL 105.618445 159.382189 \nL 106.838339 160.12779 \nL 107.448286 159.690392 \nL 108.058234 160.048352 \nL 108.668181 158.852047 \nL 109.278128 159.21168 \nL 109.888075 158.810311 \nL 110.498022 156.937091 \nL 111.107969 157.307725 \nL 111.717917 156.946717 \nL 112.327864 157.307725 \nL 113.547758 155.222898 \nL 114.157705 156.278185 \nL 114.767652 155.95174 \nL 115.3776 156.302989 \nL 115.987547 157.307725 \nL 116.597494 157.634759 \nL 117.207441 158.60065 \nL 117.817388 158.266268 \nL 118.427335 158.571265 \nL 119.64723 155.454545 \nL 120.257177 155.169439 \nL 120.867124 156.099135 \nL 122.696966 153.503825 \nL 123.306913 153.253894 \nL 124.526807 151.634722 \nL 125.746701 152.304141 \nL 126.356649 151.528003 \nL 126.966596 151.857191 \nL 127.576543 151.640232 \nL 128.18649 150.892866 \nL 128.796437 149.100783 \nL 129.406384 148.915958 \nL 130.016332 148.215018 \nL 131.236226 149.912005 \nL 133.066067 149.365518 \nL 133.676015 150.173799 \nL 134.285962 149.992537 \nL 134.895909 150.297866 \nL 135.505856 151.077201 \nL 136.115803 150.892866 \nL 136.72575 151.182802 \nL 137.945645 149.895005 \nL 138.555592 148.807599 \nL 139.165539 149.105124 \nL 139.775486 148.041817 \nL 140.995381 148.634837 \nL 141.605328 149.365518 \nL 142.825222 149.923959 \nL 143.435169 149.765711 \nL 144.045116 150.037554 \nL 144.655064 149.880855 \nL 145.265011 150.147711 \nL 145.874958 149.156512 \nL 146.484905 149.839682 \nL 147.094852 149.277273 \nL 148.314747 148.988704 \nL 148.924694 148.444686 \nL 149.534641 148.308466 \nL 150.144588 148.571304 \nL 150.754535 148.041817 \nL 151.364482 147.911313 \nL 151.97443 148.560195 \nL 153.194324 149.064265 \nL 154.414218 148.798221 \nL 155.634113 149.285566 \nL 156.24406 149.153728 \nL 157.463954 149.626774 \nL 158.073901 150.222031 \nL 158.683848 149.726534 \nL 159.293796 149.954785 \nL 159.903743 150.536489 \nL 161.123637 150.974069 \nL 161.733584 150.489417 \nL 162.953479 150.919434 \nL 163.563426 151.473641 \nL 164.173373 151.338888 \nL 164.78332 151.883784 \nL 165.393267 152.085127 \nL 166.003214 151.949131 \nL 167.833056 152.537702 \nL 168.443003 152.402244 \nL 169.05295 151.943257 \nL 169.662897 151.812828 \nL 171.492739 152.383563 \nL 172.712633 153.381498 \nL 174.542475 152.983641 \nL 175.152422 153.161109 \nL 175.762369 153.642091 \nL 176.372316 153.814025 \nL 177.592211 153.551278 \nL 178.202158 154.019825 \nL 180.031999 153.630783 \nL 180.641946 152.918617 \nL 181.251894 153.378209 \nL 183.081735 153.009107 \nL 183.691682 153.17371 \nL 185.521524 152.81517 \nL 186.131471 153.256802 \nL 187.351365 152.467326 \nL 188.57126 152.241146 \nL 189.181207 152.402244 \nL 191.620995 151.962013 \nL 192.230943 152.386603 \nL 192.84089 152.01292 \nL 193.450837 151.906276 \nL 194.060784 152.062875 \nL 194.670731 152.479016 \nL 195.280678 152.111894 \nL 195.890626 152.523933 \nL 196.500573 152.417388 \nL 197.11052 152.055626 \nL 197.720467 151.442152 \nL 198.330414 151.849727 \nL 198.940361 151.748185 \nL 199.550309 151.899118 \nL 200.160256 151.547836 \nL 200.770203 151.698322 \nL 201.38015 152.095656 \nL 201.990097 151.995275 \nL 202.600044 152.38778 \nL 203.819939 152.674775 \nL 204.429886 153.05917 \nL 205.64978 152.855275 \nL 206.259727 152.515019 \nL 206.869675 152.416286 \nL 207.479622 152.555977 \nL 208.089569 152.457915 \nL 208.699516 152.831822 \nL 209.91941 152.635839 \nL 210.529358 152.30646 \nL 211.139305 152.443128 \nL 212.969146 153.532729 \nL 214.189041 153.790464 \nL 216.018882 154.8418 \nL 216.628829 154.740068 \nL 217.238776 154.861525 \nL 217.848724 154.760531 \nL 218.458671 154.880944 \nL 219.068618 154.560919 \nL 219.678565 154.681175 \nL 220.288512 154.364438 \nL 220.898459 153.615846 \nL 221.508407 153.522042 \nL 222.118354 153.64446 \nL 223.948195 153.367058 \nL 224.558142 153.700388 \nL 225.778037 153.938307 \nL 226.387984 153.846127 \nL 226.997931 154.172647 \nL 228.827773 153.897598 \nL 229.43772 154.219089 \nL 231.267561 154.5585 \nL 232.487456 154.376335 \nL 233.097403 153.883373 \nL 234.317297 154.107987 \nL 234.927244 154.019825 \nL 235.537191 154.329404 \nL 236.147139 154.438923 \nL 236.757086 154.153377 \nL 237.367033 154.0663 \nL 237.97698 153.784077 \nL 238.586927 153.893969 \nL 239.196874 153.614322 \nL 240.416769 153.833013 \nL 241.026716 154.133594 \nL 241.636663 154.048688 \nL 242.856557 154.642197 \nL 243.466505 154.55642 \nL 244.076452 154.84943 \nL 244.686399 154.763529 \nL 245.296346 155.053855 \nL 246.51624 154.136179 \nL 247.126188 154.23975 \nL 247.736135 154.157321 \nL 248.956029 154.362276 \nL 249.565976 154.280253 \nL 250.175923 154.381653 \nL 251.395818 154.219089 \nL 252.005765 153.95751 \nL 252.615712 153.878138 \nL 253.835606 154.438285 \nL 254.445554 154.536894 \nL 255.055501 154.456676 \nL 256.275395 154.651898 \nL 256.885342 154.395588 \nL 258.105237 154.589342 \nL 258.715184 154.510475 \nL 259.325131 154.08354 \nL 260.545025 154.276823 \nL 261.154972 153.854593 \nL 261.76492 153.951347 \nL 262.374867 154.219089 \nL 263.594761 154.408577 \nL 264.814655 153.917762 \nL 265.424603 153.843575 \nL 266.03455 154.106778 \nL 266.644497 153.696544 \nL 267.254444 153.623692 \nL 267.864391 153.217376 \nL 268.474338 152.979938 \nL 269.694233 153.171158 \nL 270.30418 153.100948 \nL 270.914127 153.360124 \nL 271.524074 152.961771 \nL 272.134021 152.892795 \nL 272.743969 152.987262 \nL 273.963863 152.850371 \nL 275.183757 153.037357 \nL 275.793704 152.969359 \nL 276.403652 152.741531 \nL 277.013599 152.834531 \nL 278.233493 152.701252 \nL 278.84344 152.793565 \nL 279.453387 152.727422 \nL 280.063335 152.819147 \nL 280.673282 152.753303 \nL 281.283229 152.374608 \nL 281.893176 152.154219 \nL 283.11307 152.338306 \nL 283.723018 151.810127 \nL 284.332965 152.057043 \nL 285.552859 152.239639 \nL 286.162806 151.870711 \nL 286.772753 151.656543 \nL 288.602595 151.929969 \nL 289.212542 151.869046 \nL 289.822489 151.657786 \nL 290.432436 151.748185 \nL 291.042384 151.538392 \nL 291.652331 151.628625 \nL 292.262278 151.569326 \nL 293.482172 150.858659 \nL 294.092119 150.654019 \nL 294.702067 150.597934 \nL 295.312014 150.689219 \nL 295.921961 150.48665 \nL 296.531908 150.138839 \nL 297.141855 149.93878 \nL 297.751802 150.030836 \nL 298.36175 150.26757 \nL 299.581644 150.15974 \nL 300.191591 149.962216 \nL 300.801538 149.90937 \nL 301.411485 150.000076 \nL 302.021433 149.947404 \nL 303.241327 149.558494 \nL 303.851274 149.790995 \nL 304.461221 149.739392 \nL 305.071168 149.405838 \nL 305.681116 149.496212 \nL 306.291063 149.445744 \nL 307.510957 149.624943 \nL 308.120904 149.295855 \nL 308.730851 149.524362 \nL 309.340799 149.613096 \nL 309.950746 149.286493 \nL 310.560693 149.375376 \nL 311.17064 149.601432 \nL 311.780587 149.414545 \nL 312.390534 149.091653 \nL 313.000482 149.043538 \nL 313.610429 148.859401 \nL 315.44027 148.718161 \nL 316.050217 148.806481 \nL 316.660165 148.490531 \nL 317.270112 148.444686 \nL 317.880059 148.265097 \nL 320.319848 148.616793 \nL 320.929795 148.571304 \nL 321.539742 148.393969 \nL 322.149689 148.085732 \nL 322.759636 148.041817 \nL 323.369583 147.866992 \nL 324.589478 148.041817 \nL 325.199425 147.868218 \nL 325.809372 148.085119 \nL 327.029266 147.998722 \nL 327.639214 148.084821 \nL 328.249161 147.913127 \nL 328.859108 147.99902 \nL 329.469055 147.956422 \nL 330.688949 148.126831 \nL 331.908844 147.787959 \nL 332.518791 147.872965 \nL 333.128738 147.704875 \nL 333.738685 147.789682 \nL 334.348632 147.748326 \nL 334.95858 147.832653 \nL 335.568527 147.791389 \nL 336.178474 148.000171 \nL 336.788421 147.958716 \nL 338.008315 148.124553 \nL 338.618263 147.959271 \nL 339.22821 148.041817 \nL 339.838157 148.000726 \nL 341.058051 147.673635 \nL 341.667998 147.756089 \nL 342.887893 148.163738 \nL 343.49784 148.001265 \nL 344.717734 147.920699 \nL 346.547576 148.162156 \nL 347.157523 148.001795 \nL 348.987365 147.882749 \nL 349.597312 147.72436 \nL 350.817206 147.646686 \nL 351.427153 147.726381 \nL 352.647048 148.120344 \nL 353.256995 148.19854 \nL 353.866942 147.807237 \nL 354.476889 148.002806 \nL 355.086836 147.847159 \nL 355.696783 147.925264 \nL 356.306731 148.119358 \nL 357.526625 148.041817 \nL 358.136572 148.234461 \nL 358.746519 148.080265 \nL 359.356466 148.156928 \nL 359.966414 147.773801 \nL 360.576361 147.965402 \nL 361.796255 147.547132 \nL 363.016149 147.814436 \nL 363.626097 147.890536 \nL 364.236044 148.07956 \nL 364.845991 147.928818 \nL 365.455938 148.004231 \nL 366.675832 147.929506 \nL 367.28578 148.116542 \nL 367.895727 148.079105 \nL 368.505674 148.153457 \nL 369.115621 147.89327 \nL 369.725568 147.967688 \nL 369.725568 147.967688 \n\" style=\"fill:none;stroke:#9467bd;stroke-linecap:square;stroke-width:1.5;\"/>\n   </g>\n   <g id=\"line2d_21\">\n    <path clip-path=\"url(#p8015c9ccc0)\" d=\"M 65.361932 129.51 \nL 65.971879 101.712275 \nL 66.581826 129.51 \nL 67.191773 129.51 \nL 67.80172 140.629088 \nL 68.411668 157.307725 \nL 69.021615 153.336622 \nL 69.631562 157.307725 \nL 70.241509 166.573634 \nL 70.851456 173.986366 \nL 72.071351 157.307725 \nL 72.681298 159.446012 \nL 73.291245 157.307725 \nL 73.901192 162.867274 \nL 74.511139 157.307725 \nL 75.121086 155.672565 \nL 75.731034 151.130453 \nL 76.340981 149.992537 \nL 77.560875 153.336622 \nL 78.170822 149.726534 \nL 79.390717 152.674775 \nL 80.000664 151.748185 \nL 80.610611 153.031152 \nL 81.220558 152.160001 \nL 81.830505 153.336622 \nL 82.440452 150.597934 \nL 83.0504 153.601365 \nL 83.660347 152.824225 \nL 84.270294 150.3583 \nL 84.880241 149.726534 \nL 85.490188 150.767084 \nL 86.100135 148.571304 \nL 87.32003 147.54096 \nL 88.539924 149.467341 \nL 89.149871 148.968407 \nL 89.759819 151.205791 \nL 90.369766 152.01292 \nL 90.979713 148.903764 \nL 92.199607 150.512729 \nL 93.419502 149.618995 \nL 94.029449 151.516538 \nL 94.639396 149.932823 \nL 95.85929 149.131924 \nL 96.469237 149.823726 \nL 97.079185 147.342508 \nL 98.299079 148.7157 \nL 99.518973 146.091105 \nL 101.958762 145.003815 \nL 103.178656 146.276882 \nL 104.398551 149.182243 \nL 105.008498 149.726534 \nL 105.618445 146.935439 \nL 106.228392 147.496763 \nL 106.838339 144.818891 \nL 108.058234 145.953725 \nL 108.668181 147.269664 \nL 109.278128 146.264795 \nL 109.888075 146.789668 \nL 111.107969 144.871903 \nL 111.717917 146.116439 \nL 112.327864 144.478006 \nL 112.937811 144.992283 \nL 113.547758 144.103809 \nL 114.157705 143.923641 \nL 114.767652 143.06987 \nL 115.3776 144.246143 \nL 115.987547 144.070713 \nL 116.597494 145.207544 \nL 117.207441 144.378552 \nL 117.817388 145.485708 \nL 119.037283 146.376037 \nL 119.64723 146.188637 \nL 121.477071 149.237417 \nL 122.087018 149.027557 \nL 122.696966 149.407321 \nL 123.306913 148.620936 \nL 123.91686 148.423917 \nL 124.526807 147.663619 \nL 125.136754 146.357108 \nL 125.746701 146.744592 \nL 126.356649 146.023504 \nL 126.966596 146.95171 \nL 127.576543 146.782377 \nL 128.796437 147.512338 \nL 129.406384 147.342508 \nL 130.016332 147.695431 \nL 130.626279 147.527043 \nL 131.846173 148.210288 \nL 132.45612 147.54096 \nL 133.066067 147.37997 \nL 133.676015 146.72983 \nL 134.285962 145.603421 \nL 134.895909 145.946915 \nL 135.505856 145.80522 \nL 136.115803 145.190768 \nL 136.72575 145.057887 \nL 137.335698 145.394414 \nL 138.555592 146.969728 \nL 139.165539 146.370918 \nL 139.775486 146.685831 \nL 140.385433 146.098967 \nL 140.995381 146.855785 \nL 142.215275 146.582625 \nL 142.825222 146.883579 \nL 144.045116 146.616292 \nL 145.874958 147.484469 \nL 146.484905 147.350337 \nL 147.094852 146.806369 \nL 147.704799 146.679187 \nL 148.314747 146.959671 \nL 148.924694 147.638956 \nL 149.534641 147.908496 \nL 150.144588 147.777082 \nL 150.754535 148.436111 \nL 151.97443 147.393855 \nL 153.194324 147.14718 \nL 153.804271 146.645586 \nL 154.414218 146.907215 \nL 155.024165 146.789668 \nL 156.24406 147.300548 \nL 156.854007 146.814546 \nL 157.463954 145.969184 \nL 158.683848 145.033406 \nL 159.293796 144.215897 \nL 161.123637 144.992283 \nL 161.733584 144.894908 \nL 162.343531 144.451281 \nL 162.953479 144.703788 \nL 163.563426 144.266821 \nL 164.173373 144.517365 \nL 164.78332 144.086859 \nL 165.393267 143.998515 \nL 166.613162 144.490814 \nL 167.833056 145.629392 \nL 168.443003 145.207544 \nL 169.05295 145.440865 \nL 169.662897 145.025014 \nL 170.272845 144.29261 \nL 170.882792 143.888134 \nL 172.102686 143.72475 \nL 172.712633 143.958535 \nL 173.32258 143.877364 \nL 173.932528 144.107695 \nL 174.542475 143.717733 \nL 175.152422 143.024919 \nL 176.372316 142.877217 \nL 176.982263 143.106719 \nL 177.592211 143.03322 \nL 178.202158 142.661617 \nL 179.422052 143.113148 \nL 180.031999 143.041173 \nL 180.641946 143.555169 \nL 181.251894 143.481637 \nL 181.861841 143.698422 \nL 183.081735 143.552153 \nL 183.691682 143.195039 \nL 184.301629 143.125218 \nL 184.911577 143.338309 \nL 186.741418 144.798752 \nL 187.351365 144.446094 \nL 188.57126 144.298939 \nL 189.181207 144.771496 \nL 189.791154 144.96825 \nL 190.401101 144.89321 \nL 191.011048 145.356049 \nL 191.620995 144.745293 \nL 192.230943 145.204412 \nL 193.450837 145.582619 \nL 194.060784 145.244567 \nL 194.670731 145.692718 \nL 195.280678 145.617098 \nL 195.890626 145.283594 \nL 196.500573 145.210568 \nL 197.11052 145.394414 \nL 198.330414 145.249355 \nL 199.550309 145.61004 \nL 200.160256 145.537519 \nL 200.770203 144.967032 \nL 201.38015 144.898032 \nL 201.990097 145.076725 \nL 202.600044 145.007849 \nL 203.209992 144.694667 \nL 204.429886 144.562043 \nL 205.039833 144.254883 \nL 205.64978 144.191052 \nL 206.259727 144.36741 \nL 207.479622 144.240418 \nL 208.089569 143.941162 \nL 208.699516 143.880015 \nL 209.309463 144.053962 \nL 209.91941 143.992848 \nL 210.529358 143.69964 \nL 212.359199 143.52373 \nL 213.579093 142.953169 \nL 214.189041 142.898293 \nL 214.798988 142.391878 \nL 215.408935 142.339719 \nL 216.018882 142.063817 \nL 216.628829 142.013398 \nL 217.848724 142.35676 \nL 219.068618 143.134182 \nL 219.678565 142.423905 \nL 220.288512 142.373263 \nL 220.898459 142.757359 \nL 221.508407 142.922135 \nL 222.118354 142.870151 \nL 222.728301 143.247877 \nL 223.338248 143.195039 \nL 223.948195 143.568622 \nL 224.558142 143.302769 \nL 225.16809 143.673105 \nL 225.778037 143.830044 \nL 226.387984 144.195592 \nL 227.607878 143.669145 \nL 228.217825 143.823756 \nL 228.827773 144.183894 \nL 229.43772 144.335457 \nL 230.047667 144.075601 \nL 230.657614 144.022051 \nL 231.267561 143.765244 \nL 232.487456 143.661573 \nL 233.097403 143.811727 \nL 234.317297 144.508774 \nL 234.927244 144.654281 \nL 235.537191 144.6002 \nL 236.147139 144.942196 \nL 236.757086 144.887469 \nL 237.367033 145.029579 \nL 238.586927 144.920673 \nL 239.196874 145.061176 \nL 239.806822 145.394414 \nL 240.416769 145.532299 \nL 241.026716 145.47686 \nL 241.636663 145.613511 \nL 242.24661 145.940271 \nL 242.856557 145.503213 \nL 243.466505 145.638372 \nL 244.076452 145.583513 \nL 244.686399 145.717488 \nL 245.296346 145.474914 \nL 246.51624 146.114011 \nL 247.736135 146.003315 \nL 248.346082 146.133231 \nL 248.956029 145.894094 \nL 249.565976 146.206987 \nL 250.175923 146.152061 \nL 250.785871 146.462054 \nL 251.395818 146.406656 \nL 252.005765 146.170527 \nL 252.615712 146.477446 \nL 253.225659 146.602458 \nL 253.835606 146.547317 \nL 255.055501 146.794489 \nL 256.275395 147.392612 \nL 256.885342 147.512338 \nL 257.495289 146.927561 \nL 258.105237 147.223379 \nL 258.715184 147.342508 \nL 259.325131 147.286606 \nL 259.935078 146.709848 \nL 262.984814 145.589917 \nL 264.204708 145.831605 \nL 264.814655 146.120838 \nL 266.03455 146.020166 \nL 266.644497 146.138251 \nL 267.254444 145.920704 \nL 267.864391 146.20533 \nL 268.474338 145.988892 \nL 269.084286 146.105661 \nL 269.694233 146.387197 \nL 270.30418 146.337109 \nL 270.914127 146.122842 \nL 272.134021 146.02512 \nL 273.963863 146.366933 \nL 274.57381 146.317931 \nL 275.793704 145.899413 \nL 277.013599 146.444251 \nL 278.233493 146.347481 \nL 280.063335 146.676868 \nL 280.673282 146.471324 \nL 281.893176 146.376037 \nL 282.503123 146.484521 \nL 284.332965 146.343066 \nL 285.552859 145.942914 \nL 286.162806 146.050801 \nL 286.772753 145.699884 \nL 287.382701 145.960162 \nL 287.992648 145.915219 \nL 288.602595 145.416061 \nL 289.212542 145.523907 \nL 289.822489 145.781841 \nL 290.432436 145.437344 \nL 291.652331 145.650617 \nL 292.872225 145.564302 \nL 294.092119 145.774625 \nL 294.702067 145.731489 \nL 295.312014 145.835648 \nL 295.921961 145.792578 \nL 296.531908 146.042335 \nL 297.141855 145.7071 \nL 297.751802 145.81024 \nL 298.36175 145.767683 \nL 298.971697 145.870119 \nL 299.581644 146.116439 \nL 302.021433 145.945673 \nL 303.241327 146.145981 \nL 304.461221 146.061323 \nL 305.071168 146.16042 \nL 305.681116 145.977518 \nL 306.291063 146.216713 \nL 306.90101 146.034597 \nL 307.510957 145.993076 \nL 308.120904 145.812427 \nL 309.340799 145.731116 \nL 309.950746 145.829062 \nL 310.560693 145.650617 \nL 311.17064 145.748281 \nL 311.780587 145.708185 \nL 312.390534 145.80522 \nL 314.220376 145.685693 \nL 314.830323 145.510644 \nL 315.44027 145.201173 \nL 316.050217 145.298034 \nL 316.660165 145.259802 \nL 317.270112 145.356049 \nL 317.880059 145.1839 \nL 318.490006 145.146223 \nL 319.099953 145.375369 \nL 319.7099 145.470415 \nL 320.929795 145.129679 \nL 322.759636 145.80749 \nL 324.589478 145.301199 \nL 325.809372 145.22741 \nL 326.419319 145.32036 \nL 327.029266 145.1543 \nL 327.639214 145.118006 \nL 328.249161 145.339265 \nL 328.859108 145.431098 \nL 329.469055 145.266313 \nL 330.079002 145.357905 \nL 330.688949 145.19404 \nL 331.298897 145.285367 \nL 331.908844 145.503213 \nL 333.128738 145.683224 \nL 334.348632 145.61004 \nL 334.95858 145.448205 \nL 336.178474 145.37657 \nL 336.788421 145.465652 \nL 337.398368 145.678701 \nL 339.22821 145.941547 \nL 339.838157 146.151655 \nL 340.448104 146.237838 \nL 341.058051 146.446363 \nL 341.667998 146.531518 \nL 342.277946 146.494106 \nL 342.887893 146.700702 \nL 343.49784 146.663083 \nL 344.107787 146.504246 \nL 344.717734 146.467224 \nL 345.327681 146.551219 \nL 346.547576 146.477446 \nL 347.157523 146.320723 \nL 348.377417 146.248417 \nL 348.987365 146.331799 \nL 349.597312 146.176732 \nL 350.207259 146.141118 \nL 350.817206 145.868578 \nL 351.427153 145.833776 \nL 352.647048 146.000176 \nL 353.256995 145.965315 \nL 353.866942 146.165184 \nL 354.476889 145.778983 \nL 355.086836 145.978404 \nL 355.696783 145.943875 \nL 356.306731 146.142112 \nL 356.916678 145.991328 \nL 358.136572 146.269542 \nL 359.356466 146.660564 \nL 359.966414 146.625132 \nL 361.186308 146.897878 \nL 361.796255 146.976331 \nL 363.016149 146.791209 \nL 364.845991 147.250825 \nL 366.065885 147.066457 \nL 367.28578 147.219842 \nL 367.895727 147.184211 \nL 369.115621 147.224788 \nL 369.725568 147.078163 \nL 369.725568 147.078163 \n\" style=\"fill:none;stroke:#8c564b;stroke-linecap:square;stroke-width:1.5;\"/>\n   </g>\n   <g id=\"line2d_22\">\n    <path clip-path=\"url(#p8015c9ccc0)\" d=\"M 50.14375 147.856501 \nL 384.94375 147.856501 \n\" style=\"fill:none;stroke:#000000;stroke-dasharray:5.55,2.4;stroke-dashoffset:0;stroke-width:1.5;\"/>\n   </g>\n   <g id=\"patch_3\">\n    <path d=\"M 50.14375 251.82 \nL 50.14375 7.2 \n\" style=\"fill:none;stroke:#000000;stroke-linecap:square;stroke-linejoin:miter;stroke-width:0.8;\"/>\n   </g>\n   <g id=\"patch_4\">\n    <path d=\"M 384.94375 251.82 \nL 384.94375 7.2 \n\" style=\"fill:none;stroke:#000000;stroke-linecap:square;stroke-linejoin:miter;stroke-width:0.8;\"/>\n   </g>\n   <g id=\"patch_5\">\n    <path d=\"M 50.14375 251.82 \nL 384.94375 251.82 \n\" style=\"fill:none;stroke:#000000;stroke-linecap:square;stroke-linejoin:miter;stroke-width:0.8;\"/>\n   </g>\n   <g id=\"patch_6\">\n    <path d=\"M 50.14375 7.2 \nL 384.94375 7.2 \n\" style=\"fill:none;stroke:#000000;stroke-linecap:square;stroke-linejoin:miter;stroke-width:0.8;\"/>\n   </g>\n   <g id=\"legend_1\">\n    <g id=\"patch_7\">\n     <path d=\"M 302.089063 103.26875 \nL 377.94375 103.26875 \nQ 379.94375 103.26875 379.94375 101.26875 \nL 379.94375 14.2 \nQ 379.94375 12.2 377.94375 12.2 \nL 302.089063 12.2 \nQ 300.089063 12.2 300.089063 14.2 \nL 300.089063 101.26875 \nQ 300.089063 103.26875 302.089063 103.26875 \nz\n\" style=\"fill:#ffffff;opacity:0.8;stroke:#cccccc;stroke-linejoin:miter;\"/>\n    </g>\n    <g id=\"line2d_23\">\n     <path d=\"M 304.089063 20.298437 \nL 324.089063 20.298437 \n\" style=\"fill:none;stroke:#1f77b4;stroke-linecap:square;stroke-width:1.5;\"/>\n    </g>\n    <g id=\"line2d_24\"/>\n    <g id=\"text_18\">\n     <!-- P(die=1) -->\n     <defs>\n      <path d=\"M 19.671875 64.796875 \nL 19.671875 37.40625 \nL 32.078125 37.40625 \nQ 38.96875 37.40625 42.71875 40.96875 \nQ 46.484375 44.53125 46.484375 51.125 \nQ 46.484375 57.671875 42.71875 61.234375 \nQ 38.96875 64.796875 32.078125 64.796875 \nz\nM 9.8125 72.90625 \nL 32.078125 72.90625 \nQ 44.34375 72.90625 50.609375 67.359375 \nQ 56.890625 61.8125 56.890625 51.125 \nQ 56.890625 40.328125 50.609375 34.8125 \nQ 44.34375 29.296875 32.078125 29.296875 \nL 19.671875 29.296875 \nL 19.671875 0 \nL 9.8125 0 \nz\n\" id=\"DejaVuSans-80\"/>\n      <path d=\"M 31 75.875 \nQ 24.46875 64.65625 21.28125 53.65625 \nQ 18.109375 42.671875 18.109375 31.390625 \nQ 18.109375 20.125 21.3125 9.0625 \nQ 24.515625 -2 31 -13.1875 \nL 23.1875 -13.1875 \nQ 15.875 -1.703125 12.234375 9.375 \nQ 8.59375 20.453125 8.59375 31.390625 \nQ 8.59375 42.28125 12.203125 53.3125 \nQ 15.828125 64.359375 23.1875 75.875 \nz\n\" id=\"DejaVuSans-40\"/>\n      <path d=\"M 10.59375 45.40625 \nL 73.1875 45.40625 \nL 73.1875 37.203125 \nL 10.59375 37.203125 \nz\nM 10.59375 25.484375 \nL 73.1875 25.484375 \nL 73.1875 17.1875 \nL 10.59375 17.1875 \nz\n\" id=\"DejaVuSans-61\"/>\n      <path d=\"M 8.015625 75.875 \nL 15.828125 75.875 \nQ 23.140625 64.359375 26.78125 53.3125 \nQ 30.421875 42.28125 30.421875 31.390625 \nQ 30.421875 20.453125 26.78125 9.375 \nQ 23.140625 -1.703125 15.828125 -13.1875 \nL 8.015625 -13.1875 \nQ 14.5 -2 17.703125 9.0625 \nQ 20.90625 20.125 20.90625 31.390625 \nQ 20.90625 42.671875 17.703125 53.65625 \nQ 14.5 64.65625 8.015625 75.875 \nz\n\" id=\"DejaVuSans-41\"/>\n     </defs>\n     <g transform=\"translate(332.089063 23.798437)scale(0.1 -0.1)\">\n      <use xlink:href=\"#DejaVuSans-80\"/>\n      <use x=\"60.302734\" xlink:href=\"#DejaVuSans-40\"/>\n      <use x=\"99.316406\" xlink:href=\"#DejaVuSans-100\"/>\n      <use x=\"162.792969\" xlink:href=\"#DejaVuSans-105\"/>\n      <use x=\"190.576172\" xlink:href=\"#DejaVuSans-101\"/>\n      <use x=\"252.099609\" xlink:href=\"#DejaVuSans-61\"/>\n      <use x=\"335.888672\" xlink:href=\"#DejaVuSans-49\"/>\n      <use x=\"399.511719\" xlink:href=\"#DejaVuSans-41\"/>\n     </g>\n    </g>\n    <g id=\"line2d_25\">\n     <path d=\"M 304.089063 34.976562 \nL 324.089063 34.976562 \n\" style=\"fill:none;stroke:#ff7f0e;stroke-linecap:square;stroke-width:1.5;\"/>\n    </g>\n    <g id=\"line2d_26\"/>\n    <g id=\"text_19\">\n     <!-- P(die=2) -->\n     <g transform=\"translate(332.089063 38.476562)scale(0.1 -0.1)\">\n      <use xlink:href=\"#DejaVuSans-80\"/>\n      <use x=\"60.302734\" xlink:href=\"#DejaVuSans-40\"/>\n      <use x=\"99.316406\" xlink:href=\"#DejaVuSans-100\"/>\n      <use x=\"162.792969\" xlink:href=\"#DejaVuSans-105\"/>\n      <use x=\"190.576172\" xlink:href=\"#DejaVuSans-101\"/>\n      <use x=\"252.099609\" xlink:href=\"#DejaVuSans-61\"/>\n      <use x=\"335.888672\" xlink:href=\"#DejaVuSans-50\"/>\n      <use x=\"399.511719\" xlink:href=\"#DejaVuSans-41\"/>\n     </g>\n    </g>\n    <g id=\"line2d_27\">\n     <path d=\"M 304.089063 49.654687 \nL 324.089063 49.654687 \n\" style=\"fill:none;stroke:#2ca02c;stroke-linecap:square;stroke-width:1.5;\"/>\n    </g>\n    <g id=\"line2d_28\"/>\n    <g id=\"text_20\">\n     <!-- P(die=3) -->\n     <g transform=\"translate(332.089063 53.154687)scale(0.1 -0.1)\">\n      <use xlink:href=\"#DejaVuSans-80\"/>\n      <use x=\"60.302734\" xlink:href=\"#DejaVuSans-40\"/>\n      <use x=\"99.316406\" xlink:href=\"#DejaVuSans-100\"/>\n      <use x=\"162.792969\" xlink:href=\"#DejaVuSans-105\"/>\n      <use x=\"190.576172\" xlink:href=\"#DejaVuSans-101\"/>\n      <use x=\"252.099609\" xlink:href=\"#DejaVuSans-61\"/>\n      <use x=\"335.888672\" xlink:href=\"#DejaVuSans-51\"/>\n      <use x=\"399.511719\" xlink:href=\"#DejaVuSans-41\"/>\n     </g>\n    </g>\n    <g id=\"line2d_29\">\n     <path d=\"M 304.089063 64.332812 \nL 324.089063 64.332812 \n\" style=\"fill:none;stroke:#d62728;stroke-linecap:square;stroke-width:1.5;\"/>\n    </g>\n    <g id=\"line2d_30\"/>\n    <g id=\"text_21\">\n     <!-- P(die=4) -->\n     <g transform=\"translate(332.089063 67.832812)scale(0.1 -0.1)\">\n      <use xlink:href=\"#DejaVuSans-80\"/>\n      <use x=\"60.302734\" xlink:href=\"#DejaVuSans-40\"/>\n      <use x=\"99.316406\" xlink:href=\"#DejaVuSans-100\"/>\n      <use x=\"162.792969\" xlink:href=\"#DejaVuSans-105\"/>\n      <use x=\"190.576172\" xlink:href=\"#DejaVuSans-101\"/>\n      <use x=\"252.099609\" xlink:href=\"#DejaVuSans-61\"/>\n      <use x=\"335.888672\" xlink:href=\"#DejaVuSans-52\"/>\n      <use x=\"399.511719\" xlink:href=\"#DejaVuSans-41\"/>\n     </g>\n    </g>\n    <g id=\"line2d_31\">\n     <path d=\"M 304.089063 79.010937 \nL 324.089063 79.010937 \n\" style=\"fill:none;stroke:#9467bd;stroke-linecap:square;stroke-width:1.5;\"/>\n    </g>\n    <g id=\"line2d_32\"/>\n    <g id=\"text_22\">\n     <!-- P(die=5) -->\n     <g transform=\"translate(332.089063 82.510937)scale(0.1 -0.1)\">\n      <use xlink:href=\"#DejaVuSans-80\"/>\n      <use x=\"60.302734\" xlink:href=\"#DejaVuSans-40\"/>\n      <use x=\"99.316406\" xlink:href=\"#DejaVuSans-100\"/>\n      <use x=\"162.792969\" xlink:href=\"#DejaVuSans-105\"/>\n      <use x=\"190.576172\" xlink:href=\"#DejaVuSans-101\"/>\n      <use x=\"252.099609\" xlink:href=\"#DejaVuSans-61\"/>\n      <use x=\"335.888672\" xlink:href=\"#DejaVuSans-53\"/>\n      <use x=\"399.511719\" xlink:href=\"#DejaVuSans-41\"/>\n     </g>\n    </g>\n    <g id=\"line2d_33\">\n     <path d=\"M 304.089063 93.689062 \nL 324.089063 93.689062 \n\" style=\"fill:none;stroke:#8c564b;stroke-linecap:square;stroke-width:1.5;\"/>\n    </g>\n    <g id=\"line2d_34\"/>\n    <g id=\"text_23\">\n     <!-- P(die=6) -->\n     <defs>\n      <path d=\"M 33.015625 40.375 \nQ 26.375 40.375 22.484375 35.828125 \nQ 18.609375 31.296875 18.609375 23.390625 \nQ 18.609375 15.53125 22.484375 10.953125 \nQ 26.375 6.390625 33.015625 6.390625 \nQ 39.65625 6.390625 43.53125 10.953125 \nQ 47.40625 15.53125 47.40625 23.390625 \nQ 47.40625 31.296875 43.53125 35.828125 \nQ 39.65625 40.375 33.015625 40.375 \nz\nM 52.59375 71.296875 \nL 52.59375 62.3125 \nQ 48.875 64.0625 45.09375 64.984375 \nQ 41.3125 65.921875 37.59375 65.921875 \nQ 27.828125 65.921875 22.671875 59.328125 \nQ 17.53125 52.734375 16.796875 39.40625 \nQ 19.671875 43.65625 24.015625 45.921875 \nQ 28.375 48.1875 33.59375 48.1875 \nQ 44.578125 48.1875 50.953125 41.515625 \nQ 57.328125 34.859375 57.328125 23.390625 \nQ 57.328125 12.15625 50.6875 5.359375 \nQ 44.046875 -1.421875 33.015625 -1.421875 \nQ 20.359375 -1.421875 13.671875 8.265625 \nQ 6.984375 17.96875 6.984375 36.375 \nQ 6.984375 53.65625 15.1875 63.9375 \nQ 23.390625 74.21875 37.203125 74.21875 \nQ 40.921875 74.21875 44.703125 73.484375 \nQ 48.484375 72.75 52.59375 71.296875 \nz\n\" id=\"DejaVuSans-54\"/>\n     </defs>\n     <g transform=\"translate(332.089063 97.189062)scale(0.1 -0.1)\">\n      <use xlink:href=\"#DejaVuSans-80\"/>\n      <use x=\"60.302734\" xlink:href=\"#DejaVuSans-40\"/>\n      <use x=\"99.316406\" xlink:href=\"#DejaVuSans-100\"/>\n      <use x=\"162.792969\" xlink:href=\"#DejaVuSans-105\"/>\n      <use x=\"190.576172\" xlink:href=\"#DejaVuSans-101\"/>\n      <use x=\"252.099609\" xlink:href=\"#DejaVuSans-61\"/>\n      <use x=\"335.888672\" xlink:href=\"#DejaVuSans-54\"/>\n      <use x=\"399.511719\" xlink:href=\"#DejaVuSans-41\"/>\n     </g>\n    </g>\n   </g>\n  </g>\n </g>\n <defs>\n  <clipPath id=\"p8015c9ccc0\">\n   <rect height=\"244.62\" width=\"334.8\" x=\"50.14375\" y=\"7.2\"/>\n  </clipPath>\n </defs>\n</svg>\n"
          },
          "metadata": {
            "needs_background": "light"
          }
        }
      ]
    },
    {
      "cell_type": "code",
      "metadata": {
        "colab": {
          "base_uri": "https://localhost:8080/",
          "height": 69
        },
        "id": "bCo8e74uOFG2",
        "outputId": "4e14a1a2-b25f-425a-88b2-7151623b0e69"
      },
      "source": [
        "%%time\n",
        "\n",
        "'Documentation'"
      ],
      "execution_count": 99,
      "outputs": [
        {
          "output_type": "stream",
          "name": "stdout",
          "text": [
            "CPU times: user 4 µs, sys: 1e+03 ns, total: 5 µs\n",
            "Wall time: 8.82 µs\n"
          ]
        },
        {
          "output_type": "execute_result",
          "data": {
            "application/vnd.google.colaboratory.intrinsic+json": {
              "type": "string"
            },
            "text/plain": [
              "'Documentation'"
            ]
          },
          "metadata": {},
          "execution_count": 99
        }
      ]
    },
    {
      "cell_type": "code",
      "metadata": {
        "colab": {
          "base_uri": "https://localhost:8080/"
        },
        "id": "1QgJc8P5OFIl",
        "outputId": "fb18e648-127b-4fa0-e11a-7b0d29fa6b94"
      },
      "source": [
        "%%time\n",
        "\n",
        "import torch\n",
        "\n",
        "print(dir(torch.distributions))"
      ],
      "execution_count": 100,
      "outputs": [
        {
          "output_type": "stream",
          "name": "stdout",
          "text": [
            "['AbsTransform', 'AffineTransform', 'Bernoulli', 'Beta', 'Binomial', 'CatTransform', 'Categorical', 'Cauchy', 'Chi2', 'ComposeTransform', 'ContinuousBernoulli', 'CorrCholeskyTransform', 'Dirichlet', 'Distribution', 'ExpTransform', 'Exponential', 'ExponentialFamily', 'FisherSnedecor', 'Gamma', 'Geometric', 'Gumbel', 'HalfCauchy', 'HalfNormal', 'Independent', 'IndependentTransform', 'Kumaraswamy', 'LKJCholesky', 'Laplace', 'LogNormal', 'LogisticNormal', 'LowRankMultivariateNormal', 'LowerCholeskyTransform', 'MixtureSameFamily', 'Multinomial', 'MultivariateNormal', 'NegativeBinomial', 'Normal', 'OneHotCategorical', 'OneHotCategoricalStraightThrough', 'Pareto', 'Poisson', 'PowerTransform', 'RelaxedBernoulli', 'RelaxedOneHotCategorical', 'ReshapeTransform', 'SigmoidTransform', 'SoftmaxTransform', 'StackTransform', 'StickBreakingTransform', 'StudentT', 'TanhTransform', 'Transform', 'TransformedDistribution', 'Uniform', 'VonMises', 'Weibull', '__all__', '__builtins__', '__cached__', '__doc__', '__file__', '__loader__', '__name__', '__package__', '__path__', '__spec__', 'bernoulli', 'beta', 'biject_to', 'binomial', 'categorical', 'cauchy', 'chi2', 'constraint_registry', 'constraints', 'continuous_bernoulli', 'dirichlet', 'distribution', 'exp_family', 'exponential', 'fishersnedecor', 'gamma', 'geometric', 'gumbel', 'half_cauchy', 'half_normal', 'identity_transform', 'independent', 'kl', 'kl_divergence', 'kumaraswamy', 'laplace', 'lkj_cholesky', 'log_normal', 'logistic_normal', 'lowrank_multivariate_normal', 'mixture_same_family', 'multinomial', 'multivariate_normal', 'negative_binomial', 'normal', 'one_hot_categorical', 'pareto', 'poisson', 'register_kl', 'relaxed_bernoulli', 'relaxed_categorical', 'studentT', 'transform_to', 'transformed_distribution', 'transforms', 'uniform', 'utils', 'von_mises', 'weibull']\n",
            "CPU times: user 637 µs, sys: 950 µs, total: 1.59 ms\n",
            "Wall time: 1.42 ms\n"
          ]
        }
      ]
    },
    {
      "cell_type": "code",
      "metadata": {
        "colab": {
          "base_uri": "https://localhost:8080/"
        },
        "id": "zy4ds3GeOFON",
        "outputId": "52c929da-abbd-41e6-831c-9247440dae58"
      },
      "source": [
        "%%time\n",
        "\n",
        "help(torch.ones)"
      ],
      "execution_count": 101,
      "outputs": [
        {
          "output_type": "stream",
          "name": "stdout",
          "text": [
            "Help on built-in function ones:\n",
            "\n",
            "ones(...)\n",
            "    ones(*size, *, out=None, dtype=None, layout=torch.strided, device=None, requires_grad=False) -> Tensor\n",
            "    \n",
            "    Returns a tensor filled with the scalar value `1`, with the shape defined\n",
            "    by the variable argument :attr:`size`.\n",
            "    \n",
            "    Args:\n",
            "        size (int...): a sequence of integers defining the shape of the output tensor.\n",
            "            Can be a variable number of arguments or a collection like a list or tuple.\n",
            "    \n",
            "    Keyword arguments:\n",
            "        out (Tensor, optional): the output tensor.\n",
            "        dtype (:class:`torch.dtype`, optional): the desired data type of returned tensor.\n",
            "            Default: if ``None``, uses a global default (see :func:`torch.set_default_tensor_type`).\n",
            "        layout (:class:`torch.layout`, optional): the desired layout of returned Tensor.\n",
            "            Default: ``torch.strided``.\n",
            "        device (:class:`torch.device`, optional): the desired device of returned tensor.\n",
            "            Default: if ``None``, uses the current device for the default tensor type\n",
            "            (see :func:`torch.set_default_tensor_type`). :attr:`device` will be the CPU\n",
            "            for CPU tensor types and the current CUDA device for CUDA tensor types.\n",
            "        requires_grad (bool, optional): If autograd should record operations on the\n",
            "            returned tensor. Default: ``False``.\n",
            "    \n",
            "    Example::\n",
            "    \n",
            "        >>> torch.ones(2, 3)\n",
            "        tensor([[ 1.,  1.,  1.],\n",
            "                [ 1.,  1.,  1.]])\n",
            "    \n",
            "        >>> torch.ones(5)\n",
            "        tensor([ 1.,  1.,  1.,  1.,  1.])\n",
            "\n",
            "CPU times: user 2.39 ms, sys: 910 µs, total: 3.3 ms\n",
            "Wall time: 3.28 ms\n"
          ]
        }
      ]
    },
    {
      "cell_type": "code",
      "metadata": {
        "colab": {
          "base_uri": "https://localhost:8080/"
        },
        "id": "alcwmrHLOFP6",
        "outputId": "3e1aa7cb-3e83-4f74-f108-c9ad5ddc85aa"
      },
      "source": [
        "%%time\n",
        "\n",
        "torch.ones(4)"
      ],
      "execution_count": 102,
      "outputs": [
        {
          "output_type": "stream",
          "name": "stdout",
          "text": [
            "CPU times: user 1.32 ms, sys: 0 ns, total: 1.32 ms\n",
            "Wall time: 1.38 ms\n"
          ]
        },
        {
          "output_type": "execute_result",
          "data": {
            "text/plain": [
              "tensor([1., 1., 1., 1.])"
            ]
          },
          "metadata": {},
          "execution_count": 102
        }
      ]
    },
    {
      "cell_type": "code",
      "metadata": {
        "colab": {
          "base_uri": "https://localhost:8080/"
        },
        "id": "AbT42wPkOGYP",
        "outputId": "53593012-e05d-4097-d4ce-45aed4466e53"
      },
      "source": [
        "%%time\n",
        "\n",
        "help(torch.add)"
      ],
      "execution_count": 103,
      "outputs": [
        {
          "output_type": "stream",
          "name": "stdout",
          "text": [
            "Help on built-in function add:\n",
            "\n",
            "add(...)\n",
            "    add(input, other, *, out=None) -> Tensor\n",
            "    \n",
            "    Adds the scalar :attr:`other` to each element of the input :attr:`input`\n",
            "    and returns a new resulting tensor.\n",
            "    \n",
            "    .. math::\n",
            "        \\text{out} = \\text{input} + \\text{other}\n",
            "    \n",
            "    If :attr:`input` is of type FloatTensor or DoubleTensor, :attr:`other` must be\n",
            "    a real number, otherwise it should be an integer.\n",
            "    \n",
            "    Args:\n",
            "        input (Tensor): the input tensor.\n",
            "        other (Number): the number to be added to each element of :attr:`input`\n",
            "    \n",
            "    Keyword arguments:\n",
            "        out (Tensor, optional): the output tensor.\n",
            "    \n",
            "    Example::\n",
            "    \n",
            "        >>> a = torch.randn(4)\n",
            "        >>> a\n",
            "        tensor([ 0.0202,  1.0985,  1.3506, -0.6056])\n",
            "        >>> torch.add(a, 20)\n",
            "        tensor([ 20.0202,  21.0985,  21.3506,  19.3944])\n",
            "    \n",
            "    .. function:: add(input, other, *, alpha=1, out=None) -> Tensor\n",
            "    \n",
            "    Each element of the tensor :attr:`other` is multiplied by the scalar\n",
            "    :attr:`alpha` and added to each element of the tensor :attr:`input`.\n",
            "    The resulting tensor is returned.\n",
            "    \n",
            "    The shapes of :attr:`input` and :attr:`other` must be\n",
            "    :ref:`broadcastable <broadcasting-semantics>`.\n",
            "    \n",
            "    .. math::\n",
            "        \\text{out} = \\text{input} + \\text{alpha} \\times \\text{other}\n",
            "    \n",
            "    If :attr:`other` is of type FloatTensor or DoubleTensor, :attr:`alpha` must be\n",
            "    a real number, otherwise it should be an integer.\n",
            "    \n",
            "    Args:\n",
            "        input (Tensor): the first input tensor\n",
            "        other (Tensor): the second input tensor\n",
            "    \n",
            "    Keyword args:\n",
            "        alpha (Number): the scalar multiplier for :attr:`other`\n",
            "        out (Tensor, optional): the output tensor.\n",
            "    \n",
            "    Example::\n",
            "    \n",
            "        >>> a = torch.randn(4)\n",
            "        >>> a\n",
            "        tensor([-0.9732, -0.3497,  0.6245,  0.4022])\n",
            "        >>> b = torch.randn(4, 1)\n",
            "        >>> b\n",
            "        tensor([[ 0.3743],\n",
            "                [-1.7724],\n",
            "                [-0.5811],\n",
            "                [-0.8017]])\n",
            "        >>> torch.add(a, b, alpha=10)\n",
            "        tensor([[  2.7695,   3.3930,   4.3672,   4.1450],\n",
            "                [-18.6971, -18.0736, -17.0994, -17.3216],\n",
            "                [ -6.7845,  -6.1610,  -5.1868,  -5.4090],\n",
            "                [ -8.9902,  -8.3667,  -7.3925,  -7.6147]])\n",
            "\n",
            "CPU times: user 2.54 ms, sys: 0 ns, total: 2.54 ms\n",
            "Wall time: 2.84 ms\n"
          ]
        }
      ]
    },
    {
      "cell_type": "code",
      "metadata": {
        "id": "HcSodOwFOGbD"
      },
      "source": [
        ""
      ],
      "execution_count": 103,
      "outputs": []
    }
  ]
}